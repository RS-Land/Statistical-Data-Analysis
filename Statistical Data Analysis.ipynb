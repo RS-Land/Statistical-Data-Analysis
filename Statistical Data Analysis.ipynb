{
 "cells": [
  {
   "cell_type": "markdown",
   "metadata": {},
   "source": [
    "# Preliminary analysis of the telecom plans"
   ]
  },
  {
   "cell_type": "markdown",
   "metadata": {},
   "source": [
    "The company Megaline offers its clients two prepaid plans, Surf and Ultimate. The commercial department wants to know which of the plans brings in more revenue in order to adjust the advertising budget."
   ]
  },
  {
   "cell_type": "markdown",
   "metadata": {},
   "source": [
    "We are going to carry out a preliminary analysis of the plans based on a relatively small client selection. We have the data on 500 Megaline clients: who the clients are, where they're from, which plan they use, and the number of calls they made and text messages they sent in 2018. The job is to analyze clients' behavior and determine which prepaid plan brings in more revenue."
   ]
  },
  {
   "cell_type": "markdown",
   "metadata": {},
   "source": [
    "## Open the data file and study the general information"
   ]
  },
  {
   "cell_type": "markdown",
   "metadata": {},
   "source": [
    "### Data"
   ]
  },
  {
   "cell_type": "code",
   "execution_count": 217,
   "metadata": {},
   "outputs": [],
   "source": [
    "import pandas as pd\n",
    "import matplotlib.pyplot as plt\n",
    "import numpy as np \n",
    "import seaborn as sns\n",
    "from scipy import stats as st"
   ]
  },
  {
   "cell_type": "code",
   "execution_count": 218,
   "metadata": {},
   "outputs": [],
   "source": [
    "calls=pd.read_csv('/datasets/megaline_calls.csv')\n",
    "internet=pd.read_csv('/datasets/megaline_internet.csv')\n",
    "messages=pd.read_csv('/datasets/megaline_messages.csv')\n",
    "plans=pd.read_csv('/datasets/megaline_plans.csv')\n",
    "users=pd.read_csv('/datasets/megaline_users.csv')"
   ]
  },
  {
   "cell_type": "code",
   "execution_count": 219,
   "metadata": {},
   "outputs": [
    {
     "data": {
      "text/html": [
       "<div>\n",
       "<style scoped>\n",
       "    .dataframe tbody tr th:only-of-type {\n",
       "        vertical-align: middle;\n",
       "    }\n",
       "\n",
       "    .dataframe tbody tr th {\n",
       "        vertical-align: top;\n",
       "    }\n",
       "\n",
       "    .dataframe thead th {\n",
       "        text-align: right;\n",
       "    }\n",
       "</style>\n",
       "<table border=\"1\" class=\"dataframe\">\n",
       "  <thead>\n",
       "    <tr style=\"text-align: right;\">\n",
       "      <th></th>\n",
       "      <th>id</th>\n",
       "      <th>user_id</th>\n",
       "      <th>call_date</th>\n",
       "      <th>duration</th>\n",
       "    </tr>\n",
       "  </thead>\n",
       "  <tbody>\n",
       "    <tr>\n",
       "      <td>0</td>\n",
       "      <td>1000_93</td>\n",
       "      <td>1000</td>\n",
       "      <td>2018-12-27</td>\n",
       "      <td>8.52</td>\n",
       "    </tr>\n",
       "    <tr>\n",
       "      <td>1</td>\n",
       "      <td>1000_145</td>\n",
       "      <td>1000</td>\n",
       "      <td>2018-12-27</td>\n",
       "      <td>13.66</td>\n",
       "    </tr>\n",
       "    <tr>\n",
       "      <td>2</td>\n",
       "      <td>1000_247</td>\n",
       "      <td>1000</td>\n",
       "      <td>2018-12-27</td>\n",
       "      <td>14.48</td>\n",
       "    </tr>\n",
       "    <tr>\n",
       "      <td>3</td>\n",
       "      <td>1000_309</td>\n",
       "      <td>1000</td>\n",
       "      <td>2018-12-28</td>\n",
       "      <td>5.76</td>\n",
       "    </tr>\n",
       "    <tr>\n",
       "      <td>4</td>\n",
       "      <td>1000_380</td>\n",
       "      <td>1000</td>\n",
       "      <td>2018-12-30</td>\n",
       "      <td>4.22</td>\n",
       "    </tr>\n",
       "    <tr>\n",
       "      <td>5</td>\n",
       "      <td>1000_388</td>\n",
       "      <td>1000</td>\n",
       "      <td>2018-12-31</td>\n",
       "      <td>2.20</td>\n",
       "    </tr>\n",
       "    <tr>\n",
       "      <td>6</td>\n",
       "      <td>1000_510</td>\n",
       "      <td>1000</td>\n",
       "      <td>2018-12-27</td>\n",
       "      <td>5.75</td>\n",
       "    </tr>\n",
       "    <tr>\n",
       "      <td>7</td>\n",
       "      <td>1000_521</td>\n",
       "      <td>1000</td>\n",
       "      <td>2018-12-28</td>\n",
       "      <td>14.18</td>\n",
       "    </tr>\n",
       "    <tr>\n",
       "      <td>8</td>\n",
       "      <td>1000_530</td>\n",
       "      <td>1000</td>\n",
       "      <td>2018-12-28</td>\n",
       "      <td>5.77</td>\n",
       "    </tr>\n",
       "    <tr>\n",
       "      <td>9</td>\n",
       "      <td>1000_544</td>\n",
       "      <td>1000</td>\n",
       "      <td>2018-12-26</td>\n",
       "      <td>4.40</td>\n",
       "    </tr>\n",
       "    <tr>\n",
       "      <td>10</td>\n",
       "      <td>1000_693</td>\n",
       "      <td>1000</td>\n",
       "      <td>2018-12-31</td>\n",
       "      <td>4.31</td>\n",
       "    </tr>\n",
       "    <tr>\n",
       "      <td>11</td>\n",
       "      <td>1000_705</td>\n",
       "      <td>1000</td>\n",
       "      <td>2018-12-31</td>\n",
       "      <td>12.78</td>\n",
       "    </tr>\n",
       "    <tr>\n",
       "      <td>12</td>\n",
       "      <td>1000_735</td>\n",
       "      <td>1000</td>\n",
       "      <td>2018-12-29</td>\n",
       "      <td>1.70</td>\n",
       "    </tr>\n",
       "    <tr>\n",
       "      <td>13</td>\n",
       "      <td>1000_778</td>\n",
       "      <td>1000</td>\n",
       "      <td>2018-12-28</td>\n",
       "      <td>3.29</td>\n",
       "    </tr>\n",
       "    <tr>\n",
       "      <td>14</td>\n",
       "      <td>1000_826</td>\n",
       "      <td>1000</td>\n",
       "      <td>2018-12-26</td>\n",
       "      <td>9.96</td>\n",
       "    </tr>\n",
       "  </tbody>\n",
       "</table>\n",
       "</div>"
      ],
      "text/plain": [
       "          id  user_id   call_date  duration\n",
       "0    1000_93     1000  2018-12-27      8.52\n",
       "1   1000_145     1000  2018-12-27     13.66\n",
       "2   1000_247     1000  2018-12-27     14.48\n",
       "3   1000_309     1000  2018-12-28      5.76\n",
       "4   1000_380     1000  2018-12-30      4.22\n",
       "5   1000_388     1000  2018-12-31      2.20\n",
       "6   1000_510     1000  2018-12-27      5.75\n",
       "7   1000_521     1000  2018-12-28     14.18\n",
       "8   1000_530     1000  2018-12-28      5.77\n",
       "9   1000_544     1000  2018-12-26      4.40\n",
       "10  1000_693     1000  2018-12-31      4.31\n",
       "11  1000_705     1000  2018-12-31     12.78\n",
       "12  1000_735     1000  2018-12-29      1.70\n",
       "13  1000_778     1000  2018-12-28      3.29\n",
       "14  1000_826     1000  2018-12-26      9.96"
      ]
     },
     "metadata": {},
     "output_type": "display_data"
    },
    {
     "name": "stdout",
     "output_type": "stream",
     "text": [
      "<class 'pandas.core.frame.DataFrame'>\n",
      "RangeIndex: 137735 entries, 0 to 137734\n",
      "Data columns (total 4 columns):\n",
      "id           137735 non-null object\n",
      "user_id      137735 non-null int64\n",
      "call_date    137735 non-null object\n",
      "duration     137735 non-null float64\n",
      "dtypes: float64(1), int64(1), object(2)\n",
      "memory usage: 4.2+ MB\n",
      "None\n",
      "26834\n"
     ]
    }
   ],
   "source": [
    "display(calls.head(15))\n",
    "print(calls.info())\n",
    "print((calls['duration'] == 0).sum())"
   ]
  },
  {
   "cell_type": "code",
   "execution_count": 220,
   "metadata": {},
   "outputs": [
    {
     "data": {
      "text/html": [
       "<div>\n",
       "<style scoped>\n",
       "    .dataframe tbody tr th:only-of-type {\n",
       "        vertical-align: middle;\n",
       "    }\n",
       "\n",
       "    .dataframe tbody tr th {\n",
       "        vertical-align: top;\n",
       "    }\n",
       "\n",
       "    .dataframe thead th {\n",
       "        text-align: right;\n",
       "    }\n",
       "</style>\n",
       "<table border=\"1\" class=\"dataframe\">\n",
       "  <thead>\n",
       "    <tr style=\"text-align: right;\">\n",
       "      <th></th>\n",
       "      <th>id</th>\n",
       "      <th>user_id</th>\n",
       "      <th>session_date</th>\n",
       "      <th>mb_used</th>\n",
       "    </tr>\n",
       "  </thead>\n",
       "  <tbody>\n",
       "    <tr>\n",
       "      <td>0</td>\n",
       "      <td>1000_13</td>\n",
       "      <td>1000</td>\n",
       "      <td>2018-12-29</td>\n",
       "      <td>89.86</td>\n",
       "    </tr>\n",
       "    <tr>\n",
       "      <td>1</td>\n",
       "      <td>1000_204</td>\n",
       "      <td>1000</td>\n",
       "      <td>2018-12-31</td>\n",
       "      <td>0.00</td>\n",
       "    </tr>\n",
       "    <tr>\n",
       "      <td>2</td>\n",
       "      <td>1000_379</td>\n",
       "      <td>1000</td>\n",
       "      <td>2018-12-28</td>\n",
       "      <td>660.40</td>\n",
       "    </tr>\n",
       "    <tr>\n",
       "      <td>3</td>\n",
       "      <td>1000_413</td>\n",
       "      <td>1000</td>\n",
       "      <td>2018-12-26</td>\n",
       "      <td>270.99</td>\n",
       "    </tr>\n",
       "    <tr>\n",
       "      <td>4</td>\n",
       "      <td>1000_442</td>\n",
       "      <td>1000</td>\n",
       "      <td>2018-12-27</td>\n",
       "      <td>880.22</td>\n",
       "    </tr>\n",
       "    <tr>\n",
       "      <td>5</td>\n",
       "      <td>1001_0</td>\n",
       "      <td>1001</td>\n",
       "      <td>2018-08-24</td>\n",
       "      <td>284.68</td>\n",
       "    </tr>\n",
       "    <tr>\n",
       "      <td>6</td>\n",
       "      <td>1001_3</td>\n",
       "      <td>1001</td>\n",
       "      <td>2018-12-09</td>\n",
       "      <td>656.04</td>\n",
       "    </tr>\n",
       "    <tr>\n",
       "      <td>7</td>\n",
       "      <td>1001_4</td>\n",
       "      <td>1001</td>\n",
       "      <td>2018-11-04</td>\n",
       "      <td>16.97</td>\n",
       "    </tr>\n",
       "    <tr>\n",
       "      <td>8</td>\n",
       "      <td>1001_10</td>\n",
       "      <td>1001</td>\n",
       "      <td>2018-11-27</td>\n",
       "      <td>135.18</td>\n",
       "    </tr>\n",
       "    <tr>\n",
       "      <td>9</td>\n",
       "      <td>1001_15</td>\n",
       "      <td>1001</td>\n",
       "      <td>2018-12-13</td>\n",
       "      <td>761.92</td>\n",
       "    </tr>\n",
       "    <tr>\n",
       "      <td>10</td>\n",
       "      <td>1001_16</td>\n",
       "      <td>1001</td>\n",
       "      <td>2018-10-28</td>\n",
       "      <td>501.53</td>\n",
       "    </tr>\n",
       "    <tr>\n",
       "      <td>11</td>\n",
       "      <td>1001_17</td>\n",
       "      <td>1001</td>\n",
       "      <td>2018-09-05</td>\n",
       "      <td>727.29</td>\n",
       "    </tr>\n",
       "    <tr>\n",
       "      <td>12</td>\n",
       "      <td>1001_24</td>\n",
       "      <td>1001</td>\n",
       "      <td>2018-09-05</td>\n",
       "      <td>622.03</td>\n",
       "    </tr>\n",
       "    <tr>\n",
       "      <td>13</td>\n",
       "      <td>1001_25</td>\n",
       "      <td>1001</td>\n",
       "      <td>2018-10-14</td>\n",
       "      <td>310.43</td>\n",
       "    </tr>\n",
       "    <tr>\n",
       "      <td>14</td>\n",
       "      <td>1001_26</td>\n",
       "      <td>1001</td>\n",
       "      <td>2018-09-17</td>\n",
       "      <td>0.00</td>\n",
       "    </tr>\n",
       "  </tbody>\n",
       "</table>\n",
       "</div>"
      ],
      "text/plain": [
       "          id  user_id session_date  mb_used\n",
       "0    1000_13     1000   2018-12-29    89.86\n",
       "1   1000_204     1000   2018-12-31     0.00\n",
       "2   1000_379     1000   2018-12-28   660.40\n",
       "3   1000_413     1000   2018-12-26   270.99\n",
       "4   1000_442     1000   2018-12-27   880.22\n",
       "5     1001_0     1001   2018-08-24   284.68\n",
       "6     1001_3     1001   2018-12-09   656.04\n",
       "7     1001_4     1001   2018-11-04    16.97\n",
       "8    1001_10     1001   2018-11-27   135.18\n",
       "9    1001_15     1001   2018-12-13   761.92\n",
       "10   1001_16     1001   2018-10-28   501.53\n",
       "11   1001_17     1001   2018-09-05   727.29\n",
       "12   1001_24     1001   2018-09-05   622.03\n",
       "13   1001_25     1001   2018-10-14   310.43\n",
       "14   1001_26     1001   2018-09-17     0.00"
      ]
     },
     "metadata": {},
     "output_type": "display_data"
    },
    {
     "name": "stdout",
     "output_type": "stream",
     "text": [
      "<class 'pandas.core.frame.DataFrame'>\n",
      "RangeIndex: 104825 entries, 0 to 104824\n",
      "Data columns (total 4 columns):\n",
      "id              104825 non-null object\n",
      "user_id         104825 non-null int64\n",
      "session_date    104825 non-null object\n",
      "mb_used         104825 non-null float64\n",
      "dtypes: float64(1), int64(1), object(2)\n",
      "memory usage: 3.2+ MB\n",
      "None\n"
     ]
    }
   ],
   "source": [
    "display(internet.head(15))\n",
    "print(internet.info())"
   ]
  },
  {
   "cell_type": "code",
   "execution_count": 221,
   "metadata": {},
   "outputs": [
    {
     "data": {
      "text/html": [
       "<div>\n",
       "<style scoped>\n",
       "    .dataframe tbody tr th:only-of-type {\n",
       "        vertical-align: middle;\n",
       "    }\n",
       "\n",
       "    .dataframe tbody tr th {\n",
       "        vertical-align: top;\n",
       "    }\n",
       "\n",
       "    .dataframe thead th {\n",
       "        text-align: right;\n",
       "    }\n",
       "</style>\n",
       "<table border=\"1\" class=\"dataframe\">\n",
       "  <thead>\n",
       "    <tr style=\"text-align: right;\">\n",
       "      <th></th>\n",
       "      <th>id</th>\n",
       "      <th>user_id</th>\n",
       "      <th>message_date</th>\n",
       "    </tr>\n",
       "  </thead>\n",
       "  <tbody>\n",
       "    <tr>\n",
       "      <td>0</td>\n",
       "      <td>1000_125</td>\n",
       "      <td>1000</td>\n",
       "      <td>2018-12-27</td>\n",
       "    </tr>\n",
       "    <tr>\n",
       "      <td>1</td>\n",
       "      <td>1000_160</td>\n",
       "      <td>1000</td>\n",
       "      <td>2018-12-31</td>\n",
       "    </tr>\n",
       "    <tr>\n",
       "      <td>2</td>\n",
       "      <td>1000_223</td>\n",
       "      <td>1000</td>\n",
       "      <td>2018-12-31</td>\n",
       "    </tr>\n",
       "    <tr>\n",
       "      <td>3</td>\n",
       "      <td>1000_251</td>\n",
       "      <td>1000</td>\n",
       "      <td>2018-12-27</td>\n",
       "    </tr>\n",
       "    <tr>\n",
       "      <td>4</td>\n",
       "      <td>1000_255</td>\n",
       "      <td>1000</td>\n",
       "      <td>2018-12-26</td>\n",
       "    </tr>\n",
       "    <tr>\n",
       "      <td>5</td>\n",
       "      <td>1000_346</td>\n",
       "      <td>1000</td>\n",
       "      <td>2018-12-29</td>\n",
       "    </tr>\n",
       "    <tr>\n",
       "      <td>6</td>\n",
       "      <td>1000_386</td>\n",
       "      <td>1000</td>\n",
       "      <td>2018-12-30</td>\n",
       "    </tr>\n",
       "    <tr>\n",
       "      <td>7</td>\n",
       "      <td>1000_413</td>\n",
       "      <td>1000</td>\n",
       "      <td>2018-12-31</td>\n",
       "    </tr>\n",
       "    <tr>\n",
       "      <td>8</td>\n",
       "      <td>1000_502</td>\n",
       "      <td>1000</td>\n",
       "      <td>2018-12-27</td>\n",
       "    </tr>\n",
       "    <tr>\n",
       "      <td>9</td>\n",
       "      <td>1000_525</td>\n",
       "      <td>1000</td>\n",
       "      <td>2018-12-28</td>\n",
       "    </tr>\n",
       "    <tr>\n",
       "      <td>10</td>\n",
       "      <td>1000_567</td>\n",
       "      <td>1000</td>\n",
       "      <td>2018-12-25</td>\n",
       "    </tr>\n",
       "    <tr>\n",
       "      <td>11</td>\n",
       "      <td>1001_1</td>\n",
       "      <td>1001</td>\n",
       "      <td>2018-11-14</td>\n",
       "    </tr>\n",
       "    <tr>\n",
       "      <td>12</td>\n",
       "      <td>1001_2</td>\n",
       "      <td>1001</td>\n",
       "      <td>2018-08-17</td>\n",
       "    </tr>\n",
       "    <tr>\n",
       "      <td>13</td>\n",
       "      <td>1001_5</td>\n",
       "      <td>1001</td>\n",
       "      <td>2018-12-05</td>\n",
       "    </tr>\n",
       "    <tr>\n",
       "      <td>14</td>\n",
       "      <td>1001_7</td>\n",
       "      <td>1001</td>\n",
       "      <td>2018-11-28</td>\n",
       "    </tr>\n",
       "  </tbody>\n",
       "</table>\n",
       "</div>"
      ],
      "text/plain": [
       "          id  user_id message_date\n",
       "0   1000_125     1000   2018-12-27\n",
       "1   1000_160     1000   2018-12-31\n",
       "2   1000_223     1000   2018-12-31\n",
       "3   1000_251     1000   2018-12-27\n",
       "4   1000_255     1000   2018-12-26\n",
       "5   1000_346     1000   2018-12-29\n",
       "6   1000_386     1000   2018-12-30\n",
       "7   1000_413     1000   2018-12-31\n",
       "8   1000_502     1000   2018-12-27\n",
       "9   1000_525     1000   2018-12-28\n",
       "10  1000_567     1000   2018-12-25\n",
       "11    1001_1     1001   2018-11-14\n",
       "12    1001_2     1001   2018-08-17\n",
       "13    1001_5     1001   2018-12-05\n",
       "14    1001_7     1001   2018-11-28"
      ]
     },
     "metadata": {},
     "output_type": "display_data"
    },
    {
     "name": "stdout",
     "output_type": "stream",
     "text": [
      "<class 'pandas.core.frame.DataFrame'>\n",
      "RangeIndex: 76051 entries, 0 to 76050\n",
      "Data columns (total 3 columns):\n",
      "id              76051 non-null object\n",
      "user_id         76051 non-null int64\n",
      "message_date    76051 non-null object\n",
      "dtypes: int64(1), object(2)\n",
      "memory usage: 1.7+ MB\n",
      "None\n"
     ]
    }
   ],
   "source": [
    "display(messages.head(15))\n",
    "print(messages.info())"
   ]
  },
  {
   "cell_type": "code",
   "execution_count": 222,
   "metadata": {},
   "outputs": [
    {
     "data": {
      "text/html": [
       "<div>\n",
       "<style scoped>\n",
       "    .dataframe tbody tr th:only-of-type {\n",
       "        vertical-align: middle;\n",
       "    }\n",
       "\n",
       "    .dataframe tbody tr th {\n",
       "        vertical-align: top;\n",
       "    }\n",
       "\n",
       "    .dataframe thead th {\n",
       "        text-align: right;\n",
       "    }\n",
       "</style>\n",
       "<table border=\"1\" class=\"dataframe\">\n",
       "  <thead>\n",
       "    <tr style=\"text-align: right;\">\n",
       "      <th></th>\n",
       "      <th>messages_included</th>\n",
       "      <th>mb_per_month_included</th>\n",
       "      <th>minutes_included</th>\n",
       "      <th>usd_monthly_pay</th>\n",
       "      <th>usd_per_gb</th>\n",
       "      <th>usd_per_message</th>\n",
       "      <th>usd_per_minute</th>\n",
       "      <th>plan_name</th>\n",
       "    </tr>\n",
       "  </thead>\n",
       "  <tbody>\n",
       "    <tr>\n",
       "      <td>0</td>\n",
       "      <td>50</td>\n",
       "      <td>15360</td>\n",
       "      <td>500</td>\n",
       "      <td>20</td>\n",
       "      <td>10</td>\n",
       "      <td>0.03</td>\n",
       "      <td>0.03</td>\n",
       "      <td>surf</td>\n",
       "    </tr>\n",
       "    <tr>\n",
       "      <td>1</td>\n",
       "      <td>1000</td>\n",
       "      <td>30720</td>\n",
       "      <td>3000</td>\n",
       "      <td>70</td>\n",
       "      <td>7</td>\n",
       "      <td>0.01</td>\n",
       "      <td>0.01</td>\n",
       "      <td>ultimate</td>\n",
       "    </tr>\n",
       "  </tbody>\n",
       "</table>\n",
       "</div>"
      ],
      "text/plain": [
       "   messages_included  mb_per_month_included  minutes_included  \\\n",
       "0                 50                  15360               500   \n",
       "1               1000                  30720              3000   \n",
       "\n",
       "   usd_monthly_pay  usd_per_gb  usd_per_message  usd_per_minute plan_name  \n",
       "0               20          10             0.03            0.03      surf  \n",
       "1               70           7             0.01            0.01  ultimate  "
      ]
     },
     "metadata": {},
     "output_type": "display_data"
    },
    {
     "name": "stdout",
     "output_type": "stream",
     "text": [
      "<class 'pandas.core.frame.DataFrame'>\n",
      "RangeIndex: 2 entries, 0 to 1\n",
      "Data columns (total 8 columns):\n",
      "messages_included        2 non-null int64\n",
      "mb_per_month_included    2 non-null int64\n",
      "minutes_included         2 non-null int64\n",
      "usd_monthly_pay          2 non-null int64\n",
      "usd_per_gb               2 non-null int64\n",
      "usd_per_message          2 non-null float64\n",
      "usd_per_minute           2 non-null float64\n",
      "plan_name                2 non-null object\n",
      "dtypes: float64(2), int64(5), object(1)\n",
      "memory usage: 256.0+ bytes\n",
      "None\n"
     ]
    }
   ],
   "source": [
    "display(plans.head(15))\n",
    "print(plans.info())"
   ]
  },
  {
   "cell_type": "code",
   "execution_count": 223,
   "metadata": {},
   "outputs": [
    {
     "data": {
      "text/html": [
       "<div>\n",
       "<style scoped>\n",
       "    .dataframe tbody tr th:only-of-type {\n",
       "        vertical-align: middle;\n",
       "    }\n",
       "\n",
       "    .dataframe tbody tr th {\n",
       "        vertical-align: top;\n",
       "    }\n",
       "\n",
       "    .dataframe thead th {\n",
       "        text-align: right;\n",
       "    }\n",
       "</style>\n",
       "<table border=\"1\" class=\"dataframe\">\n",
       "  <thead>\n",
       "    <tr style=\"text-align: right;\">\n",
       "      <th></th>\n",
       "      <th>user_id</th>\n",
       "      <th>first_name</th>\n",
       "      <th>last_name</th>\n",
       "      <th>age</th>\n",
       "      <th>city</th>\n",
       "      <th>reg_date</th>\n",
       "      <th>plan</th>\n",
       "      <th>churn_date</th>\n",
       "    </tr>\n",
       "  </thead>\n",
       "  <tbody>\n",
       "    <tr>\n",
       "      <td>0</td>\n",
       "      <td>1000</td>\n",
       "      <td>Anamaria</td>\n",
       "      <td>Bauer</td>\n",
       "      <td>45</td>\n",
       "      <td>Atlanta-Sandy Springs-Roswell, GA MSA</td>\n",
       "      <td>2018-12-24</td>\n",
       "      <td>ultimate</td>\n",
       "      <td>NaN</td>\n",
       "    </tr>\n",
       "    <tr>\n",
       "      <td>1</td>\n",
       "      <td>1001</td>\n",
       "      <td>Mickey</td>\n",
       "      <td>Wilkerson</td>\n",
       "      <td>28</td>\n",
       "      <td>Seattle-Tacoma-Bellevue, WA MSA</td>\n",
       "      <td>2018-08-13</td>\n",
       "      <td>surf</td>\n",
       "      <td>NaN</td>\n",
       "    </tr>\n",
       "    <tr>\n",
       "      <td>2</td>\n",
       "      <td>1002</td>\n",
       "      <td>Carlee</td>\n",
       "      <td>Hoffman</td>\n",
       "      <td>36</td>\n",
       "      <td>Las Vegas-Henderson-Paradise, NV MSA</td>\n",
       "      <td>2018-10-21</td>\n",
       "      <td>surf</td>\n",
       "      <td>NaN</td>\n",
       "    </tr>\n",
       "    <tr>\n",
       "      <td>3</td>\n",
       "      <td>1003</td>\n",
       "      <td>Reynaldo</td>\n",
       "      <td>Jenkins</td>\n",
       "      <td>52</td>\n",
       "      <td>Tulsa, OK MSA</td>\n",
       "      <td>2018-01-28</td>\n",
       "      <td>surf</td>\n",
       "      <td>NaN</td>\n",
       "    </tr>\n",
       "    <tr>\n",
       "      <td>4</td>\n",
       "      <td>1004</td>\n",
       "      <td>Leonila</td>\n",
       "      <td>Thompson</td>\n",
       "      <td>40</td>\n",
       "      <td>Seattle-Tacoma-Bellevue, WA MSA</td>\n",
       "      <td>2018-05-23</td>\n",
       "      <td>surf</td>\n",
       "      <td>NaN</td>\n",
       "    </tr>\n",
       "    <tr>\n",
       "      <td>5</td>\n",
       "      <td>1005</td>\n",
       "      <td>Livia</td>\n",
       "      <td>Shields</td>\n",
       "      <td>31</td>\n",
       "      <td>Dallas-Fort Worth-Arlington, TX MSA</td>\n",
       "      <td>2018-11-29</td>\n",
       "      <td>surf</td>\n",
       "      <td>NaN</td>\n",
       "    </tr>\n",
       "    <tr>\n",
       "      <td>6</td>\n",
       "      <td>1006</td>\n",
       "      <td>Jesusa</td>\n",
       "      <td>Bradford</td>\n",
       "      <td>73</td>\n",
       "      <td>San Francisco-Oakland-Berkeley, CA MSA</td>\n",
       "      <td>2018-11-27</td>\n",
       "      <td>ultimate</td>\n",
       "      <td>2018-12-18</td>\n",
       "    </tr>\n",
       "    <tr>\n",
       "      <td>7</td>\n",
       "      <td>1007</td>\n",
       "      <td>Eusebio</td>\n",
       "      <td>Welch</td>\n",
       "      <td>42</td>\n",
       "      <td>Grand Rapids-Kentwood, MI MSA</td>\n",
       "      <td>2018-07-11</td>\n",
       "      <td>surf</td>\n",
       "      <td>NaN</td>\n",
       "    </tr>\n",
       "    <tr>\n",
       "      <td>8</td>\n",
       "      <td>1008</td>\n",
       "      <td>Emely</td>\n",
       "      <td>Hoffman</td>\n",
       "      <td>53</td>\n",
       "      <td>Orlando-Kissimmee-Sanford, FL MSA</td>\n",
       "      <td>2018-08-03</td>\n",
       "      <td>ultimate</td>\n",
       "      <td>NaN</td>\n",
       "    </tr>\n",
       "    <tr>\n",
       "      <td>9</td>\n",
       "      <td>1009</td>\n",
       "      <td>Gerry</td>\n",
       "      <td>Little</td>\n",
       "      <td>19</td>\n",
       "      <td>San Jose-Sunnyvale-Santa Clara, CA MSA</td>\n",
       "      <td>2018-04-22</td>\n",
       "      <td>surf</td>\n",
       "      <td>NaN</td>\n",
       "    </tr>\n",
       "    <tr>\n",
       "      <td>10</td>\n",
       "      <td>1010</td>\n",
       "      <td>Wilber</td>\n",
       "      <td>Blair</td>\n",
       "      <td>52</td>\n",
       "      <td>Dallas-Fort Worth-Arlington, TX MSA</td>\n",
       "      <td>2018-03-09</td>\n",
       "      <td>surf</td>\n",
       "      <td>NaN</td>\n",
       "    </tr>\n",
       "    <tr>\n",
       "      <td>11</td>\n",
       "      <td>1011</td>\n",
       "      <td>Halina</td>\n",
       "      <td>Henry</td>\n",
       "      <td>73</td>\n",
       "      <td>Cleveland-Elyria, OH MSA</td>\n",
       "      <td>2018-01-18</td>\n",
       "      <td>ultimate</td>\n",
       "      <td>NaN</td>\n",
       "    </tr>\n",
       "    <tr>\n",
       "      <td>12</td>\n",
       "      <td>1012</td>\n",
       "      <td>Jonelle</td>\n",
       "      <td>Mcbride</td>\n",
       "      <td>59</td>\n",
       "      <td>Chicago-Naperville-Elgin, IL-IN-WI MSA</td>\n",
       "      <td>2018-06-28</td>\n",
       "      <td>surf</td>\n",
       "      <td>2018-11-16</td>\n",
       "    </tr>\n",
       "    <tr>\n",
       "      <td>13</td>\n",
       "      <td>1013</td>\n",
       "      <td>Nicolas</td>\n",
       "      <td>Snider</td>\n",
       "      <td>50</td>\n",
       "      <td>Knoxville, TN MSA</td>\n",
       "      <td>2018-12-01</td>\n",
       "      <td>ultimate</td>\n",
       "      <td>NaN</td>\n",
       "    </tr>\n",
       "    <tr>\n",
       "      <td>14</td>\n",
       "      <td>1014</td>\n",
       "      <td>Edmundo</td>\n",
       "      <td>Simon</td>\n",
       "      <td>61</td>\n",
       "      <td>New York-Newark-Jersey City, NY-NJ-PA MSA</td>\n",
       "      <td>2018-11-25</td>\n",
       "      <td>surf</td>\n",
       "      <td>NaN</td>\n",
       "    </tr>\n",
       "  </tbody>\n",
       "</table>\n",
       "</div>"
      ],
      "text/plain": [
       "    user_id first_name  last_name  age  \\\n",
       "0      1000   Anamaria      Bauer   45   \n",
       "1      1001     Mickey  Wilkerson   28   \n",
       "2      1002     Carlee    Hoffman   36   \n",
       "3      1003   Reynaldo    Jenkins   52   \n",
       "4      1004    Leonila   Thompson   40   \n",
       "5      1005      Livia    Shields   31   \n",
       "6      1006     Jesusa   Bradford   73   \n",
       "7      1007    Eusebio      Welch   42   \n",
       "8      1008      Emely    Hoffman   53   \n",
       "9      1009      Gerry     Little   19   \n",
       "10     1010     Wilber      Blair   52   \n",
       "11     1011     Halina      Henry   73   \n",
       "12     1012    Jonelle    Mcbride   59   \n",
       "13     1013    Nicolas     Snider   50   \n",
       "14     1014    Edmundo      Simon   61   \n",
       "\n",
       "                                         city    reg_date      plan  \\\n",
       "0       Atlanta-Sandy Springs-Roswell, GA MSA  2018-12-24  ultimate   \n",
       "1             Seattle-Tacoma-Bellevue, WA MSA  2018-08-13      surf   \n",
       "2        Las Vegas-Henderson-Paradise, NV MSA  2018-10-21      surf   \n",
       "3                               Tulsa, OK MSA  2018-01-28      surf   \n",
       "4             Seattle-Tacoma-Bellevue, WA MSA  2018-05-23      surf   \n",
       "5         Dallas-Fort Worth-Arlington, TX MSA  2018-11-29      surf   \n",
       "6      San Francisco-Oakland-Berkeley, CA MSA  2018-11-27  ultimate   \n",
       "7               Grand Rapids-Kentwood, MI MSA  2018-07-11      surf   \n",
       "8           Orlando-Kissimmee-Sanford, FL MSA  2018-08-03  ultimate   \n",
       "9      San Jose-Sunnyvale-Santa Clara, CA MSA  2018-04-22      surf   \n",
       "10        Dallas-Fort Worth-Arlington, TX MSA  2018-03-09      surf   \n",
       "11                   Cleveland-Elyria, OH MSA  2018-01-18  ultimate   \n",
       "12     Chicago-Naperville-Elgin, IL-IN-WI MSA  2018-06-28      surf   \n",
       "13                          Knoxville, TN MSA  2018-12-01  ultimate   \n",
       "14  New York-Newark-Jersey City, NY-NJ-PA MSA  2018-11-25      surf   \n",
       "\n",
       "    churn_date  \n",
       "0          NaN  \n",
       "1          NaN  \n",
       "2          NaN  \n",
       "3          NaN  \n",
       "4          NaN  \n",
       "5          NaN  \n",
       "6   2018-12-18  \n",
       "7          NaN  \n",
       "8          NaN  \n",
       "9          NaN  \n",
       "10         NaN  \n",
       "11         NaN  \n",
       "12  2018-11-16  \n",
       "13         NaN  \n",
       "14         NaN  "
      ]
     },
     "metadata": {},
     "output_type": "display_data"
    },
    {
     "name": "stdout",
     "output_type": "stream",
     "text": [
      "<class 'pandas.core.frame.DataFrame'>\n",
      "RangeIndex: 500 entries, 0 to 499\n",
      "Data columns (total 8 columns):\n",
      "user_id       500 non-null int64\n",
      "first_name    500 non-null object\n",
      "last_name     500 non-null object\n",
      "age           500 non-null int64\n",
      "city          500 non-null object\n",
      "reg_date      500 non-null object\n",
      "plan          500 non-null object\n",
      "churn_date    34 non-null object\n",
      "dtypes: int64(2), object(6)\n",
      "memory usage: 31.4+ KB\n",
      "None\n"
     ]
    }
   ],
   "source": [
    "display(users.head(15))\n",
    "print(users.info())"
   ]
  },
  {
   "cell_type": "markdown",
   "metadata": {},
   "source": [
    "### Conclusion"
   ]
  },
  {
   "cell_type": "markdown",
   "metadata": {},
   "source": [
    "We have the data on 500 Megaline clients: who the clients are, where they're from, which plan they use, and the number of calls they made and text messages they sent in 2018.\n",
    "Datatype of the columns that contain date will be changed accordingly.\n",
    "20% of the duration values in the calls dataset is 0, which might refer to the missing calls.\n",
    "Churn data in the users dataset is almost empty, probably because these users are still using megaline."
   ]
  },
  {
   "cell_type": "markdown",
   "metadata": {},
   "source": [
    "## Data preprocessing"
   ]
  },
  {
   "cell_type": "markdown",
   "metadata": {},
   "source": [
    "### Calls"
   ]
  },
  {
   "cell_type": "markdown",
   "metadata": {},
   "source": [
    "1. Change datatype of the dates column, add month column, since we have the data only for 2018 year\n",
    "2. Round each individual call duration up to minutes according to the company policy, datatype will become integer\n",
    "3. People are not charged for missing calls, therefore we can leave zeros in data as they are\n",
    "4. Calculate the number of calls made and minutes used per month"
   ]
  },
  {
   "cell_type": "code",
   "execution_count": 224,
   "metadata": {},
   "outputs": [
    {
     "name": "stdout",
     "output_type": "stream",
     "text": [
      "         id  user_id  call_date  duration  month_calls\n",
      "0   1000_93     1000 2018-12-27      8.52           12\n",
      "1  1000_145     1000 2018-12-27     13.66           12\n",
      "2  1000_247     1000 2018-12-27     14.48           12\n",
      "3  1000_309     1000 2018-12-28      5.76           12\n",
      "4  1000_380     1000 2018-12-30      4.22           12\n"
     ]
    }
   ],
   "source": [
    "calls['call_date'] = pd.to_datetime(calls['call_date'])\n",
    "calls['month_calls'] = calls['call_date'].dt.month\n",
    "print(calls.head(5))"
   ]
  },
  {
   "cell_type": "code",
   "execution_count": 225,
   "metadata": {},
   "outputs": [
    {
     "name": "stdout",
     "output_type": "stream",
     "text": [
      "         id  user_id  call_date  duration  month_calls\n",
      "0   1000_93     1000 2018-12-27         9           12\n",
      "1  1000_145     1000 2018-12-27        14           12\n",
      "2  1000_247     1000 2018-12-27        15           12\n",
      "3  1000_309     1000 2018-12-28         6           12\n",
      "4  1000_380     1000 2018-12-30         5           12\n",
      "<class 'pandas.core.frame.DataFrame'>\n",
      "RangeIndex: 137735 entries, 0 to 137734\n",
      "Data columns (total 5 columns):\n",
      "id             137735 non-null object\n",
      "user_id        137735 non-null int64\n",
      "call_date      137735 non-null datetime64[ns]\n",
      "duration       137735 non-null int64\n",
      "month_calls    137735 non-null int64\n",
      "dtypes: datetime64[ns](1), int64(3), object(1)\n",
      "memory usage: 5.3+ MB\n",
      "None\n"
     ]
    }
   ],
   "source": [
    "calls['duration'] = calls['duration'].apply(np.ceil)\n",
    "calls['duration'] =calls['duration'].astype('int')\n",
    "print(calls.head(5))\n",
    "print(calls.info())"
   ]
  },
  {
   "cell_type": "code",
   "execution_count": 226,
   "metadata": {},
   "outputs": [],
   "source": [
    "users['churn_date'] = pd.to_datetime(users['churn_date'])\n",
    "users['reg_date'] = pd.to_datetime(users['reg_date'])\n",
    "u = users.select_dtypes(include=['datetime'])\n",
    "users[u.columns] = u.fillna(pd.to_datetime('2018-12-31'))\n",
    "\n"
   ]
  },
  {
   "cell_type": "code",
   "execution_count": 227,
   "metadata": {},
   "outputs": [
    {
     "name": "stdout",
     "output_type": "stream",
     "text": [
      "              id  user_id  call_date  duration  month_calls first_name  \\\n",
      "68674     1247_7     1247 2018-09-22        15            9     Marion   \n",
      "133482  1483_309     1483 2018-10-22         7           10     Miguel   \n",
      "37703   1141_822     1141 2018-12-15        10           12    Kirstie   \n",
      "27719   1105_270     1105 2018-11-10        14           11    Micheal   \n",
      "105998   1374_94     1374 2018-11-13         2           11      Ching   \n",
      "\n",
      "        last_name  age                                       city   reg_date  \\\n",
      "68674   Singleton   75     Los Angeles-Long Beach-Anaheim, CA MSA 2018-04-12   \n",
      "133482    Farrell   35     Chicago-Naperville-Elgin, IL-IN-WI MSA 2018-04-25   \n",
      "37703      Hodges   46  New York-Newark-Jersey City, NY-NJ-PA MSA 2018-06-26   \n",
      "27719       Poole   57              Providence-Warwick, RI-MA MSA 2018-01-08   \n",
      "105998      Watts   55     Louisville/Jefferson County, KY-IN MSA 2018-02-14   \n",
      "\n",
      "            plan churn_date  \n",
      "68674   ultimate 2018-12-31  \n",
      "133482      surf 2018-12-31  \n",
      "37703       surf 2018-12-31  \n",
      "27719       surf 2018-12-31  \n",
      "105998      surf 2018-12-31  \n"
     ]
    }
   ],
   "source": [
    "\n",
    "calls=calls.merge(users,how='left',on='user_id')\n",
    "calls.loc[calls['call_date']>calls['churn_date'],['duration']]=0\n",
    "print(calls.sample(5))"
   ]
  },
  {
   "cell_type": "code",
   "execution_count": 228,
   "metadata": {},
   "outputs": [
    {
     "name": "stdout",
     "output_type": "stream",
     "text": [
      "   user_id  month  calls_count  minutes_month\n",
      "0     1000     12           16            124\n",
      "1     1001      8           27            182\n",
      "2     1001      9           49            315\n",
      "3     1001     10           65            393\n",
      "4     1001     11           64            426\n",
      "5     1001     12           56            412\n",
      "6     1002     10           11             59\n",
      "7     1002     11           55            386\n",
      "8     1002     12           47            384\n",
      "9     1003     12          149           1104\n",
      "<class 'pandas.core.frame.DataFrame'>\n",
      "RangeIndex: 2258 entries, 0 to 2257\n",
      "Data columns (total 4 columns):\n",
      "user_id          2258 non-null int64\n",
      "month            2258 non-null int64\n",
      "calls_count      2258 non-null int64\n",
      "minutes_month    2258 non-null int64\n",
      "dtypes: int64(4)\n",
      "memory usage: 70.7 KB\n",
      "None\n"
     ]
    }
   ],
   "source": [
    "calls_stat=calls.pivot_table(index=('user_id','month_calls'),values='duration',aggfunc=('count','sum'))\n",
    "calls_stat = pd.DataFrame(calls_stat.to_records())\n",
    "calls_stat.columns=['user_id','month','calls_count','minutes_month']\n",
    "print(calls_stat.head(10))\n",
    "print(calls_stat.info())"
   ]
  },
  {
   "cell_type": "markdown",
   "metadata": {},
   "source": [
    "### Internet"
   ]
  },
  {
   "cell_type": "markdown",
   "metadata": {},
   "source": [
    "1. Change datatype of the dates column, add month column, since we have the data only for 2018 year\n",
    "2. Calculate the volume of data per month, round up to the GB according to the company policy, datatype will become integer"
   ]
  },
  {
   "cell_type": "code",
   "execution_count": 229,
   "metadata": {},
   "outputs": [
    {
     "name": "stdout",
     "output_type": "stream",
     "text": [
      "         id  user_id session_date  mb_used  month\n",
      "0   1000_13     1000   2018-12-29    89.86     12\n",
      "1  1000_204     1000   2018-12-31     0.00     12\n",
      "2  1000_379     1000   2018-12-28   660.40     12\n",
      "3  1000_413     1000   2018-12-26   270.99     12\n",
      "4  1000_442     1000   2018-12-27   880.22     12\n"
     ]
    }
   ],
   "source": [
    "internet['session_date'] = pd.to_datetime(internet['session_date'])\n",
    "internet['month'] = internet['session_date'].dt.month\n",
    "print(internet.head(5))"
   ]
  },
  {
   "cell_type": "code",
   "execution_count": 230,
   "metadata": {},
   "outputs": [
    {
     "name": "stdout",
     "output_type": "stream",
     "text": [
      "             id  user_id session_date  mb_used  month first_name last_name  \\\n",
      "66877  1312_100     1312   2018-11-16   415.53     11       Kory   Emerson   \n",
      "86753  1403_101     1403   2018-09-17   138.33      9        Jae   Gardner   \n",
      "60550   1276_34     1276   2018-11-29   702.55     11     Karmen    Carney   \n",
      "2617   1011_357     1011   2018-09-01   343.28      9     Halina     Henry   \n",
      "49858   1223_46     1223   2018-08-09   629.87      8   Patience    Wilson   \n",
      "\n",
      "       age                                              city   reg_date  \\\n",
      "66877   42                                    Fresno, CA MSA 2018-01-26   \n",
      "86753   27  Washington-Arlington-Alexandria, DC-VA-MD-WV MSA 2018-02-06   \n",
      "60550   20                     Phoenix-Mesa-Chandler, AZ MSA 2018-02-14   \n",
      "2617    73                          Cleveland-Elyria, OH MSA 2018-01-18   \n",
      "49858   37                     Phoenix-Mesa-Chandler, AZ MSA 2018-07-05   \n",
      "\n",
      "           plan churn_date  \n",
      "66877      surf 2018-12-31  \n",
      "86753  ultimate 2018-12-31  \n",
      "60550      surf 2018-12-31  \n",
      "2617   ultimate 2018-12-31  \n",
      "49858      surf 2018-12-31  \n"
     ]
    }
   ],
   "source": [
    "\n",
    "internet=internet.merge(users,how='left')\n",
    "internet.loc[internet['session_date']>internet['churn_date'],['mb_used']]=0\n",
    "print(internet.sample(5))"
   ]
  },
  {
   "cell_type": "code",
   "execution_count": 231,
   "metadata": {},
   "outputs": [
    {
     "name": "stdout",
     "output_type": "stream",
     "text": [
      "   user_id  month  volume_month\n",
      "0     1000     12             2\n",
      "1     1001      8             7\n",
      "2     1001      9            14\n",
      "3     1001     10            22\n",
      "4     1001     11            19\n",
      "5     1001     12            19\n",
      "6     1002     10             7\n",
      "7     1002     11            19\n",
      "8     1002     12            15\n",
      "9     1003     12            27\n",
      "<class 'pandas.core.frame.DataFrame'>\n",
      "RangeIndex: 2277 entries, 0 to 2276\n",
      "Data columns (total 3 columns):\n",
      "user_id         2277 non-null int64\n",
      "month           2277 non-null int64\n",
      "volume_month    2277 non-null int64\n",
      "dtypes: int64(3)\n",
      "memory usage: 53.5 KB\n",
      "None\n"
     ]
    }
   ],
   "source": [
    "internet_stat=internet.pivot_table(index=('user_id','month'),values='mb_used',aggfunc=('sum'))\n",
    "internet_stat = pd.DataFrame(internet_stat.to_records())\n",
    "internet_stat.columns=['user_id','month','volume_month']\n",
    "internet_stat['volume_month']=internet_stat['volume_month']/1024\n",
    "internet_stat['volume_month'] = internet_stat['volume_month'].apply(np.ceil)\n",
    "internet_stat['volume_month'] =internet_stat['volume_month'].astype('int')\n",
    "print(internet_stat.head(10))\n",
    "print(internet_stat.info())"
   ]
  },
  {
   "cell_type": "markdown",
   "metadata": {},
   "source": [
    "### Messages"
   ]
  },
  {
   "cell_type": "markdown",
   "metadata": {},
   "source": [
    "1. Change datatype of the dates column, add month column, since we have the data only for 2018 year\n",
    "2. Calculate the number of text messages sent per month, datatype will become integer"
   ]
  },
  {
   "cell_type": "code",
   "execution_count": 232,
   "metadata": {},
   "outputs": [
    {
     "name": "stdout",
     "output_type": "stream",
     "text": [
      "         id  user_id message_date  message_month\n",
      "0  1000_125     1000   2018-12-27             12\n",
      "1  1000_160     1000   2018-12-31             12\n",
      "2  1000_223     1000   2018-12-31             12\n",
      "3  1000_251     1000   2018-12-27             12\n",
      "4  1000_255     1000   2018-12-26             12\n"
     ]
    }
   ],
   "source": [
    "messages['message_date'] = pd.to_datetime(messages['message_date'])\n",
    "messages['message_month'] = messages['message_date'].dt.month\n",
    "print(messages.head(5))"
   ]
  },
  {
   "cell_type": "code",
   "execution_count": 233,
   "metadata": {},
   "outputs": [
    {
     "name": "stdout",
     "output_type": "stream",
     "text": [
      "             id  user_id message_date  message_month first_name   last_name  \\\n",
      "45703  1312_187     1312   2018-09-26              9       Kory     Emerson   \n",
      "40647  1261_302     1261   2018-07-28              7      Dusti      Forbes   \n",
      "31162   1195_29     1195   2018-10-25             10        Roy       Velez   \n",
      "31813  1196_299     1196   2018-08-11              8       Noel      Dawson   \n",
      "20588  1130_263     1130   2018-11-24             11   Clarence  Cunningham   \n",
      "\n",
      "       age                                             city   reg_date  \\\n",
      "45703   42                                   Fresno, CA MSA 2018-01-26   \n",
      "40647   31                           Kansas City, MO-KS MSA 2018-02-22   \n",
      "31162   60          Portland-Vancouver-Hillsboro, OR-WA MSA 2018-06-09   \n",
      "31813   46           Los Angeles-Long Beach-Anaheim, CA MSA 2018-01-14   \n",
      "20588   27  Philadelphia-Camden-Wilmington, PA-NJ-DE-MD MSA 2018-05-17   \n",
      "\n",
      "           plan churn_date  \n",
      "45703      surf 2018-12-31  \n",
      "40647      surf 2018-12-31  \n",
      "31162      surf 2018-12-31  \n",
      "31813  ultimate 2018-12-31  \n",
      "20588      surf 2018-12-31  \n"
     ]
    }
   ],
   "source": [
    "messages=messages.merge(users,how='left')\n",
    "messages=messages[messages['message_date']<messages['churn_date']]\n",
    "print(messages.sample(5))"
   ]
  },
  {
   "cell_type": "code",
   "execution_count": 234,
   "metadata": {},
   "outputs": [
    {
     "name": "stdout",
     "output_type": "stream",
     "text": [
      "   user_id  month  messages_month\n",
      "0     1000     12               8\n",
      "1     1001      8              30\n",
      "2     1001      9              44\n",
      "3     1001     10              53\n",
      "4     1001     11              36\n",
      "5     1001     12              44\n",
      "6     1002     10              15\n",
      "7     1002     11              32\n",
      "8     1002     12              38\n",
      "9     1003     12              48\n",
      "<class 'pandas.core.frame.DataFrame'>\n",
      "RangeIndex: 1775 entries, 0 to 1774\n",
      "Data columns (total 3 columns):\n",
      "user_id           1775 non-null int64\n",
      "month             1775 non-null int64\n",
      "messages_month    1775 non-null int64\n",
      "dtypes: int64(3)\n",
      "memory usage: 41.7 KB\n",
      "None\n"
     ]
    }
   ],
   "source": [
    "messages_stat=messages.pivot_table(index=('user_id','message_month'),values='id',aggfunc=('count'))\n",
    "messages_stat = pd.DataFrame(messages_stat.to_records())\n",
    "messages_stat.columns=['user_id','month','messages_month']\n",
    "print(messages_stat.head(10))\n",
    "print(messages_stat.info())"
   ]
  },
  {
   "cell_type": "markdown",
   "metadata": {},
   "source": [
    "### Monthly revenue"
   ]
  },
  {
   "cell_type": "markdown",
   "metadata": {},
   "source": [
    "#### Combine all data into one table"
   ]
  },
  {
   "cell_type": "markdown",
   "metadata": {},
   "source": [
    "Using merge method we will combine all data of the plan usage that we have. We will use 'outer' method based on user id and month columns. That will allow us to see all type of activities each user had."
   ]
  },
  {
   "cell_type": "code",
   "execution_count": 235,
   "metadata": {},
   "outputs": [
    {
     "name": "stdout",
     "output_type": "stream",
     "text": [
      "<class 'pandas.core.frame.DataFrame'>\n",
      "Int64Index: 2293 entries, 0 to 2292\n",
      "Data columns (total 6 columns):\n",
      "user_id           2293 non-null int64\n",
      "month             2293 non-null int64\n",
      "calls_count       2293 non-null int64\n",
      "minutes_month     2293 non-null int64\n",
      "volume_month      2293 non-null int64\n",
      "messages_month    2293 non-null int64\n",
      "dtypes: int64(6)\n",
      "memory usage: 125.4 KB\n",
      "None\n",
      "      user_id  month  calls_count  minutes_month  volume_month  messages_month\n",
      "197      1049      6           46            341             9               0\n",
      "1525     1336     10          117            728            19              78\n",
      "733      1157      7           46            313             7               0\n",
      "25       1007     12           87            617            29              49\n",
      "1194     1258     10           12            117            18              55\n",
      "1849     1403     11           35            220            25               0\n",
      "1535     1339      5            2             25             4              59\n",
      "1435     1320      9          121            885            14              60\n",
      "1429     1318     12           55            347            20              46\n",
      "1651     1362     10           95            659            15              69\n"
     ]
    }
   ],
   "source": [
    "new_stat=calls_stat.merge(internet_stat,how='outer')\n",
    "new_stat=new_stat.merge(messages_stat,how='outer')\n",
    "new_stat['calls_count']=new_stat['calls_count'].fillna(0)\n",
    "new_stat['minutes_month']=new_stat['minutes_month'].fillna(0)\n",
    "new_stat['volume_month']=new_stat['volume_month'].fillna(0)\n",
    "new_stat['messages_month']=new_stat['messages_month'].fillna(0)\n",
    "new_stat['calls_count'] =new_stat['calls_count'].astype('int')\n",
    "new_stat['minutes_month'] =new_stat['minutes_month'].astype('int')\n",
    "new_stat['volume_month'] =new_stat['volume_month'].astype('int')\n",
    "new_stat['messages_month'] =new_stat['messages_month'].astype('int')\n",
    "print(new_stat.info())\n",
    "print(new_stat.sample(10))"
   ]
  },
  {
   "cell_type": "markdown",
   "metadata": {},
   "source": [
    "#### Add users' and plan info"
   ]
  },
  {
   "cell_type": "code",
   "execution_count": 236,
   "metadata": {},
   "outputs": [
    {
     "data": {
      "text/html": [
       "<div>\n",
       "<style scoped>\n",
       "    .dataframe tbody tr th:only-of-type {\n",
       "        vertical-align: middle;\n",
       "    }\n",
       "\n",
       "    .dataframe tbody tr th {\n",
       "        vertical-align: top;\n",
       "    }\n",
       "\n",
       "    .dataframe thead th {\n",
       "        text-align: right;\n",
       "    }\n",
       "</style>\n",
       "<table border=\"1\" class=\"dataframe\">\n",
       "  <thead>\n",
       "    <tr style=\"text-align: right;\">\n",
       "      <th></th>\n",
       "      <th>user_id</th>\n",
       "      <th>first_name</th>\n",
       "      <th>last_name</th>\n",
       "      <th>age</th>\n",
       "      <th>city</th>\n",
       "      <th>reg_date</th>\n",
       "      <th>plan</th>\n",
       "      <th>churn_date</th>\n",
       "      <th>month_amount</th>\n",
       "      <th>reg_month</th>\n",
       "      <th>churn_month</th>\n",
       "    </tr>\n",
       "  </thead>\n",
       "  <tbody>\n",
       "    <tr>\n",
       "      <td>0</td>\n",
       "      <td>1000</td>\n",
       "      <td>Anamaria</td>\n",
       "      <td>Bauer</td>\n",
       "      <td>45</td>\n",
       "      <td>Atlanta-Sandy Springs-Roswell, GA MSA</td>\n",
       "      <td>2018-12-24</td>\n",
       "      <td>ultimate</td>\n",
       "      <td>2018-12-31</td>\n",
       "      <td>1</td>\n",
       "      <td>12</td>\n",
       "      <td>12</td>\n",
       "    </tr>\n",
       "    <tr>\n",
       "      <td>1</td>\n",
       "      <td>1001</td>\n",
       "      <td>Mickey</td>\n",
       "      <td>Wilkerson</td>\n",
       "      <td>28</td>\n",
       "      <td>Seattle-Tacoma-Bellevue, WA MSA</td>\n",
       "      <td>2018-08-13</td>\n",
       "      <td>surf</td>\n",
       "      <td>2018-12-31</td>\n",
       "      <td>5</td>\n",
       "      <td>8</td>\n",
       "      <td>12</td>\n",
       "    </tr>\n",
       "    <tr>\n",
       "      <td>2</td>\n",
       "      <td>1002</td>\n",
       "      <td>Carlee</td>\n",
       "      <td>Hoffman</td>\n",
       "      <td>36</td>\n",
       "      <td>Las Vegas-Henderson-Paradise, NV MSA</td>\n",
       "      <td>2018-10-21</td>\n",
       "      <td>surf</td>\n",
       "      <td>2018-12-31</td>\n",
       "      <td>3</td>\n",
       "      <td>10</td>\n",
       "      <td>12</td>\n",
       "    </tr>\n",
       "    <tr>\n",
       "      <td>3</td>\n",
       "      <td>1003</td>\n",
       "      <td>Reynaldo</td>\n",
       "      <td>Jenkins</td>\n",
       "      <td>52</td>\n",
       "      <td>Tulsa, OK MSA</td>\n",
       "      <td>2018-01-28</td>\n",
       "      <td>surf</td>\n",
       "      <td>2018-12-31</td>\n",
       "      <td>12</td>\n",
       "      <td>1</td>\n",
       "      <td>12</td>\n",
       "    </tr>\n",
       "    <tr>\n",
       "      <td>4</td>\n",
       "      <td>1004</td>\n",
       "      <td>Leonila</td>\n",
       "      <td>Thompson</td>\n",
       "      <td>40</td>\n",
       "      <td>Seattle-Tacoma-Bellevue, WA MSA</td>\n",
       "      <td>2018-05-23</td>\n",
       "      <td>surf</td>\n",
       "      <td>2018-12-31</td>\n",
       "      <td>8</td>\n",
       "      <td>5</td>\n",
       "      <td>12</td>\n",
       "    </tr>\n",
       "    <tr>\n",
       "      <td>...</td>\n",
       "      <td>...</td>\n",
       "      <td>...</td>\n",
       "      <td>...</td>\n",
       "      <td>...</td>\n",
       "      <td>...</td>\n",
       "      <td>...</td>\n",
       "      <td>...</td>\n",
       "      <td>...</td>\n",
       "      <td>...</td>\n",
       "      <td>...</td>\n",
       "      <td>...</td>\n",
       "    </tr>\n",
       "    <tr>\n",
       "      <td>495</td>\n",
       "      <td>1495</td>\n",
       "      <td>Fidel</td>\n",
       "      <td>Sharpe</td>\n",
       "      <td>67</td>\n",
       "      <td>New York-Newark-Jersey City, NY-NJ-PA MSA</td>\n",
       "      <td>2018-09-04</td>\n",
       "      <td>surf</td>\n",
       "      <td>2018-12-31</td>\n",
       "      <td>4</td>\n",
       "      <td>9</td>\n",
       "      <td>12</td>\n",
       "    </tr>\n",
       "    <tr>\n",
       "      <td>496</td>\n",
       "      <td>1496</td>\n",
       "      <td>Ariel</td>\n",
       "      <td>Shepherd</td>\n",
       "      <td>49</td>\n",
       "      <td>New Orleans-Metairie, LA MSA</td>\n",
       "      <td>2018-02-20</td>\n",
       "      <td>surf</td>\n",
       "      <td>2018-12-31</td>\n",
       "      <td>11</td>\n",
       "      <td>2</td>\n",
       "      <td>12</td>\n",
       "    </tr>\n",
       "    <tr>\n",
       "      <td>497</td>\n",
       "      <td>1497</td>\n",
       "      <td>Donte</td>\n",
       "      <td>Barrera</td>\n",
       "      <td>49</td>\n",
       "      <td>Los Angeles-Long Beach-Anaheim, CA MSA</td>\n",
       "      <td>2018-12-10</td>\n",
       "      <td>ultimate</td>\n",
       "      <td>2018-12-31</td>\n",
       "      <td>1</td>\n",
       "      <td>12</td>\n",
       "      <td>12</td>\n",
       "    </tr>\n",
       "    <tr>\n",
       "      <td>498</td>\n",
       "      <td>1498</td>\n",
       "      <td>Scot</td>\n",
       "      <td>Williamson</td>\n",
       "      <td>51</td>\n",
       "      <td>New York-Newark-Jersey City, NY-NJ-PA MSA</td>\n",
       "      <td>2018-02-04</td>\n",
       "      <td>surf</td>\n",
       "      <td>2018-12-31</td>\n",
       "      <td>11</td>\n",
       "      <td>2</td>\n",
       "      <td>12</td>\n",
       "    </tr>\n",
       "    <tr>\n",
       "      <td>499</td>\n",
       "      <td>1499</td>\n",
       "      <td>Shena</td>\n",
       "      <td>Dickson</td>\n",
       "      <td>37</td>\n",
       "      <td>Orlando-Kissimmee-Sanford, FL MSA</td>\n",
       "      <td>2018-05-06</td>\n",
       "      <td>surf</td>\n",
       "      <td>2018-12-31</td>\n",
       "      <td>8</td>\n",
       "      <td>5</td>\n",
       "      <td>12</td>\n",
       "    </tr>\n",
       "  </tbody>\n",
       "</table>\n",
       "<p>500 rows × 11 columns</p>\n",
       "</div>"
      ],
      "text/plain": [
       "     user_id first_name   last_name  age  \\\n",
       "0       1000   Anamaria       Bauer   45   \n",
       "1       1001     Mickey   Wilkerson   28   \n",
       "2       1002     Carlee     Hoffman   36   \n",
       "3       1003   Reynaldo     Jenkins   52   \n",
       "4       1004    Leonila    Thompson   40   \n",
       "..       ...        ...         ...  ...   \n",
       "495     1495      Fidel      Sharpe   67   \n",
       "496     1496      Ariel    Shepherd   49   \n",
       "497     1497      Donte     Barrera   49   \n",
       "498     1498       Scot  Williamson   51   \n",
       "499     1499      Shena     Dickson   37   \n",
       "\n",
       "                                          city   reg_date      plan  \\\n",
       "0        Atlanta-Sandy Springs-Roswell, GA MSA 2018-12-24  ultimate   \n",
       "1              Seattle-Tacoma-Bellevue, WA MSA 2018-08-13      surf   \n",
       "2         Las Vegas-Henderson-Paradise, NV MSA 2018-10-21      surf   \n",
       "3                                Tulsa, OK MSA 2018-01-28      surf   \n",
       "4              Seattle-Tacoma-Bellevue, WA MSA 2018-05-23      surf   \n",
       "..                                         ...        ...       ...   \n",
       "495  New York-Newark-Jersey City, NY-NJ-PA MSA 2018-09-04      surf   \n",
       "496               New Orleans-Metairie, LA MSA 2018-02-20      surf   \n",
       "497     Los Angeles-Long Beach-Anaheim, CA MSA 2018-12-10  ultimate   \n",
       "498  New York-Newark-Jersey City, NY-NJ-PA MSA 2018-02-04      surf   \n",
       "499          Orlando-Kissimmee-Sanford, FL MSA 2018-05-06      surf   \n",
       "\n",
       "    churn_date  month_amount  reg_month  churn_month  \n",
       "0   2018-12-31             1         12           12  \n",
       "1   2018-12-31             5          8           12  \n",
       "2   2018-12-31             3         10           12  \n",
       "3   2018-12-31            12          1           12  \n",
       "4   2018-12-31             8          5           12  \n",
       "..         ...           ...        ...          ...  \n",
       "495 2018-12-31             4          9           12  \n",
       "496 2018-12-31            11          2           12  \n",
       "497 2018-12-31             1         12           12  \n",
       "498 2018-12-31            11          2           12  \n",
       "499 2018-12-31             8          5           12  \n",
       "\n",
       "[500 rows x 11 columns]"
      ]
     },
     "execution_count": 236,
     "metadata": {},
     "output_type": "execute_result"
    }
   ],
   "source": [
    "users['month_amount'] = users['churn_date'].dt.month - users['reg_date'].dt.month+1\n",
    "#users=pd.DataFrame(users.values.repeat(users.month_amount, axis=0), columns=users.columns)\n",
    "users['reg_month']=users['reg_date'].dt.month\n",
    "users['churn_month']=users['churn_date'].dt.month\n",
    "users['reg_month'] =users['reg_month'].astype('int')\n",
    "users['churn_month'] =users['churn_month'].astype('int')\n",
    "users_ids=users['user_id'].unique()\n",
    "users\n"
   ]
  },
  {
   "cell_type": "code",
   "execution_count": 237,
   "metadata": {},
   "outputs": [
    {
     "name": "stdout",
     "output_type": "stream",
     "text": [
      "      user_id  month first_name   last_name  age  \\\n",
      "5981     1498      6       Scot  Williamson   51   \n",
      "5982     1498      7       Scot  Williamson   51   \n",
      "5983     1498      8       Scot  Williamson   51   \n",
      "5984     1498      9       Scot  Williamson   51   \n",
      "5985     1498     10       Scot  Williamson   51   \n",
      "5986     1498     11       Scot  Williamson   51   \n",
      "5987     1498     12       Scot  Williamson   51   \n",
      "5992     1499      5      Shena     Dickson   37   \n",
      "5993     1499      6      Shena     Dickson   37   \n",
      "5994     1499      7      Shena     Dickson   37   \n",
      "5995     1499      8      Shena     Dickson   37   \n",
      "5996     1499      9      Shena     Dickson   37   \n",
      "5997     1499     10      Shena     Dickson   37   \n",
      "5998     1499     11      Shena     Dickson   37   \n",
      "5999     1499     12      Shena     Dickson   37   \n",
      "\n",
      "                                           city   reg_date  plan churn_date  \\\n",
      "5981  New York-Newark-Jersey City, NY-NJ-PA MSA 2018-02-04  surf 2018-12-31   \n",
      "5982  New York-Newark-Jersey City, NY-NJ-PA MSA 2018-02-04  surf 2018-12-31   \n",
      "5983  New York-Newark-Jersey City, NY-NJ-PA MSA 2018-02-04  surf 2018-12-31   \n",
      "5984  New York-Newark-Jersey City, NY-NJ-PA MSA 2018-02-04  surf 2018-12-31   \n",
      "5985  New York-Newark-Jersey City, NY-NJ-PA MSA 2018-02-04  surf 2018-12-31   \n",
      "5986  New York-Newark-Jersey City, NY-NJ-PA MSA 2018-02-04  surf 2018-12-31   \n",
      "5987  New York-Newark-Jersey City, NY-NJ-PA MSA 2018-02-04  surf 2018-12-31   \n",
      "5992          Orlando-Kissimmee-Sanford, FL MSA 2018-05-06  surf 2018-12-31   \n",
      "5993          Orlando-Kissimmee-Sanford, FL MSA 2018-05-06  surf 2018-12-31   \n",
      "5994          Orlando-Kissimmee-Sanford, FL MSA 2018-05-06  surf 2018-12-31   \n",
      "5995          Orlando-Kissimmee-Sanford, FL MSA 2018-05-06  surf 2018-12-31   \n",
      "5996          Orlando-Kissimmee-Sanford, FL MSA 2018-05-06  surf 2018-12-31   \n",
      "5997          Orlando-Kissimmee-Sanford, FL MSA 2018-05-06  surf 2018-12-31   \n",
      "5998          Orlando-Kissimmee-Sanford, FL MSA 2018-05-06  surf 2018-12-31   \n",
      "5999          Orlando-Kissimmee-Sanford, FL MSA 2018-05-06  surf 2018-12-31   \n",
      "\n",
      "      month_amount  reg_month  churn_month  \n",
      "5981            11          2           12  \n",
      "5982            11          2           12  \n",
      "5983            11          2           12  \n",
      "5984            11          2           12  \n",
      "5985            11          2           12  \n",
      "5986            11          2           12  \n",
      "5987            11          2           12  \n",
      "5992             8          5           12  \n",
      "5993             8          5           12  \n",
      "5994             8          5           12  \n",
      "5995             8          5           12  \n",
      "5996             8          5           12  \n",
      "5997             8          5           12  \n",
      "5998             8          5           12  \n",
      "5999             8          5           12  \n",
      "<class 'pandas.core.frame.DataFrame'>\n",
      "Int64Index: 3313 entries, 11 to 5999\n",
      "Data columns (total 12 columns):\n",
      "user_id         3313 non-null int64\n",
      "month           3313 non-null int64\n",
      "first_name      3313 non-null object\n",
      "last_name       3313 non-null object\n",
      "age             3313 non-null int64\n",
      "city            3313 non-null object\n",
      "reg_date        3313 non-null datetime64[ns]\n",
      "plan            3313 non-null object\n",
      "churn_date      3313 non-null datetime64[ns]\n",
      "month_amount    3313 non-null int64\n",
      "reg_month       3313 non-null int64\n",
      "churn_month     3313 non-null int64\n",
      "dtypes: datetime64[ns](2), int64(6), object(4)\n",
      "memory usage: 336.5+ KB\n",
      "None\n"
     ]
    }
   ],
   "source": [
    "dmf=pd.DataFrame(users_ids)\n",
    "dmf.set_axis(['user_id'],axis = 'columns', inplace=True)\n",
    "dmf=pd.DataFrame(dmf.values.repeat(12, axis=0), columns=dmf.columns)\n",
    "\n",
    "from itertools import cycle\n",
    "\n",
    "mnth = cycle([1,2,3,4,5,6,7,8,9,10,11,12])\n",
    "dmf['month'] = [next(mnth) for m in range(len(dmf))]\n",
    "\n",
    "new_users=dmf.merge(users,how='outer')\n",
    "\n",
    "new_users.reset_index(drop=True, inplace=True)\n",
    "\n",
    "new_users=new_users[new_users['month']<=new_users['churn_month']]\n",
    "new_users=new_users[new_users['month']>=new_users['reg_month']]\n",
    "print(new_users.tail(15))\n",
    "print(new_users.info())"
   ]
  },
  {
   "cell_type": "markdown",
   "metadata": {},
   "source": [
    "For user dataframe I've added the month column, so now we have each user repeated the exact amount of months they used the plan. When the didn't use their phones i've put 0 values accordingly to minutes, messages and internet usage columns. So than now the month pay is counted in the revenue.\n",
    "The NA in churn date was replaced with 31.12.2018 since we have data only for one year."
   ]
  },
  {
   "cell_type": "code",
   "execution_count": 238,
   "metadata": {},
   "outputs": [
    {
     "name": "stdout",
     "output_type": "stream",
     "text": [
      "   user_id  month                                   city plan_name  \\\n",
      "0     1000     12  Atlanta-Sandy Springs-Roswell, GA MSA  ultimate   \n",
      "1     1001      8        Seattle-Tacoma-Bellevue, WA MSA      surf   \n",
      "2     1001      9        Seattle-Tacoma-Bellevue, WA MSA      surf   \n",
      "3     1001     10        Seattle-Tacoma-Bellevue, WA MSA      surf   \n",
      "4     1001     11        Seattle-Tacoma-Bellevue, WA MSA      surf   \n",
      "5     1001     12        Seattle-Tacoma-Bellevue, WA MSA      surf   \n",
      "6     1002     10   Las Vegas-Henderson-Paradise, NV MSA      surf   \n",
      "7     1002     11   Las Vegas-Henderson-Paradise, NV MSA      surf   \n",
      "8     1002     12   Las Vegas-Henderson-Paradise, NV MSA      surf   \n",
      "9     1003      1                          Tulsa, OK MSA      surf   \n",
      "\n",
      "   messages_included  mb_per_month_included  minutes_included  \\\n",
      "0               1000                  30720              3000   \n",
      "1                 50                  15360               500   \n",
      "2                 50                  15360               500   \n",
      "3                 50                  15360               500   \n",
      "4                 50                  15360               500   \n",
      "5                 50                  15360               500   \n",
      "6                 50                  15360               500   \n",
      "7                 50                  15360               500   \n",
      "8                 50                  15360               500   \n",
      "9                 50                  15360               500   \n",
      "\n",
      "   usd_monthly_pay  usd_per_gb  usd_per_message  usd_per_minute  \n",
      "0               70           7             0.01            0.01  \n",
      "1               20          10             0.03            0.03  \n",
      "2               20          10             0.03            0.03  \n",
      "3               20          10             0.03            0.03  \n",
      "4               20          10             0.03            0.03  \n",
      "5               20          10             0.03            0.03  \n",
      "6               20          10             0.03            0.03  \n",
      "7               20          10             0.03            0.03  \n",
      "8               20          10             0.03            0.03  \n",
      "9               20          10             0.03            0.03  \n",
      "<class 'pandas.core.frame.DataFrame'>\n",
      "Int64Index: 3313 entries, 0 to 3312\n",
      "Data columns (total 11 columns):\n",
      "user_id                  3313 non-null int64\n",
      "month                    3313 non-null int64\n",
      "city                     3313 non-null object\n",
      "plan_name                3313 non-null object\n",
      "messages_included        3313 non-null int64\n",
      "mb_per_month_included    3313 non-null int64\n",
      "minutes_included         3313 non-null int64\n",
      "usd_monthly_pay          3313 non-null int64\n",
      "usd_per_gb               3313 non-null int64\n",
      "usd_per_message          3313 non-null float64\n",
      "usd_per_minute           3313 non-null float64\n",
      "dtypes: float64(2), int64(7), object(2)\n",
      "memory usage: 310.6+ KB\n",
      "None\n"
     ]
    }
   ],
   "source": [
    "new_users=new_users.drop(['first_name','last_name','age','reg_date','churn_date','month_amount','reg_month','churn_month'],axis = 1)\n",
    "new_users.columns=['user_id','month','city','plan_name']\n",
    "new_users=new_users.merge(plans,how='left')\n",
    "print(new_users.head(10))\n",
    "print(new_users.info())"
   ]
  },
  {
   "cell_type": "code",
   "execution_count": 239,
   "metadata": {},
   "outputs": [
    {
     "name": "stdout",
     "output_type": "stream",
     "text": [
      "<class 'pandas.core.frame.DataFrame'>\n",
      "Int64Index: 3313 entries, 0 to 3312\n",
      "Data columns (total 15 columns):\n",
      "user_id                  3313 non-null int64\n",
      "month                    3313 non-null int64\n",
      "city                     3313 non-null object\n",
      "plan_name                3313 non-null object\n",
      "messages_included        3313 non-null int64\n",
      "mb_per_month_included    3313 non-null int64\n",
      "minutes_included         3313 non-null int64\n",
      "usd_monthly_pay          3313 non-null int64\n",
      "usd_per_gb               3313 non-null int64\n",
      "usd_per_message          3313 non-null float64\n",
      "usd_per_minute           3313 non-null float64\n",
      "calls_count              3313 non-null float64\n",
      "minutes_month            3313 non-null float64\n",
      "volume_month             3313 non-null float64\n",
      "messages_month           3313 non-null float64\n",
      "dtypes: float64(6), int64(7), object(2)\n",
      "memory usage: 414.1+ KB\n",
      "None\n",
      "   user_id  month                                   city plan_name  \\\n",
      "0     1000     12  Atlanta-Sandy Springs-Roswell, GA MSA  ultimate   \n",
      "1     1001      8        Seattle-Tacoma-Bellevue, WA MSA      surf   \n",
      "2     1001      9        Seattle-Tacoma-Bellevue, WA MSA      surf   \n",
      "3     1001     10        Seattle-Tacoma-Bellevue, WA MSA      surf   \n",
      "4     1001     11        Seattle-Tacoma-Bellevue, WA MSA      surf   \n",
      "5     1001     12        Seattle-Tacoma-Bellevue, WA MSA      surf   \n",
      "6     1002     10   Las Vegas-Henderson-Paradise, NV MSA      surf   \n",
      "7     1002     11   Las Vegas-Henderson-Paradise, NV MSA      surf   \n",
      "8     1002     12   Las Vegas-Henderson-Paradise, NV MSA      surf   \n",
      "9     1003      1                          Tulsa, OK MSA      surf   \n",
      "\n",
      "   messages_included  mb_per_month_included  minutes_included  \\\n",
      "0               1000                  30720              3000   \n",
      "1                 50                  15360               500   \n",
      "2                 50                  15360               500   \n",
      "3                 50                  15360               500   \n",
      "4                 50                  15360               500   \n",
      "5                 50                  15360               500   \n",
      "6                 50                  15360               500   \n",
      "7                 50                  15360               500   \n",
      "8                 50                  15360               500   \n",
      "9                 50                  15360               500   \n",
      "\n",
      "   usd_monthly_pay  usd_per_gb  usd_per_message  usd_per_minute  calls_count  \\\n",
      "0               70           7             0.01            0.01         16.0   \n",
      "1               20          10             0.03            0.03         27.0   \n",
      "2               20          10             0.03            0.03         49.0   \n",
      "3               20          10             0.03            0.03         65.0   \n",
      "4               20          10             0.03            0.03         64.0   \n",
      "5               20          10             0.03            0.03         56.0   \n",
      "6               20          10             0.03            0.03         11.0   \n",
      "7               20          10             0.03            0.03         55.0   \n",
      "8               20          10             0.03            0.03         47.0   \n",
      "9               20          10             0.03            0.03          0.0   \n",
      "\n",
      "   minutes_month  volume_month  messages_month  \n",
      "0          124.0           2.0             8.0  \n",
      "1          182.0           7.0            30.0  \n",
      "2          315.0          14.0            44.0  \n",
      "3          393.0          22.0            53.0  \n",
      "4          426.0          19.0            36.0  \n",
      "5          412.0          19.0            44.0  \n",
      "6           59.0           7.0            15.0  \n",
      "7          386.0          19.0            32.0  \n",
      "8          384.0          15.0            38.0  \n",
      "9            0.0           0.0             0.0  \n"
     ]
    }
   ],
   "source": [
    "#this time we are using method \"on left\", since some users are missing information about their activity(no more thAn 2%):\n",
    "new_stat=new_users.merge(new_stat,how='left')\n",
    "new_stat = new_stat.fillna(0)\n",
    "print(new_stat.info())\n",
    "print(new_stat.head(10))"
   ]
  },
  {
   "cell_type": "markdown",
   "metadata": {},
   "source": [
    "#### Calculate"
   ]
  },
  {
   "cell_type": "markdown",
   "metadata": {},
   "source": [
    "Calculate the monthly revenue from each user:\n",
    " - subtract the free package limit from the total number of calls, text messages, and data;\n",
    " - multiply the result by the calling plan value;\n",
    " - add the monthly charge depending on the calling plan"
   ]
  },
  {
   "cell_type": "code",
   "execution_count": 240,
   "metadata": {},
   "outputs": [
    {
     "data": {
      "text/html": [
       "<div>\n",
       "<style scoped>\n",
       "    .dataframe tbody tr th:only-of-type {\n",
       "        vertical-align: middle;\n",
       "    }\n",
       "\n",
       "    .dataframe tbody tr th {\n",
       "        vertical-align: top;\n",
       "    }\n",
       "\n",
       "    .dataframe thead th {\n",
       "        text-align: right;\n",
       "    }\n",
       "</style>\n",
       "<table border=\"1\" class=\"dataframe\">\n",
       "  <thead>\n",
       "    <tr style=\"text-align: right;\">\n",
       "      <th></th>\n",
       "      <th>user_id</th>\n",
       "      <th>month</th>\n",
       "      <th>city</th>\n",
       "      <th>plan_name</th>\n",
       "      <th>messages_included</th>\n",
       "      <th>mb_per_month_included</th>\n",
       "      <th>minutes_included</th>\n",
       "      <th>usd_monthly_pay</th>\n",
       "      <th>usd_per_gb</th>\n",
       "      <th>usd_per_message</th>\n",
       "      <th>usd_per_minute</th>\n",
       "      <th>calls_count</th>\n",
       "      <th>minutes_month</th>\n",
       "      <th>volume_month</th>\n",
       "      <th>messages_month</th>\n",
       "      <th>revenue</th>\n",
       "    </tr>\n",
       "  </thead>\n",
       "  <tbody>\n",
       "    <tr>\n",
       "      <td>1413</td>\n",
       "      <td>1216</td>\n",
       "      <td>8</td>\n",
       "      <td>San Francisco-Oakland-Berkeley, CA MSA</td>\n",
       "      <td>surf</td>\n",
       "      <td>50</td>\n",
       "      <td>15360</td>\n",
       "      <td>500</td>\n",
       "      <td>20</td>\n",
       "      <td>10</td>\n",
       "      <td>0.03</td>\n",
       "      <td>0.03</td>\n",
       "      <td>0.0</td>\n",
       "      <td>0.0</td>\n",
       "      <td>0.0</td>\n",
       "      <td>0.0</td>\n",
       "      <td>20.00</td>\n",
       "    </tr>\n",
       "    <tr>\n",
       "      <td>782</td>\n",
       "      <td>1120</td>\n",
       "      <td>10</td>\n",
       "      <td>New York-Newark-Jersey City, NY-NJ-PA MSA</td>\n",
       "      <td>surf</td>\n",
       "      <td>50</td>\n",
       "      <td>15360</td>\n",
       "      <td>500</td>\n",
       "      <td>20</td>\n",
       "      <td>10</td>\n",
       "      <td>0.03</td>\n",
       "      <td>0.03</td>\n",
       "      <td>58.0</td>\n",
       "      <td>394.0</td>\n",
       "      <td>18.0</td>\n",
       "      <td>43.0</td>\n",
       "      <td>50.00</td>\n",
       "    </tr>\n",
       "    <tr>\n",
       "      <td>1810</td>\n",
       "      <td>1270</td>\n",
       "      <td>11</td>\n",
       "      <td>Philadelphia-Camden-Wilmington, PA-NJ-DE-MD MSA</td>\n",
       "      <td>ultimate</td>\n",
       "      <td>1000</td>\n",
       "      <td>30720</td>\n",
       "      <td>3000</td>\n",
       "      <td>70</td>\n",
       "      <td>7</td>\n",
       "      <td>0.01</td>\n",
       "      <td>0.01</td>\n",
       "      <td>42.0</td>\n",
       "      <td>256.0</td>\n",
       "      <td>16.0</td>\n",
       "      <td>32.0</td>\n",
       "      <td>70.00</td>\n",
       "    </tr>\n",
       "    <tr>\n",
       "      <td>2308</td>\n",
       "      <td>1347</td>\n",
       "      <td>10</td>\n",
       "      <td>Charleston-North Charleston, SC MSA</td>\n",
       "      <td>ultimate</td>\n",
       "      <td>1000</td>\n",
       "      <td>30720</td>\n",
       "      <td>3000</td>\n",
       "      <td>70</td>\n",
       "      <td>7</td>\n",
       "      <td>0.01</td>\n",
       "      <td>0.01</td>\n",
       "      <td>54.0</td>\n",
       "      <td>420.0</td>\n",
       "      <td>22.0</td>\n",
       "      <td>73.0</td>\n",
       "      <td>70.00</td>\n",
       "    </tr>\n",
       "    <tr>\n",
       "      <td>991</td>\n",
       "      <td>1151</td>\n",
       "      <td>6</td>\n",
       "      <td>New York-Newark-Jersey City, NY-NJ-PA MSA</td>\n",
       "      <td>surf</td>\n",
       "      <td>50</td>\n",
       "      <td>15360</td>\n",
       "      <td>500</td>\n",
       "      <td>20</td>\n",
       "      <td>10</td>\n",
       "      <td>0.03</td>\n",
       "      <td>0.03</td>\n",
       "      <td>0.0</td>\n",
       "      <td>0.0</td>\n",
       "      <td>0.0</td>\n",
       "      <td>0.0</td>\n",
       "      <td>20.00</td>\n",
       "    </tr>\n",
       "    <tr>\n",
       "      <td>1197</td>\n",
       "      <td>1183</td>\n",
       "      <td>12</td>\n",
       "      <td>Chicago-Naperville-Elgin, IL-IN-WI MSA</td>\n",
       "      <td>surf</td>\n",
       "      <td>50</td>\n",
       "      <td>15360</td>\n",
       "      <td>500</td>\n",
       "      <td>20</td>\n",
       "      <td>10</td>\n",
       "      <td>0.03</td>\n",
       "      <td>0.03</td>\n",
       "      <td>96.0</td>\n",
       "      <td>596.0</td>\n",
       "      <td>21.0</td>\n",
       "      <td>95.0</td>\n",
       "      <td>84.23</td>\n",
       "    </tr>\n",
       "    <tr>\n",
       "      <td>2282</td>\n",
       "      <td>1342</td>\n",
       "      <td>12</td>\n",
       "      <td>Indianapolis-Carmel-Anderson, IN MSA</td>\n",
       "      <td>surf</td>\n",
       "      <td>50</td>\n",
       "      <td>15360</td>\n",
       "      <td>500</td>\n",
       "      <td>20</td>\n",
       "      <td>10</td>\n",
       "      <td>0.03</td>\n",
       "      <td>0.03</td>\n",
       "      <td>65.0</td>\n",
       "      <td>519.0</td>\n",
       "      <td>11.0</td>\n",
       "      <td>7.0</td>\n",
       "      <td>20.57</td>\n",
       "    </tr>\n",
       "    <tr>\n",
       "      <td>3255</td>\n",
       "      <td>1492</td>\n",
       "      <td>9</td>\n",
       "      <td>Portland-Vancouver-Hillsboro, OR-WA MSA</td>\n",
       "      <td>surf</td>\n",
       "      <td>50</td>\n",
       "      <td>15360</td>\n",
       "      <td>500</td>\n",
       "      <td>20</td>\n",
       "      <td>10</td>\n",
       "      <td>0.03</td>\n",
       "      <td>0.03</td>\n",
       "      <td>15.0</td>\n",
       "      <td>33.0</td>\n",
       "      <td>4.0</td>\n",
       "      <td>11.0</td>\n",
       "      <td>20.00</td>\n",
       "    </tr>\n",
       "    <tr>\n",
       "      <td>2183</td>\n",
       "      <td>1328</td>\n",
       "      <td>10</td>\n",
       "      <td>Minneapolis-St. Paul-Bloomington, MN-WI MSA</td>\n",
       "      <td>surf</td>\n",
       "      <td>50</td>\n",
       "      <td>15360</td>\n",
       "      <td>500</td>\n",
       "      <td>20</td>\n",
       "      <td>10</td>\n",
       "      <td>0.03</td>\n",
       "      <td>0.03</td>\n",
       "      <td>115.0</td>\n",
       "      <td>819.0</td>\n",
       "      <td>28.0</td>\n",
       "      <td>157.0</td>\n",
       "      <td>162.78</td>\n",
       "    </tr>\n",
       "    <tr>\n",
       "      <td>1704</td>\n",
       "      <td>1255</td>\n",
       "      <td>11</td>\n",
       "      <td>Oklahoma City, OK MSA</td>\n",
       "      <td>ultimate</td>\n",
       "      <td>1000</td>\n",
       "      <td>30720</td>\n",
       "      <td>3000</td>\n",
       "      <td>70</td>\n",
       "      <td>7</td>\n",
       "      <td>0.01</td>\n",
       "      <td>0.01</td>\n",
       "      <td>79.0</td>\n",
       "      <td>646.0</td>\n",
       "      <td>8.0</td>\n",
       "      <td>49.0</td>\n",
       "      <td>70.00</td>\n",
       "    </tr>\n",
       "  </tbody>\n",
       "</table>\n",
       "</div>"
      ],
      "text/plain": [
       "      user_id  month                                             city  \\\n",
       "1413     1216      8           San Francisco-Oakland-Berkeley, CA MSA   \n",
       "782      1120     10        New York-Newark-Jersey City, NY-NJ-PA MSA   \n",
       "1810     1270     11  Philadelphia-Camden-Wilmington, PA-NJ-DE-MD MSA   \n",
       "2308     1347     10              Charleston-North Charleston, SC MSA   \n",
       "991      1151      6        New York-Newark-Jersey City, NY-NJ-PA MSA   \n",
       "1197     1183     12           Chicago-Naperville-Elgin, IL-IN-WI MSA   \n",
       "2282     1342     12             Indianapolis-Carmel-Anderson, IN MSA   \n",
       "3255     1492      9          Portland-Vancouver-Hillsboro, OR-WA MSA   \n",
       "2183     1328     10      Minneapolis-St. Paul-Bloomington, MN-WI MSA   \n",
       "1704     1255     11                            Oklahoma City, OK MSA   \n",
       "\n",
       "     plan_name  messages_included  mb_per_month_included  minutes_included  \\\n",
       "1413      surf                 50                  15360               500   \n",
       "782       surf                 50                  15360               500   \n",
       "1810  ultimate               1000                  30720              3000   \n",
       "2308  ultimate               1000                  30720              3000   \n",
       "991       surf                 50                  15360               500   \n",
       "1197      surf                 50                  15360               500   \n",
       "2282      surf                 50                  15360               500   \n",
       "3255      surf                 50                  15360               500   \n",
       "2183      surf                 50                  15360               500   \n",
       "1704  ultimate               1000                  30720              3000   \n",
       "\n",
       "      usd_monthly_pay  usd_per_gb  usd_per_message  usd_per_minute  \\\n",
       "1413               20          10             0.03            0.03   \n",
       "782                20          10             0.03            0.03   \n",
       "1810               70           7             0.01            0.01   \n",
       "2308               70           7             0.01            0.01   \n",
       "991                20          10             0.03            0.03   \n",
       "1197               20          10             0.03            0.03   \n",
       "2282               20          10             0.03            0.03   \n",
       "3255               20          10             0.03            0.03   \n",
       "2183               20          10             0.03            0.03   \n",
       "1704               70           7             0.01            0.01   \n",
       "\n",
       "      calls_count  minutes_month  volume_month  messages_month  revenue  \n",
       "1413          0.0            0.0           0.0             0.0    20.00  \n",
       "782          58.0          394.0          18.0            43.0    50.00  \n",
       "1810         42.0          256.0          16.0            32.0    70.00  \n",
       "2308         54.0          420.0          22.0            73.0    70.00  \n",
       "991           0.0            0.0           0.0             0.0    20.00  \n",
       "1197         96.0          596.0          21.0            95.0    84.23  \n",
       "2282         65.0          519.0          11.0             7.0    20.57  \n",
       "3255         15.0           33.0           4.0            11.0    20.00  \n",
       "2183        115.0          819.0          28.0           157.0   162.78  \n",
       "1704         79.0          646.0           8.0            49.0    70.00  "
      ]
     },
     "metadata": {},
     "output_type": "display_data"
    },
    {
     "name": "stdout",
     "output_type": "stream",
     "text": [
      "<class 'pandas.core.frame.DataFrame'>\n",
      "Int64Index: 3313 entries, 0 to 3312\n",
      "Data columns (total 16 columns):\n",
      "user_id                  3313 non-null int64\n",
      "month                    3313 non-null int64\n",
      "city                     3313 non-null object\n",
      "plan_name                3313 non-null object\n",
      "messages_included        3313 non-null int64\n",
      "mb_per_month_included    3313 non-null int64\n",
      "minutes_included         3313 non-null int64\n",
      "usd_monthly_pay          3313 non-null int64\n",
      "usd_per_gb               3313 non-null int64\n",
      "usd_per_message          3313 non-null float64\n",
      "usd_per_minute           3313 non-null float64\n",
      "calls_count              3313 non-null float64\n",
      "minutes_month            3313 non-null float64\n",
      "volume_month             3313 non-null float64\n",
      "messages_month           3313 non-null float64\n",
      "revenue                  3313 non-null float64\n",
      "dtypes: float64(7), int64(7), object(2)\n",
      "memory usage: 440.0+ KB\n",
      "None\n"
     ]
    }
   ],
   "source": [
    "def revenue_calc(row):\n",
    "    revenue = row['usd_monthly_pay']\n",
    "    if row['minutes_month']>row['minutes_included']:\n",
    "        revenue+=(row['minutes_month'] - row['minutes_included']) * row['usd_per_minute']\n",
    "        \n",
    "    if row['messages_month'] > row['messages_included']:\n",
    "        revenue += (row['messages_month'] - row['messages_included']) * row['usd_per_message']\n",
    "   \n",
    "    if row['volume_month'] > (row['mb_per_month_included']/1024):\n",
    "        revenue += (row['volume_month'] - (row['mb_per_month_included']/1024)) * row['usd_per_gb']\n",
    "    return revenue\n",
    "\n",
    "new_stat['revenue'] = new_stat.apply(revenue_calc, axis=1)\n",
    "display(new_stat.sample(10))\n",
    "print(new_stat.info())"
   ]
  },
  {
   "cell_type": "markdown",
   "metadata": {},
   "source": [
    "### Conclusion"
   ]
  },
  {
   "cell_type": "markdown",
   "metadata": {},
   "source": [
    "Data was converted to the necessary types. Data was changed and preprocessed according to the telecom plans. Zero values were left as they are since they are the natural part of the plan usage. The number of calls, minutes, messages, data volume were calculated for each user per month and merged into one dataset. Based on the obtained data the monthly revenue from each user was written in. "
   ]
  },
  {
   "cell_type": "markdown",
   "metadata": {},
   "source": [
    "## Analyze the data"
   ]
  },
  {
   "cell_type": "markdown",
   "metadata": {},
   "source": [
    "1. Check the data for the outliers and filter it if needed\n",
    "2. Find how much the users of each plan require per month\n",
    "3. Calculate the mean, dispersion, and standard deviation\n",
    "3. Plot histogtams\n",
    "4. Find what part of usage exceeds the package limits"
   ]
  },
  {
   "cell_type": "markdown",
   "metadata": {},
   "source": [
    "### Calls"
   ]
  },
  {
   "cell_type": "code",
   "execution_count": 262,
   "metadata": {},
   "outputs": [
    {
     "name": "stdout",
     "output_type": "stream",
     "text": [
      "count    3313.000000\n",
      "mean      290.634168\n",
      "std       279.200830\n",
      "min         0.000000\n",
      "25%         0.000000\n",
      "50%       273.000000\n",
      "75%       493.000000\n",
      "max      1510.000000\n",
      "Name: minutes_month, dtype: float64\n"
     ]
    },
    {
     "data": {
      "text/plain": [
       "(0, 1250)"
      ]
     },
     "execution_count": 262,
     "metadata": {},
     "output_type": "execute_result"
    },
    {
     "data": {
      "image/png": "[encoded data removed]",
      "text/plain": [
       "<Figure size 432x288 with 1 Axes>"
      ]
     },
     "metadata": {
      "needs_background": "light"
     },
     "output_type": "display_data"
    }
   ],
   "source": [
    "print(new_stat['minutes_month'].describe())\n",
    "new_stat.boxplot(column='minutes_month')\n",
    "plt.ylim(0,1250)"
   ]
  },
  {
   "cell_type": "code",
   "execution_count": 263,
   "metadata": {},
   "outputs": [],
   "source": [
    "calls_filt=new_stat.query('minutes_month<=1250')"
   ]
  },
  {
   "cell_type": "markdown",
   "metadata": {},
   "source": [
    "#### Surf"
   ]
  },
  {
   "cell_type": "code",
   "execution_count": 264,
   "metadata": {},
   "outputs": [
    {
     "name": "stdout",
     "output_type": "stream",
     "text": [
      "count     339.000000\n",
      "mean      302.553335\n",
      "std       202.822709\n",
      "min         0.000000\n",
      "25%       131.483333\n",
      "50%       291.000000\n",
      "75%       441.458333\n",
      "max      1023.875000\n",
      "Name: minutes_month, dtype: float64\n",
      "Dispersion: 41016\n"
     ]
    }
   ],
   "source": [
    "calls_plan_s=calls_filt.loc[(calls_filt['plan_name'] == 'surf')].groupby('user_id')['minutes_month'].agg('mean')\n",
    "#print(calls_plan_s.head(10))\n",
    "print(calls_plan_s.describe())\n",
    "print('Dispersion:', round(np.var(calls_plan_s)))"
   ]
  },
  {
   "cell_type": "code",
   "execution_count": 265,
   "metadata": {},
   "outputs": [
    {
     "name": "stdout",
     "output_type": "stream",
     "text": [
      "0.168141592920354\n"
     ]
    },
    {
     "data": {
      "image/png": "[encoded data removed]",
      "text/plain": [
       "<Figure size 432x288 with 1 Axes>"
      ]
     },
     "metadata": {
      "needs_background": "light"
     },
     "output_type": "display_data"
    }
   ],
   "source": [
    "calls_plan_s.plot(kind='hist', title='minutes')\n",
    "print(len(calls_plan_s.loc[calls_plan_s>500])/len(calls_plan_s))"
   ]
  },
  {
   "cell_type": "markdown",
   "metadata": {},
   "source": [
    "#### Ultimate"
   ]
  },
  {
   "cell_type": "code",
   "execution_count": 266,
   "metadata": {},
   "outputs": [
    {
     "name": "stdout",
     "output_type": "stream",
     "text": [
      "count    161.000000\n",
      "mean     287.006530\n",
      "std      217.186499\n",
      "min        0.000000\n",
      "25%      114.000000\n",
      "50%      238.000000\n",
      "75%      439.600000\n",
      "max      959.000000\n",
      "Name: minutes_month, dtype: float64\n",
      "Dispersion: 46877\n"
     ]
    }
   ],
   "source": [
    "calls_plan_u=calls_filt.loc[(calls_filt['plan_name'] == 'ultimate')].groupby('user_id')['minutes_month'].agg('mean')\n",
    "#print(calls_plan_u.head(10))\n",
    "print(calls_plan_u.describe())\n",
    "print('Dispersion:', round(np.var(calls_plan_u)))"
   ]
  },
  {
   "cell_type": "code",
   "execution_count": 267,
   "metadata": {},
   "outputs": [
    {
     "name": "stdout",
     "output_type": "stream",
     "text": [
      "0.0\n"
     ]
    },
    {
     "data": {
      "image/png": "[encoded data removed]",
      "text/plain": [
       "<Figure size 432x288 with 1 Axes>"
      ]
     },
     "metadata": {
      "needs_background": "light"
     },
     "output_type": "display_data"
    }
   ],
   "source": [
    "calls_plan_u.plot(kind='hist', title='minutes')\n",
    "print(len(calls_plan_u.loc[calls_plan_u>3000])/len(calls_plan_u))"
   ]
  },
  {
   "cell_type": "markdown",
   "metadata": {},
   "source": [
    "#### Conclusion"
   ]
  },
  {
   "cell_type": "markdown",
   "metadata": {},
   "source": [
    "1. More people use surf plan than ultimate\n",
    "2. Mean values of minutes for both groups are very close to each other.\n",
    "3. Around 17 % of surf users exceed the usage of the minutes, meanwhile ultimate plan users never come even close to the upper limit for the minutes usage. Therefore it might be better to correct the limits or add another plan thad would lie in between."
   ]
  },
  {
   "cell_type": "markdown",
   "metadata": {},
   "source": [
    "### Internet"
   ]
  },
  {
   "cell_type": "code",
   "execution_count": 269,
   "metadata": {},
   "outputs": [
    {
     "data": {
      "text/plain": [
       "(0, 48)"
      ]
     },
     "execution_count": 269,
     "metadata": {},
     "output_type": "execute_result"
    },
    {
     "data": {
      "image/png": "[encoded data removed]",
      "text/plain": [
       "<Figure size 432x288 with 1 Axes>"
      ]
     },
     "metadata": {
      "needs_background": "light"
     },
     "output_type": "display_data"
    }
   ],
   "source": [
    "new_stat.boxplot(column='volume_month')\n",
    "plt.ylim(0,48)"
   ]
  },
  {
   "cell_type": "markdown",
   "metadata": {},
   "source": [
    "#### Surf"
   ]
  },
  {
   "cell_type": "code",
   "execution_count": 270,
   "metadata": {},
   "outputs": [
    {
     "name": "stdout",
     "output_type": "stream",
     "text": [
      "count    339.000000\n",
      "mean      11.536233\n",
      "std        6.608195\n",
      "min        0.000000\n",
      "25%        6.257576\n",
      "50%       11.833333\n",
      "75%       16.250000\n",
      "max       29.800000\n",
      "Name: volume_month, dtype: float64\n",
      "Dispersion: 44\n"
     ]
    }
   ],
   "source": [
    "int_filt=new_stat.query('volume_month<=48')\n",
    "int_plan_s=int_filt.loc[(int_filt['plan_name'] == 'surf')].groupby('user_id')['volume_month'].agg('mean')\n",
    "#print(int_plan_s.head(10))\n",
    "print(int_plan_s.describe())\n",
    "print('Dispersion:', round(np.var(int_plan_s)))"
   ]
  },
  {
   "cell_type": "code",
   "execution_count": 271,
   "metadata": {
    "scrolled": true
   },
   "outputs": [
    {
     "name": "stdout",
     "output_type": "stream",
     "text": [
      "0.3274336283185841\n"
     ]
    },
    {
     "data": {
      "image/png": "[encoded data removed]",
      "text/plain": [
       "<Figure size 432x288 with 1 Axes>"
      ]
     },
     "metadata": {
      "needs_background": "light"
     },
     "output_type": "display_data"
    }
   ],
   "source": [
    "int_plan_s.plot(kind='hist', title='volume_month')\n",
    "print(len(int_plan_s.loc[int_plan_s>15])/len(int_plan_s))"
   ]
  },
  {
   "cell_type": "markdown",
   "metadata": {},
   "source": [
    "#### Ultimate"
   ]
  },
  {
   "cell_type": "code",
   "execution_count": 272,
   "metadata": {},
   "outputs": [
    {
     "name": "stdout",
     "output_type": "stream",
     "text": [
      "count    161.000000\n",
      "mean      11.332453\n",
      "std        6.922572\n",
      "min        0.000000\n",
      "25%        6.000000\n",
      "50%       11.454545\n",
      "75%       15.750000\n",
      "max       35.090909\n",
      "Name: volume_month, dtype: float64\n",
      "Dispersion: 48\n",
      "0.012422360248447204\n"
     ]
    },
    {
     "data": {
      "image/png": "[encoded data removed]",
      "text/plain": [
       "<Figure size 432x288 with 1 Axes>"
      ]
     },
     "metadata": {
      "needs_background": "light"
     },
     "output_type": "display_data"
    }
   ],
   "source": [
    "int_plan_u=int_filt.loc[(int_filt['plan_name'] == 'ultimate')].groupby('user_id')['volume_month'].agg('mean')\n",
    "#print(int_plan_u.head(10))\n",
    "print(int_plan_u.describe())\n",
    "print('Dispersion:', round(np.var(int_plan_u)))\n",
    "int_plan_u.plot(kind='hist', title='volume_month')\n",
    "print(len(int_plan_u.loc[int_plan_u>30])/len(int_plan_u))"
   ]
  },
  {
   "cell_type": "markdown",
   "metadata": {},
   "source": [
    "#### Conclusion"
   ]
  },
  {
   "cell_type": "markdown",
   "metadata": {},
   "source": [
    "1. Mean values for both plans are close to each other\n",
    "2. The distribution of the values for ultimate plan users are slightly shifted to the right\n",
    "3. All values nevertheless for both plans normally distributed around the mean\n",
    "4. 32% of the surf users exceed the data volume limit, this plan requires corrections.\n",
    "5. Ultimate plan seems to be the most balanced and convenient for users in case of internet usage."
   ]
  },
  {
   "cell_type": "markdown",
   "metadata": {},
   "source": [
    "### Messages"
   ]
  },
  {
   "cell_type": "code",
   "execution_count": 276,
   "metadata": {},
   "outputs": [
    {
     "data": {
      "text/plain": [
       "(0, 92)"
      ]
     },
     "execution_count": 276,
     "metadata": {},
     "output_type": "execute_result"
    },
    {
     "data": {
      "image/png": "[encoded data removed]",
      "text/plain": [
       "<Figure size 432x288 with 1 Axes>"
      ]
     },
     "metadata": {
      "needs_background": "light"
     },
     "output_type": "display_data"
    }
   ],
   "source": [
    "new_stat.boxplot(column='messages_month')\n",
    "plt.ylim(0,92)"
   ]
  },
  {
   "cell_type": "code",
   "execution_count": 277,
   "metadata": {},
   "outputs": [],
   "source": [
    "msg_filt=new_stat.query('messages_month<=92')"
   ]
  },
  {
   "cell_type": "markdown",
   "metadata": {},
   "source": [
    "#### Surf"
   ]
  },
  {
   "cell_type": "code",
   "execution_count": 278,
   "metadata": {},
   "outputs": [
    {
     "name": "stdout",
     "output_type": "stream",
     "text": [
      "count    336.000000\n",
      "mean      19.203072\n",
      "std       19.776968\n",
      "min        0.000000\n",
      "25%        2.000000\n",
      "50%       13.937500\n",
      "75%       29.500000\n",
      "max       91.000000\n",
      "Name: messages_month, dtype: float64\n",
      "Dispersion: 390\n"
     ]
    }
   ],
   "source": [
    "msg_plan_s=msg_filt.loc[(msg_filt['plan_name'] == 'surf')].groupby('user_id')['messages_month'].agg('mean')\n",
    "#print(msg_plan_s.head(10))\n",
    "print(msg_plan_s.describe())\n",
    "print('Dispersion:', round(np.var(msg_plan_s)))"
   ]
  },
  {
   "cell_type": "code",
   "execution_count": 279,
   "metadata": {
    "scrolled": true
   },
   "outputs": [
    {
     "name": "stdout",
     "output_type": "stream",
     "text": [
      "0.07738095238095238\n"
     ]
    },
    {
     "data": {
      "image/png": "[encoded data removed]",
      "text/plain": [
       "<Figure size 432x288 with 1 Axes>"
      ]
     },
     "metadata": {
      "needs_background": "light"
     },
     "output_type": "display_data"
    }
   ],
   "source": [
    "msg_plan_s.plot(kind='hist', title='messages_month')\n",
    "print(len(msg_plan_s.loc[msg_plan_s>50])/len(msg_plan_s))"
   ]
  },
  {
   "cell_type": "markdown",
   "metadata": {},
   "source": [
    "#### Ultimate"
   ]
  },
  {
   "cell_type": "code",
   "execution_count": 280,
   "metadata": {},
   "outputs": [
    {
     "name": "stdout",
     "output_type": "stream",
     "text": [
      "count    160.000000\n",
      "mean      21.769350\n",
      "std       22.130910\n",
      "min        0.000000\n",
      "25%        2.172619\n",
      "50%       13.625000\n",
      "75%       37.727273\n",
      "max       78.833333\n",
      "Name: messages_month, dtype: float64\n",
      "Dispersion: 487\n",
      "0.0\n"
     ]
    },
    {
     "data": {
      "image/png": "[encoded data removed]",
      "text/plain": [
       "<Figure size 432x288 with 1 Axes>"
      ]
     },
     "metadata": {
      "needs_background": "light"
     },
     "output_type": "display_data"
    }
   ],
   "source": [
    "msg_plan_u=msg_filt.loc[(msg_filt['plan_name'] == 'ultimate')].groupby('user_id')['messages_month'].agg('mean')\n",
    "#print(msg_plan_u.head(10))\n",
    "print(msg_plan_u.describe())\n",
    "print('Dispersion:', round(np.var(msg_plan_u)))\n",
    "msg_plan_u.plot(kind='hist', title='messages_month')\n",
    "print(len(msg_plan_u.loc[msg_plan_u>1000])/len(msg_plan_u))"
   ]
  },
  {
   "cell_type": "markdown",
   "metadata": {},
   "source": [
    "#### Conclusion"
   ]
  },
  {
   "cell_type": "markdown",
   "metadata": {},
   "source": [
    "1. Mean values for both plans are close to each other\n",
    "2. The distribution of the values for ultimate plan users are slightly shifted to the right compared to surf\n",
    "3. It seems that values don't have normal distribution for both plans. It might be that messages are not popular nowadays or that we don't have enough data. It can be worth investigating if the usage of the messages depends on the age of the user, or area (bad reception e.g.).\n",
    "4. 7% of the surf users exceed the limit, and taking into account previous point, this plan requires corrections for certain group of people. (additional messages if you are older than 60 e.g.)\n",
    "5. Ultimate plan offers too many messages people don't usually use."
   ]
  },
  {
   "cell_type": "markdown",
   "metadata": {},
   "source": [
    "### Conclusion"
   ]
  },
  {
   "cell_type": "markdown",
   "metadata": {},
   "source": [
    "- The data was analyzed, the minutes, texts, and volume of data the users of each plan require per month were found, we calculated the mean, dispersion, and standard deviation.\n",
    "- We can tell that a significant amount of the surf users exceed the limits of the plan, and overpay. The ultimate users rarely exceed the limit, some limits are too large. But nevertheless more people use surf, therefore the ultimate is too expensive and offers too much. Perhaps it is required to create a new plan and promote it. The plan that would satisfy the users' needs by offering a little more than surf plan and at the same time slightly less expensive than the ultimate."
   ]
  },
  {
   "cell_type": "markdown",
   "metadata": {},
   "source": [
    "## Hypotheses"
   ]
  },
  {
   "cell_type": "markdown",
   "metadata": {},
   "source": [
    "### Revenue based on plans"
   ]
  },
  {
   "cell_type": "markdown",
   "metadata": {},
   "source": [
    "Hypothesis:\n",
    " - The average revenue from users of Ultimate and Surf calling plans differs."
   ]
  },
  {
   "cell_type": "markdown",
   "metadata": {},
   "source": [
    "* Null hypothesis H₀: The mean revenue from users of Ultimate and Surf calling plans are the same.\n",
    "* The alternative hypothesis, H₁, is based on H₀: For this H₀, H₁ would be, “The average revenue from users of Ultimate and Surf calling plans differs\".\n",
    "* Calculate the T-test for the means of two independent samples of scores. This is a two-sided test for the null hypothesis that 2 independent samples have identical average (expected) values.\n",
    "* Critical statistical significance is taken as 5%."
   ]
  },
  {
   "cell_type": "code",
   "execution_count": 256,
   "metadata": {},
   "outputs": [
    {
     "name": "stdout",
     "output_type": "stream",
     "text": [
      "p-value: 3.4880587031159416e-20\n",
      "We  reject the null hypothesis\n"
     ]
    }
   ],
   "source": [
    "\n",
    "rev_s=new_stat.loc[(new_stat['plan_name'] == 'surf')].groupby('user_id')['revenue'].agg('mean')\n",
    "rev_u=new_stat.loc[(new_stat['plan_name'] == 'ultimate')].groupby('user_id')['revenue'].agg('mean')\n",
    "alpha =0.05\n",
    "results = st.ttest_ind(rev_s, rev_u)\n",
    "print('p-value:', results.pvalue)\n",
    "\n",
    "\n",
    "if results.pvalue < alpha:\n",
    "    print(\"We  reject the null hypothesis\")\n",
    "else:\n",
    "    print(\"We can't reject the null hypothesis\")"
   ]
  },
  {
   "cell_type": "markdown",
   "metadata": {},
   "source": [
    "### Revenue based on area"
   ]
  },
  {
   "cell_type": "markdown",
   "metadata": {},
   "source": [
    "Hypothesis:\n",
    "- The average revenue from users in NY-NJ area is different from that of the users from other regions."
   ]
  },
  {
   "cell_type": "markdown",
   "metadata": {},
   "source": [
    "* Null hypothesis H₀: The mean revenue from users in NY-NJ area is the same as from that of the users from other regions.\n",
    "* The alternative hypothesis, H₁, is based on H₀: For this H₀, H₁ would be, “The mean revenue from users in NY-NJ area is  different from that of the users from other regions\".\n",
    "* Calculate the T-test for the means of two independent samples of scores. This is a two-sided test for the null hypothesis that 2 independent samples have identical average (expected) values.\n",
    "* Critical statistical significance is taken as 5%."
   ]
  },
  {
   "cell_type": "code",
   "execution_count": 257,
   "metadata": {},
   "outputs": [
    {
     "name": "stdout",
     "output_type": "stream",
     "text": [
      "p-value: 0.6083266012987438\n",
      "We can't reject the null hypothesis\n"
     ]
    }
   ],
   "source": [
    "rev_ny=new_stat.loc[(new_stat['city'] == 'New York-Newark-Jersey City, NY-NJ-PA MSA')].groupby('user_id')['revenue'].agg('mean')\n",
    "rev_other=new_stat.loc[(new_stat['city'] != 'New York-Newark-Jersey City, NY-NJ-PA MSA')].groupby('user_id')['revenue'].agg('mean')\n",
    "alpha =0.05\n",
    "results = st.ttest_ind(rev_ny, rev_other)\n",
    "print('p-value:', results.pvalue)\n",
    "\n",
    "\n",
    "if results.pvalue < alpha:\n",
    "    print(\"We  reject the null hypothesis\")\n",
    "else:\n",
    "    print(\"We can't reject the null hypothesis\")"
   ]
  },
  {
   "cell_type": "markdown",
   "metadata": {},
   "source": [
    "### Conclusion"
   ]
  },
  {
   "cell_type": "markdown",
   "metadata": {},
   "source": [
    "1. The first hypothesis that the average revenue from users of Ultimate and Surf calling plans differs wasn't rejected. Therefore it can be that the average revenue differs depending on the plan\n",
    "2. The second hypothesis was rejected. The users from New York can have the same mean revenue as the users from other cities."
   ]
  },
  {
   "cell_type": "markdown",
   "metadata": {},
   "source": [
    "## Overall conclusion"
   ]
  },
  {
   "cell_type": "markdown",
   "metadata": {},
   "source": [
    "In this project, we obtained the data for 500 users of two telecom plans. The data was preprocessed, all the calculations required for the research were performed. We analyzed users' behaviour. Based on our conclusions we can suggest rethinking the surf plan or creating a new more balanced plan. According to the two hypotheses we had, we can say that the average revenue from users of Ultimate and Surf calling plans differs, and average revenue is not affected by whether the user lives in New York or not."
   ]
  }
 ],
 "metadata": {
  "ExecuteTimeLog": [
   {
    "duration": 1228,
    "start_time": "2021-10-30T10:36:35.059Z"
   },
   {
    "duration": 96,
    "start_time": "2021-10-30T10:36:36.289Z"
   },
   {
    "duration": 3319,
    "start_time": "2021-10-30T10:36:46.532Z"
   },
   {
    "duration": 414,
    "start_time": "2021-10-30T10:37:11.672Z"
   },
   {
    "duration": 43,
    "start_time": "2021-10-30T10:45:33.831Z"
   },
   {
    "duration": 36,
    "start_time": "2021-10-30T10:45:56.907Z"
   },
   {
    "duration": 48,
    "start_time": "2021-10-30T10:55:34.686Z"
   },
   {
    "duration": 334,
    "start_time": "2021-10-30T10:56:17.081Z"
   },
   {
    "duration": 619,
    "start_time": "2021-10-30T10:56:28.873Z"
   },
   {
    "duration": 36,
    "start_time": "2021-10-30T10:57:04.746Z"
   },
   {
    "duration": 38,
    "start_time": "2021-10-30T10:57:33.504Z"
   },
   {
    "duration": 325,
    "start_time": "2021-10-30T10:59:02.050Z"
   },
   {
    "duration": 34,
    "start_time": "2021-10-30T10:59:13.258Z"
   },
   {
    "duration": 33,
    "start_time": "2021-10-30T12:34:51.088Z"
   },
   {
    "duration": 28,
    "start_time": "2021-10-30T12:35:07.105Z"
   },
   {
    "duration": 37,
    "start_time": "2021-10-30T12:35:17.680Z"
   },
   {
    "duration": 22,
    "start_time": "2021-10-30T12:39:01.263Z"
   },
   {
    "duration": 387,
    "start_time": "2021-10-30T12:39:22.015Z"
   },
   {
    "duration": 17,
    "start_time": "2021-10-30T12:39:34.248Z"
   },
   {
    "duration": 20,
    "start_time": "2021-10-30T12:40:04.287Z"
   },
   {
    "duration": 23,
    "start_time": "2021-10-30T12:40:12.791Z"
   },
   {
    "duration": 409,
    "start_time": "2021-10-30T17:01:56.194Z"
   },
   {
    "duration": 1183,
    "start_time": "2021-10-30T17:02:08.834Z"
   },
   {
    "duration": 307,
    "start_time": "2021-10-30T17:02:10.020Z"
   },
   {
    "duration": 30,
    "start_time": "2021-10-30T17:02:10.329Z"
   },
   {
    "duration": 19,
    "start_time": "2021-10-30T17:02:10.361Z"
   },
   {
    "duration": 399,
    "start_time": "2021-10-30T17:02:10.382Z"
   },
   {
    "duration": 368,
    "start_time": "2021-10-30T17:02:27.180Z"
   },
   {
    "duration": 54,
    "start_time": "2021-10-30T17:02:58.516Z"
   },
   {
    "duration": 55,
    "start_time": "2021-10-30T17:03:29.690Z"
   },
   {
    "duration": 104,
    "start_time": "2021-10-30T17:03:37.263Z"
   },
   {
    "duration": 203,
    "start_time": "2021-10-30T17:48:37.441Z"
   },
   {
    "duration": 343,
    "start_time": "2021-10-30T17:48:37.646Z"
   },
   {
    "duration": 24,
    "start_time": "2021-10-30T17:48:37.991Z"
   },
   {
    "duration": 19,
    "start_time": "2021-10-30T17:48:38.017Z"
   },
   {
    "duration": 17,
    "start_time": "2021-10-30T17:48:38.038Z"
   },
   {
    "duration": 29,
    "start_time": "2021-10-30T17:48:38.056Z"
   },
   {
    "duration": 15,
    "start_time": "2021-10-30T17:48:38.087Z"
   },
   {
    "duration": 284,
    "start_time": "2021-10-31T16:57:17.295Z"
   },
   {
    "duration": 1175,
    "start_time": "2021-10-31T16:57:24.523Z"
   },
   {
    "duration": 1432,
    "start_time": "2021-10-31T16:57:25.700Z"
   },
   {
    "duration": 27,
    "start_time": "2021-10-31T16:57:27.133Z"
   },
   {
    "duration": 20,
    "start_time": "2021-10-31T16:57:27.162Z"
   },
   {
    "duration": 16,
    "start_time": "2021-10-31T16:57:27.184Z"
   },
   {
    "duration": 11,
    "start_time": "2021-10-31T16:57:27.202Z"
   },
   {
    "duration": 40,
    "start_time": "2021-10-31T16:57:27.215Z"
   },
   {
    "duration": 1071,
    "start_time": "2021-10-31T16:57:30.475Z"
   },
   {
    "duration": 15,
    "start_time": "2021-10-31T16:57:46.003Z"
   },
   {
    "duration": 15,
    "start_time": "2021-10-31T16:57:58.118Z"
   },
   {
    "duration": 6392,
    "start_time": "2021-10-31T17:03:14.686Z"
   },
   {
    "duration": 10,
    "start_time": "2021-10-31T17:03:29.770Z"
   },
   {
    "duration": 3,
    "start_time": "2021-10-31T17:04:02.174Z"
   },
   {
    "duration": 344,
    "start_time": "2021-10-31T17:04:02.187Z"
   },
   {
    "duration": 22,
    "start_time": "2021-10-31T17:04:02.532Z"
   },
   {
    "duration": 18,
    "start_time": "2021-10-31T17:04:02.556Z"
   },
   {
    "duration": 16,
    "start_time": "2021-10-31T17:04:02.576Z"
   },
   {
    "duration": 12,
    "start_time": "2021-10-31T17:04:02.593Z"
   },
   {
    "duration": 47,
    "start_time": "2021-10-31T17:04:02.607Z"
   },
   {
    "duration": 28,
    "start_time": "2021-10-31T17:04:02.656Z"
   },
   {
    "duration": 14,
    "start_time": "2021-10-31T17:04:04.975Z"
   },
   {
    "duration": 3,
    "start_time": "2021-10-31T17:05:18.154Z"
   },
   {
    "duration": 315,
    "start_time": "2021-10-31T17:05:18.166Z"
   },
   {
    "duration": 23,
    "start_time": "2021-10-31T17:05:18.482Z"
   },
   {
    "duration": 19,
    "start_time": "2021-10-31T17:05:18.507Z"
   },
   {
    "duration": 17,
    "start_time": "2021-10-31T17:05:18.527Z"
   },
   {
    "duration": 17,
    "start_time": "2021-10-31T17:05:18.545Z"
   },
   {
    "duration": 22,
    "start_time": "2021-10-31T17:05:18.564Z"
   },
   {
    "duration": 32,
    "start_time": "2021-10-31T17:05:18.588Z"
   },
   {
    "duration": 258,
    "start_time": "2021-10-31T17:05:20.756Z"
   },
   {
    "duration": 12,
    "start_time": "2021-10-31T17:05:30.192Z"
   },
   {
    "duration": 16,
    "start_time": "2021-10-31T17:05:48.278Z"
   },
   {
    "duration": 18,
    "start_time": "2021-10-31T17:06:16.727Z"
   },
   {
    "duration": 4,
    "start_time": "2021-10-31T17:06:47.364Z"
   },
   {
    "duration": 24,
    "start_time": "2021-10-31T17:11:38.857Z"
   },
   {
    "duration": 668,
    "start_time": "2021-10-31T17:14:21.721Z"
   },
   {
    "duration": 255,
    "start_time": "2021-10-31T17:14:38.019Z"
   },
   {
    "duration": 31,
    "start_time": "2021-10-31T17:14:44.122Z"
   },
   {
    "duration": 27,
    "start_time": "2021-10-31T17:15:03.942Z"
   },
   {
    "duration": 30,
    "start_time": "2021-10-31T17:15:14.451Z"
   },
   {
    "duration": 6704,
    "start_time": "2021-10-31T17:20:27.697Z"
   },
   {
    "duration": 6639,
    "start_time": "2021-10-31T17:20:39.361Z"
   },
   {
    "duration": 6758,
    "start_time": "2021-10-31T17:20:58.315Z"
   },
   {
    "duration": 6512,
    "start_time": "2021-10-31T17:21:17.402Z"
   },
   {
    "duration": 28,
    "start_time": "2021-10-31T17:21:37.545Z"
   },
   {
    "duration": 32,
    "start_time": "2021-10-31T17:25:31.307Z"
   },
   {
    "duration": 274,
    "start_time": "2021-10-31T17:30:55.332Z"
   },
   {
    "duration": 1083,
    "start_time": "2021-10-31T17:31:02.125Z"
   },
   {
    "duration": 30,
    "start_time": "2021-10-31T17:31:12.934Z"
   },
   {
    "duration": 33,
    "start_time": "2021-10-31T17:32:22.653Z"
   },
   {
    "duration": 35,
    "start_time": "2021-10-31T17:32:46.313Z"
   },
   {
    "duration": 33,
    "start_time": "2021-10-31T17:33:17.089Z"
   },
   {
    "duration": 29,
    "start_time": "2021-10-31T17:46:54.709Z"
   },
   {
    "duration": 26,
    "start_time": "2021-10-31T17:49:07.018Z"
   },
   {
    "duration": 30,
    "start_time": "2021-10-31T17:51:53.491Z"
   },
   {
    "duration": 28,
    "start_time": "2021-10-31T17:53:09.535Z"
   },
   {
    "duration": 24,
    "start_time": "2021-10-31T18:01:30.565Z"
   },
   {
    "duration": 3,
    "start_time": "2021-10-31T18:02:40.106Z"
   },
   {
    "duration": 281,
    "start_time": "2021-10-31T18:02:40.117Z"
   },
   {
    "duration": 21,
    "start_time": "2021-10-31T18:02:40.400Z"
   },
   {
    "duration": 18,
    "start_time": "2021-10-31T18:02:40.423Z"
   },
   {
    "duration": 14,
    "start_time": "2021-10-31T18:02:40.443Z"
   },
   {
    "duration": 10,
    "start_time": "2021-10-31T18:02:40.459Z"
   },
   {
    "duration": 14,
    "start_time": "2021-10-31T18:02:40.471Z"
   },
   {
    "duration": 63,
    "start_time": "2021-10-31T18:02:40.487Z"
   },
   {
    "duration": 18,
    "start_time": "2021-10-31T18:02:40.552Z"
   },
   {
    "duration": 28,
    "start_time": "2021-10-31T18:02:40.572Z"
   },
   {
    "duration": 52,
    "start_time": "2021-10-31T18:02:40.602Z"
   },
   {
    "duration": 23,
    "start_time": "2021-10-31T18:02:40.656Z"
   },
   {
    "duration": 22,
    "start_time": "2021-10-31T18:02:43.007Z"
   },
   {
    "duration": 983,
    "start_time": "2021-10-31T18:05:28.836Z"
   },
   {
    "duration": 23,
    "start_time": "2021-10-31T18:05:40.392Z"
   },
   {
    "duration": 24,
    "start_time": "2021-10-31T18:06:05.471Z"
   },
   {
    "duration": 16,
    "start_time": "2021-10-31T18:06:32.468Z"
   },
   {
    "duration": 20,
    "start_time": "2021-10-31T18:06:39.405Z"
   },
   {
    "duration": 258,
    "start_time": "2021-10-31T18:07:23.067Z"
   },
   {
    "duration": 20,
    "start_time": "2021-10-31T18:07:28.813Z"
   },
   {
    "duration": 23,
    "start_time": "2021-10-31T18:07:36.876Z"
   },
   {
    "duration": 23,
    "start_time": "2021-10-31T18:07:55.994Z"
   },
   {
    "duration": 25,
    "start_time": "2021-10-31T18:08:03.401Z"
   },
   {
    "duration": 11,
    "start_time": "2021-10-31T18:44:28.395Z"
   },
   {
    "duration": 14,
    "start_time": "2021-10-31T18:44:44.935Z"
   },
   {
    "duration": 14,
    "start_time": "2021-10-31T18:44:55.781Z"
   },
   {
    "duration": 15,
    "start_time": "2021-10-31T18:45:28.459Z"
   },
   {
    "duration": 18,
    "start_time": "2021-10-31T18:47:27.679Z"
   },
   {
    "duration": 21,
    "start_time": "2021-10-31T18:51:51.584Z"
   },
   {
    "duration": 3,
    "start_time": "2021-10-31T18:57:08.535Z"
   },
   {
    "duration": 282,
    "start_time": "2021-10-31T18:57:08.540Z"
   },
   {
    "duration": 21,
    "start_time": "2021-10-31T18:57:08.824Z"
   },
   {
    "duration": 18,
    "start_time": "2021-10-31T18:57:08.847Z"
   },
   {
    "duration": 16,
    "start_time": "2021-10-31T18:57:08.866Z"
   },
   {
    "duration": 10,
    "start_time": "2021-10-31T18:57:08.883Z"
   },
   {
    "duration": 18,
    "start_time": "2021-10-31T18:57:08.895Z"
   },
   {
    "duration": 59,
    "start_time": "2021-10-31T18:57:08.915Z"
   },
   {
    "duration": 17,
    "start_time": "2021-10-31T18:57:08.976Z"
   },
   {
    "duration": 30,
    "start_time": "2021-10-31T18:57:08.994Z"
   },
   {
    "duration": 29,
    "start_time": "2021-10-31T18:57:09.044Z"
   },
   {
    "duration": 25,
    "start_time": "2021-10-31T18:57:09.075Z"
   },
   {
    "duration": 42,
    "start_time": "2021-10-31T18:57:09.102Z"
   },
   {
    "duration": 24,
    "start_time": "2021-10-31T18:57:09.146Z"
   },
   {
    "duration": 275,
    "start_time": "2021-10-31T18:57:12.434Z"
   },
   {
    "duration": 21,
    "start_time": "2021-10-31T18:57:41.769Z"
   },
   {
    "duration": 259,
    "start_time": "2021-10-31T18:58:02.582Z"
   },
   {
    "duration": 300,
    "start_time": "2021-10-31T18:58:19.160Z"
   },
   {
    "duration": 31,
    "start_time": "2021-10-31T18:58:32.149Z"
   },
   {
    "duration": 325,
    "start_time": "2021-10-31T19:00:06.468Z"
   },
   {
    "duration": 29,
    "start_time": "2021-10-31T19:00:21.564Z"
   },
   {
    "duration": 23,
    "start_time": "2021-10-31T19:00:43.603Z"
   },
   {
    "duration": 7175,
    "start_time": "2021-10-31T19:09:46.681Z"
   },
   {
    "duration": 7,
    "start_time": "2021-10-31T19:14:43.771Z"
   },
   {
    "duration": 7,
    "start_time": "2021-10-31T19:14:52.651Z"
   },
   {
    "duration": 7,
    "start_time": "2021-10-31T19:15:13.406Z"
   },
   {
    "duration": 21,
    "start_time": "2021-10-31T19:15:44.386Z"
   },
   {
    "duration": 15,
    "start_time": "2021-10-31T19:16:32.330Z"
   },
   {
    "duration": 14,
    "start_time": "2021-10-31T19:16:58.638Z"
   },
   {
    "duration": 18,
    "start_time": "2021-10-31T19:18:22.981Z"
   },
   {
    "duration": 5,
    "start_time": "2021-10-31T19:19:44.713Z"
   },
   {
    "duration": 262,
    "start_time": "2021-10-31T19:20:01.916Z"
   },
   {
    "duration": 5,
    "start_time": "2021-10-31T19:20:19.672Z"
   },
   {
    "duration": 4,
    "start_time": "2021-10-31T19:20:32.342Z"
   },
   {
    "duration": 4,
    "start_time": "2021-10-31T19:20:57.374Z"
   },
   {
    "duration": 14,
    "start_time": "2021-10-31T19:22:46.219Z"
   },
   {
    "duration": 6,
    "start_time": "2021-10-31T19:23:47.429Z"
   },
   {
    "duration": 6,
    "start_time": "2021-10-31T19:23:56.751Z"
   },
   {
    "duration": 3,
    "start_time": "2021-10-31T19:24:16.028Z"
   },
   {
    "duration": 278,
    "start_time": "2021-10-31T19:24:16.033Z"
   },
   {
    "duration": 20,
    "start_time": "2021-10-31T19:24:16.313Z"
   },
   {
    "duration": 17,
    "start_time": "2021-10-31T19:24:16.334Z"
   },
   {
    "duration": 14,
    "start_time": "2021-10-31T19:24:16.353Z"
   },
   {
    "duration": 12,
    "start_time": "2021-10-31T19:24:16.369Z"
   },
   {
    "duration": 15,
    "start_time": "2021-10-31T19:24:16.383Z"
   },
   {
    "duration": 55,
    "start_time": "2021-10-31T19:24:16.400Z"
   },
   {
    "duration": 16,
    "start_time": "2021-10-31T19:24:16.457Z"
   },
   {
    "duration": 39,
    "start_time": "2021-10-31T19:24:16.475Z"
   },
   {
    "duration": 36,
    "start_time": "2021-10-31T19:24:16.515Z"
   },
   {
    "duration": 27,
    "start_time": "2021-10-31T19:24:16.553Z"
   },
   {
    "duration": 21,
    "start_time": "2021-10-31T19:24:16.581Z"
   },
   {
    "duration": 46,
    "start_time": "2021-10-31T19:24:16.604Z"
   },
   {
    "duration": 22,
    "start_time": "2021-10-31T19:24:16.651Z"
   },
   {
    "duration": 14,
    "start_time": "2021-10-31T19:24:16.676Z"
   },
   {
    "duration": 6,
    "start_time": "2021-10-31T19:24:23.233Z"
   },
   {
    "duration": 6,
    "start_time": "2021-10-31T19:24:24.126Z"
   },
   {
    "duration": 12,
    "start_time": "2021-10-31T19:32:57.829Z"
   },
   {
    "duration": 421,
    "start_time": "2021-11-01T06:42:25.312Z"
   },
   {
    "duration": 1154,
    "start_time": "2021-11-01T06:42:30.722Z"
   },
   {
    "duration": 3674,
    "start_time": "2021-11-01T06:42:31.878Z"
   },
   {
    "duration": 28,
    "start_time": "2021-11-01T06:42:35.554Z"
   },
   {
    "duration": 19,
    "start_time": "2021-11-01T06:42:35.584Z"
   },
   {
    "duration": 16,
    "start_time": "2021-11-01T06:42:35.604Z"
   },
   {
    "duration": 11,
    "start_time": "2021-11-01T06:42:35.622Z"
   },
   {
    "duration": 13,
    "start_time": "2021-11-01T06:42:35.635Z"
   },
   {
    "duration": 60,
    "start_time": "2021-11-01T06:42:35.652Z"
   },
   {
    "duration": 23,
    "start_time": "2021-11-01T06:42:35.714Z"
   },
   {
    "duration": 35,
    "start_time": "2021-11-01T06:42:35.739Z"
   },
   {
    "duration": 51,
    "start_time": "2021-11-01T06:42:35.776Z"
   },
   {
    "duration": 32,
    "start_time": "2021-11-01T06:42:35.829Z"
   },
   {
    "duration": 23,
    "start_time": "2021-11-01T06:42:35.863Z"
   },
   {
    "duration": 26,
    "start_time": "2021-11-01T06:42:35.906Z"
   },
   {
    "duration": 22,
    "start_time": "2021-11-01T06:42:35.934Z"
   },
   {
    "duration": 6,
    "start_time": "2021-11-01T06:42:35.958Z"
   },
   {
    "duration": 41,
    "start_time": "2021-11-01T06:42:35.966Z"
   },
   {
    "duration": 3,
    "start_time": "2021-11-01T06:42:36.009Z"
   },
   {
    "duration": 13,
    "start_time": "2021-11-01T09:43:56.508Z"
   },
   {
    "duration": 656,
    "start_time": "2021-11-01T09:47:24.261Z"
   },
   {
    "duration": 10052,
    "start_time": "2021-11-01T09:48:14.988Z"
   },
   {
    "duration": 6718,
    "start_time": "2021-11-01T10:48:54.646Z"
   },
   {
    "duration": 7400,
    "start_time": "2021-11-01T10:49:50.897Z"
   },
   {
    "duration": 7209,
    "start_time": "2021-11-01T10:51:04.366Z"
   },
   {
    "duration": 4,
    "start_time": "2021-11-01T10:52:37.191Z"
   },
   {
    "duration": 350,
    "start_time": "2021-11-01T10:52:37.197Z"
   },
   {
    "duration": 24,
    "start_time": "2021-11-01T10:52:37.549Z"
   },
   {
    "duration": 19,
    "start_time": "2021-11-01T10:52:37.575Z"
   },
   {
    "duration": 16,
    "start_time": "2021-11-01T10:52:37.596Z"
   },
   {
    "duration": 24,
    "start_time": "2021-11-01T10:52:37.614Z"
   },
   {
    "duration": 15,
    "start_time": "2021-11-01T10:52:37.640Z"
   },
   {
    "duration": 39,
    "start_time": "2021-11-01T10:52:37.658Z"
   },
   {
    "duration": 23,
    "start_time": "2021-11-01T10:52:37.706Z"
   },
   {
    "duration": 34,
    "start_time": "2021-11-01T10:52:37.731Z"
   },
   {
    "duration": 60,
    "start_time": "2021-11-01T10:52:37.768Z"
   },
   {
    "duration": 27,
    "start_time": "2021-11-01T10:52:37.831Z"
   },
   {
    "duration": 48,
    "start_time": "2021-11-01T10:52:37.860Z"
   },
   {
    "duration": 28,
    "start_time": "2021-11-01T10:52:37.910Z"
   },
   {
    "duration": 25,
    "start_time": "2021-11-01T10:52:37.941Z"
   },
   {
    "duration": 39,
    "start_time": "2021-11-01T10:52:37.968Z"
   },
   {
    "duration": 16,
    "start_time": "2021-11-01T10:52:38.009Z"
   },
   {
    "duration": 2,
    "start_time": "2021-11-01T10:52:38.027Z"
   },
   {
    "duration": 13,
    "start_time": "2021-11-01T10:52:38.031Z"
   },
   {
    "duration": 6439,
    "start_time": "2021-11-01T10:52:42.489Z"
   },
   {
    "duration": 5,
    "start_time": "2021-11-01T10:55:34.684Z"
   },
   {
    "duration": 342,
    "start_time": "2021-11-01T10:55:34.691Z"
   },
   {
    "duration": 36,
    "start_time": "2021-11-01T10:55:35.035Z"
   },
   {
    "duration": 22,
    "start_time": "2021-11-01T10:55:35.074Z"
   },
   {
    "duration": 46,
    "start_time": "2021-11-01T10:55:35.098Z"
   },
   {
    "duration": 18,
    "start_time": "2021-11-01T10:55:35.146Z"
   },
   {
    "duration": 19,
    "start_time": "2021-11-01T10:55:35.166Z"
   },
   {
    "duration": 44,
    "start_time": "2021-11-01T10:55:35.189Z"
   },
   {
    "duration": 22,
    "start_time": "2021-11-01T10:55:35.236Z"
   },
   {
    "duration": 53,
    "start_time": "2021-11-01T10:55:35.260Z"
   },
   {
    "duration": 34,
    "start_time": "2021-11-01T10:55:35.315Z"
   },
   {
    "duration": 28,
    "start_time": "2021-11-01T10:55:35.350Z"
   },
   {
    "duration": 50,
    "start_time": "2021-11-01T10:55:35.380Z"
   },
   {
    "duration": 56,
    "start_time": "2021-11-01T10:55:35.432Z"
   },
   {
    "duration": 40,
    "start_time": "2021-11-01T10:55:35.491Z"
   },
   {
    "duration": 7,
    "start_time": "2021-11-01T10:55:35.533Z"
   },
   {
    "duration": 23,
    "start_time": "2021-11-01T10:55:35.542Z"
   },
   {
    "duration": 3,
    "start_time": "2021-11-01T10:55:35.567Z"
   },
   {
    "duration": 15,
    "start_time": "2021-11-01T10:55:35.571Z"
   },
   {
    "duration": 12,
    "start_time": "2021-11-01T10:55:40.090Z"
   },
   {
    "duration": 575,
    "start_time": "2021-11-01T11:02:31.305Z"
   },
   {
    "duration": 133,
    "start_time": "2021-11-01T11:05:35.737Z"
   },
   {
    "duration": 595,
    "start_time": "2021-11-01T11:06:03.936Z"
   },
   {
    "duration": 372,
    "start_time": "2021-11-01T11:07:43.927Z"
   },
   {
    "duration": 359,
    "start_time": "2021-11-01T11:08:30.927Z"
   },
   {
    "duration": 111,
    "start_time": "2021-11-01T12:56:20.955Z"
   },
   {
    "duration": 4,
    "start_time": "2021-11-01T12:56:38.223Z"
   },
   {
    "duration": 416,
    "start_time": "2021-11-01T12:56:38.230Z"
   },
   {
    "duration": 25,
    "start_time": "2021-11-01T12:56:38.648Z"
   },
   {
    "duration": 21,
    "start_time": "2021-11-01T12:56:38.675Z"
   },
   {
    "duration": 18,
    "start_time": "2021-11-01T12:56:38.698Z"
   },
   {
    "duration": 13,
    "start_time": "2021-11-01T12:56:38.717Z"
   },
   {
    "duration": 15,
    "start_time": "2021-11-01T12:56:38.732Z"
   },
   {
    "duration": 66,
    "start_time": "2021-11-01T12:56:38.750Z"
   },
   {
    "duration": 20,
    "start_time": "2021-11-01T12:56:38.818Z"
   },
   {
    "duration": 31,
    "start_time": "2021-11-01T12:56:38.840Z"
   },
   {
    "duration": 53,
    "start_time": "2021-11-01T12:56:38.873Z"
   },
   {
    "duration": 27,
    "start_time": "2021-11-01T12:56:38.928Z"
   },
   {
    "duration": 29,
    "start_time": "2021-11-01T12:56:38.957Z"
   },
   {
    "duration": 47,
    "start_time": "2021-11-01T12:56:38.988Z"
   },
   {
    "duration": 25,
    "start_time": "2021-11-01T12:56:39.036Z"
   },
   {
    "duration": 126,
    "start_time": "2021-11-01T12:56:43.430Z"
   },
   {
    "duration": 17,
    "start_time": "2021-11-01T12:56:57.765Z"
   },
   {
    "duration": 19,
    "start_time": "2021-11-01T12:57:15.589Z"
   },
   {
    "duration": 18,
    "start_time": "2021-11-01T12:58:06.180Z"
   },
   {
    "duration": 25,
    "start_time": "2021-11-01T13:02:26.773Z"
   },
   {
    "duration": 200,
    "start_time": "2021-11-01T13:39:24.667Z"
   },
   {
    "duration": 157,
    "start_time": "2021-11-01T13:39:46.831Z"
   },
   {
    "duration": 170,
    "start_time": "2021-11-01T13:41:13.294Z"
   },
   {
    "duration": 1182,
    "start_time": "2021-11-03T16:20:00.273Z"
   },
   {
    "duration": 1249,
    "start_time": "2021-11-03T16:20:01.457Z"
   },
   {
    "duration": 30,
    "start_time": "2021-11-03T16:20:02.708Z"
   },
   {
    "duration": 20,
    "start_time": "2021-11-03T16:20:02.740Z"
   },
   {
    "duration": 25,
    "start_time": "2021-11-03T16:20:02.762Z"
   },
   {
    "duration": 16,
    "start_time": "2021-11-03T16:20:02.789Z"
   },
   {
    "duration": 17,
    "start_time": "2021-11-03T16:20:02.808Z"
   },
   {
    "duration": 64,
    "start_time": "2021-11-03T16:20:02.829Z"
   },
   {
    "duration": 25,
    "start_time": "2021-11-03T16:20:02.896Z"
   },
   {
    "duration": 62,
    "start_time": "2021-11-03T16:20:02.924Z"
   },
   {
    "duration": 34,
    "start_time": "2021-11-03T16:20:02.988Z"
   },
   {
    "duration": 60,
    "start_time": "2021-11-03T16:20:03.024Z"
   },
   {
    "duration": 26,
    "start_time": "2021-11-03T16:20:03.086Z"
   },
   {
    "duration": 41,
    "start_time": "2021-11-03T16:20:03.114Z"
   },
   {
    "duration": 26,
    "start_time": "2021-11-03T16:20:03.163Z"
   },
   {
    "duration": 19,
    "start_time": "2021-11-03T16:20:03.191Z"
   },
   {
    "duration": 17,
    "start_time": "2021-11-03T16:20:03.212Z"
   },
   {
    "duration": 198,
    "start_time": "2021-11-03T16:20:03.231Z"
   },
   {
    "duration": 7,
    "start_time": "2021-11-03T17:10:11.781Z"
   },
   {
    "duration": 201,
    "start_time": "2021-11-03T17:11:51.363Z"
   },
   {
    "duration": 7,
    "start_time": "2021-11-03T18:03:38.971Z"
   },
   {
    "duration": 133,
    "start_time": "2021-11-03T18:17:44.692Z"
   },
   {
    "duration": 127,
    "start_time": "2021-11-03T18:19:17.802Z"
   },
   {
    "duration": 132,
    "start_time": "2021-11-03T18:20:08.589Z"
   },
   {
    "duration": 394,
    "start_time": "2021-11-03T18:24:35.492Z"
   },
   {
    "duration": 7,
    "start_time": "2021-11-03T18:24:41.562Z"
   },
   {
    "duration": 16,
    "start_time": "2021-11-03T18:24:43.351Z"
   },
   {
    "duration": 15,
    "start_time": "2021-11-03T18:26:51.512Z"
   },
   {
    "duration": 79,
    "start_time": "2021-11-03T18:33:13.003Z"
   },
   {
    "duration": 92,
    "start_time": "2021-11-03T18:33:23.083Z"
   },
   {
    "duration": 235,
    "start_time": "2021-11-03T18:34:48.862Z"
   },
   {
    "duration": 436,
    "start_time": "2021-11-03T18:34:56.389Z"
   },
   {
    "duration": 7,
    "start_time": "2021-11-03T18:35:06.108Z"
   },
   {
    "duration": 11,
    "start_time": "2021-11-03T18:35:58.378Z"
   },
   {
    "duration": 256,
    "start_time": "2021-11-03T18:36:33.148Z"
   },
   {
    "duration": 4154,
    "start_time": "2021-11-03T18:36:46.551Z"
   },
   {
    "duration": 3809,
    "start_time": "2021-11-03T18:37:08.184Z"
   },
   {
    "duration": 12,
    "start_time": "2021-11-03T18:37:18.666Z"
   },
   {
    "duration": 11,
    "start_time": "2021-11-03T18:38:11.779Z"
   },
   {
    "duration": 10,
    "start_time": "2021-11-03T18:38:22.959Z"
   },
   {
    "duration": 180,
    "start_time": "2021-11-03T18:39:22.562Z"
   },
   {
    "duration": 12,
    "start_time": "2021-11-03T18:49:10.070Z"
   },
   {
    "duration": 3798,
    "start_time": "2021-11-03T18:50:19.548Z"
   },
   {
    "duration": 350,
    "start_time": "2021-11-03T18:50:40.325Z"
   },
   {
    "duration": 5,
    "start_time": "2021-11-03T18:51:01.447Z"
   },
   {
    "duration": 5,
    "start_time": "2021-11-03T18:52:11.547Z"
   },
   {
    "duration": 85,
    "start_time": "2021-11-03T18:52:28.082Z"
   },
   {
    "duration": 88,
    "start_time": "2021-11-03T18:52:34.973Z"
   },
   {
    "duration": 253,
    "start_time": "2021-11-03T18:52:43.580Z"
   },
   {
    "duration": 5,
    "start_time": "2021-11-03T18:53:42.994Z"
   },
   {
    "duration": 4,
    "start_time": "2021-11-03T18:54:07.118Z"
   },
   {
    "duration": 179,
    "start_time": "2021-11-03T18:54:20.052Z"
   },
   {
    "duration": 11,
    "start_time": "2021-11-03T18:59:27.538Z"
   },
   {
    "duration": 356,
    "start_time": "2021-11-03T19:05:09.607Z"
   },
   {
    "duration": 179,
    "start_time": "2021-11-03T19:05:18.086Z"
   },
   {
    "duration": 133,
    "start_time": "2021-11-03T19:07:26.772Z"
   },
   {
    "duration": 136,
    "start_time": "2021-11-03T19:07:38.608Z"
   },
   {
    "duration": 135,
    "start_time": "2021-11-03T19:08:20.332Z"
   },
   {
    "duration": 139,
    "start_time": "2021-11-03T19:08:24.368Z"
   },
   {
    "duration": 128,
    "start_time": "2021-11-03T19:08:27.889Z"
   },
   {
    "duration": 145,
    "start_time": "2021-11-03T19:08:32.260Z"
   },
   {
    "duration": 13,
    "start_time": "2021-11-03T19:09:22.200Z"
   },
   {
    "duration": 194,
    "start_time": "2021-11-03T19:10:34.617Z"
   },
   {
    "duration": 11,
    "start_time": "2021-11-03T19:11:59.818Z"
   },
   {
    "duration": 162,
    "start_time": "2021-11-03T19:12:15.880Z"
   },
   {
    "duration": 167,
    "start_time": "2021-11-03T19:12:28.371Z"
   },
   {
    "duration": 180,
    "start_time": "2021-11-03T19:15:28.994Z"
   },
   {
    "duration": 384,
    "start_time": "2021-11-03T19:15:44.088Z"
   },
   {
    "duration": 3,
    "start_time": "2021-11-03T19:18:12.047Z"
   },
   {
    "duration": 313,
    "start_time": "2021-11-03T19:18:12.058Z"
   },
   {
    "duration": 24,
    "start_time": "2021-11-03T19:18:12.373Z"
   },
   {
    "duration": 19,
    "start_time": "2021-11-03T19:18:12.400Z"
   },
   {
    "duration": 16,
    "start_time": "2021-11-03T19:18:12.421Z"
   },
   {
    "duration": 33,
    "start_time": "2021-11-03T19:18:12.438Z"
   },
   {
    "duration": 15,
    "start_time": "2021-11-03T19:18:12.473Z"
   },
   {
    "duration": 35,
    "start_time": "2021-11-03T19:18:12.490Z"
   },
   {
    "duration": 48,
    "start_time": "2021-11-03T19:18:12.528Z"
   },
   {
    "duration": 33,
    "start_time": "2021-11-03T19:18:12.578Z"
   },
   {
    "duration": 51,
    "start_time": "2021-11-03T19:18:12.613Z"
   },
   {
    "duration": 26,
    "start_time": "2021-11-03T19:18:12.666Z"
   },
   {
    "duration": 23,
    "start_time": "2021-11-03T19:18:12.693Z"
   },
   {
    "duration": 52,
    "start_time": "2021-11-03T19:18:12.717Z"
   },
   {
    "duration": 22,
    "start_time": "2021-11-03T19:18:12.771Z"
   },
   {
    "duration": 16,
    "start_time": "2021-11-03T19:18:12.796Z"
   },
   {
    "duration": 16,
    "start_time": "2021-11-03T19:18:12.814Z"
   },
   {
    "duration": 164,
    "start_time": "2021-11-03T19:18:12.863Z"
   },
   {
    "duration": 159,
    "start_time": "2021-11-03T19:18:13.028Z"
   },
   {
    "duration": 6,
    "start_time": "2021-11-03T19:18:13.189Z"
   },
   {
    "duration": 17,
    "start_time": "2021-11-03T19:18:13.197Z"
   },
   {
    "duration": 190,
    "start_time": "2021-11-03T19:18:13.216Z"
   },
   {
    "duration": 10,
    "start_time": "2021-11-03T19:18:13.408Z"
   },
   {
    "duration": 191,
    "start_time": "2021-11-03T19:18:13.420Z"
   },
   {
    "duration": 146,
    "start_time": "2021-11-03T19:18:13.613Z"
   },
   {
    "duration": 13,
    "start_time": "2021-11-03T19:18:13.761Z"
   },
   {
    "duration": 183,
    "start_time": "2021-11-03T19:18:13.776Z"
   },
   {
    "duration": 197,
    "start_time": "2021-11-03T19:18:13.963Z"
   },
   {
    "duration": 128,
    "start_time": "2021-11-03T19:20:32.476Z"
   },
   {
    "duration": 128,
    "start_time": "2021-11-03T19:20:45.621Z"
   },
   {
    "duration": 128,
    "start_time": "2021-11-03T19:20:53.109Z"
   },
   {
    "duration": 6,
    "start_time": "2021-11-03T19:21:22.773Z"
   },
   {
    "duration": 3,
    "start_time": "2021-11-03T19:24:08.329Z"
   },
   {
    "duration": 326,
    "start_time": "2021-11-03T19:24:08.340Z"
   },
   {
    "duration": 23,
    "start_time": "2021-11-03T19:24:08.668Z"
   },
   {
    "duration": 19,
    "start_time": "2021-11-03T19:24:08.693Z"
   },
   {
    "duration": 15,
    "start_time": "2021-11-03T19:24:08.714Z"
   },
   {
    "duration": 40,
    "start_time": "2021-11-03T19:24:08.731Z"
   },
   {
    "duration": 15,
    "start_time": "2021-11-03T19:24:08.773Z"
   },
   {
    "duration": 36,
    "start_time": "2021-11-03T19:24:08.790Z"
   },
   {
    "duration": 50,
    "start_time": "2021-11-03T19:24:08.828Z"
   },
   {
    "duration": 33,
    "start_time": "2021-11-03T19:24:08.880Z"
   },
   {
    "duration": 48,
    "start_time": "2021-11-03T19:24:08.915Z"
   },
   {
    "duration": 27,
    "start_time": "2021-11-03T19:24:08.965Z"
   },
   {
    "duration": 24,
    "start_time": "2021-11-03T19:24:08.994Z"
   },
   {
    "duration": 48,
    "start_time": "2021-11-03T19:24:09.020Z"
   },
   {
    "duration": 22,
    "start_time": "2021-11-03T19:24:09.069Z"
   },
   {
    "duration": 15,
    "start_time": "2021-11-03T19:24:09.093Z"
   },
   {
    "duration": 15,
    "start_time": "2021-11-03T19:24:09.109Z"
   },
   {
    "duration": 175,
    "start_time": "2021-11-03T19:24:09.126Z"
   },
   {
    "duration": 237,
    "start_time": "2021-11-03T19:24:09.302Z"
   },
   {
    "duration": 6,
    "start_time": "2021-11-03T19:24:09.540Z"
   },
   {
    "duration": 22,
    "start_time": "2021-11-03T19:24:09.547Z"
   },
   {
    "duration": 173,
    "start_time": "2021-11-03T19:24:09.571Z"
   },
   {
    "duration": 24,
    "start_time": "2021-11-03T19:24:09.745Z"
   },
   {
    "duration": 180,
    "start_time": "2021-11-03T19:24:09.772Z"
   },
   {
    "duration": 143,
    "start_time": "2021-11-03T19:24:09.954Z"
   },
   {
    "duration": 11,
    "start_time": "2021-11-03T19:24:10.099Z"
   },
   {
    "duration": 184,
    "start_time": "2021-11-03T19:24:10.111Z"
   },
   {
    "duration": 206,
    "start_time": "2021-11-03T19:24:10.297Z"
   },
   {
    "duration": 137,
    "start_time": "2021-11-03T19:24:10.505Z"
   },
   {
    "duration": 7,
    "start_time": "2021-11-03T19:24:10.643Z"
   },
   {
    "duration": 18,
    "start_time": "2021-11-03T19:24:10.651Z"
   },
   {
    "duration": 179,
    "start_time": "2021-11-03T19:24:10.671Z"
   },
   {
    "duration": 254,
    "start_time": "2021-11-03T19:24:10.851Z"
   },
   {
    "duration": 180,
    "start_time": "2021-11-03T19:24:26.461Z"
   },
   {
    "duration": 167,
    "start_time": "2021-11-03T19:24:43.132Z"
   },
   {
    "duration": 174,
    "start_time": "2021-11-03T19:24:48.127Z"
   },
   {
    "duration": 12,
    "start_time": "2021-11-03T19:58:16.222Z"
   },
   {
    "duration": 12,
    "start_time": "2021-11-03T19:59:58.276Z"
   },
   {
    "duration": 11,
    "start_time": "2021-11-03T20:16:18.029Z"
   },
   {
    "duration": 241,
    "start_time": "2021-11-03T21:03:49.270Z"
   },
   {
    "duration": 14,
    "start_time": "2021-11-03T21:56:58.428Z"
   },
   {
    "duration": 17,
    "start_time": "2021-11-03T21:57:08.761Z"
   },
   {
    "duration": 11,
    "start_time": "2021-11-03T21:57:23.678Z"
   },
   {
    "duration": 10,
    "start_time": "2021-11-03T22:00:05.509Z"
   },
   {
    "duration": 3,
    "start_time": "2021-11-03T22:11:23.191Z"
   },
   {
    "duration": 318,
    "start_time": "2021-11-03T22:11:23.202Z"
   },
   {
    "duration": 23,
    "start_time": "2021-11-03T22:11:23.522Z"
   },
   {
    "duration": 19,
    "start_time": "2021-11-03T22:11:23.547Z"
   },
   {
    "duration": 21,
    "start_time": "2021-11-03T22:11:23.569Z"
   },
   {
    "duration": 13,
    "start_time": "2021-11-03T22:11:23.591Z"
   },
   {
    "duration": 159,
    "start_time": "2021-11-03T22:11:23.606Z"
   },
   {
    "duration": 43,
    "start_time": "2021-11-03T22:11:23.768Z"
   },
   {
    "duration": 19,
    "start_time": "2021-11-03T22:11:23.814Z"
   },
   {
    "duration": 64,
    "start_time": "2021-11-03T22:11:23.835Z"
   },
   {
    "duration": 30,
    "start_time": "2021-11-03T22:11:23.901Z"
   },
   {
    "duration": 61,
    "start_time": "2021-11-03T22:11:23.933Z"
   },
   {
    "duration": 36,
    "start_time": "2021-11-03T22:11:23.996Z"
   },
   {
    "duration": 66,
    "start_time": "2021-11-03T22:11:24.034Z"
   },
   {
    "duration": 21,
    "start_time": "2021-11-03T22:11:24.102Z"
   },
   {
    "duration": 15,
    "start_time": "2021-11-03T22:11:24.124Z"
   },
   {
    "duration": 26,
    "start_time": "2021-11-03T22:11:24.164Z"
   },
   {
    "duration": 281,
    "start_time": "2021-11-03T22:11:24.193Z"
   },
   {
    "duration": 234,
    "start_time": "2021-11-03T22:11:24.476Z"
   },
   {
    "duration": 8,
    "start_time": "2021-11-03T22:11:24.712Z"
   },
   {
    "duration": 14,
    "start_time": "2021-11-03T22:11:24.722Z"
   },
   {
    "duration": 309,
    "start_time": "2021-11-03T22:11:24.738Z"
   },
   {
    "duration": 25,
    "start_time": "2021-11-03T22:11:25.049Z"
   },
   {
    "duration": 298,
    "start_time": "2021-11-03T22:11:25.080Z"
   },
   {
    "duration": 151,
    "start_time": "2021-11-03T22:11:25.380Z"
   },
   {
    "duration": 13,
    "start_time": "2021-11-03T22:11:25.534Z"
   },
   {
    "duration": 199,
    "start_time": "2021-11-03T22:11:25.549Z"
   },
   {
    "duration": 214,
    "start_time": "2021-11-03T22:11:25.749Z"
   },
   {
    "duration": 148,
    "start_time": "2021-11-03T22:11:25.965Z"
   },
   {
    "duration": 5,
    "start_time": "2021-11-03T22:11:26.115Z"
   },
   {
    "duration": 13,
    "start_time": "2021-11-03T22:11:26.122Z"
   },
   {
    "duration": 199,
    "start_time": "2021-11-03T22:11:26.136Z"
   },
   {
    "duration": 306,
    "start_time": "2021-11-03T22:11:26.337Z"
   },
   {
    "duration": 24,
    "start_time": "2021-11-03T22:11:26.646Z"
   },
   {
    "duration": 15,
    "start_time": "2021-11-03T22:11:26.673Z"
   },
   {
    "duration": 994,
    "start_time": "2021-11-10T20:37:01.751Z"
   },
   {
    "duration": 284,
    "start_time": "2021-11-10T20:37:02.746Z"
   },
   {
    "duration": 26,
    "start_time": "2021-11-10T20:37:03.033Z"
   },
   {
    "duration": 19,
    "start_time": "2021-11-10T20:37:03.061Z"
   },
   {
    "duration": 18,
    "start_time": "2021-11-10T20:37:03.082Z"
   },
   {
    "duration": 14,
    "start_time": "2021-11-10T20:37:03.102Z"
   },
   {
    "duration": 16,
    "start_time": "2021-11-10T20:37:03.118Z"
   },
   {
    "duration": 57,
    "start_time": "2021-11-10T20:37:03.136Z"
   },
   {
    "duration": 20,
    "start_time": "2021-11-10T20:37:03.196Z"
   },
   {
    "duration": 21,
    "start_time": "2021-11-10T20:37:08.486Z"
   },
   {
    "duration": 4744,
    "start_time": "2021-11-10T20:37:16.986Z"
   },
   {
    "duration": 4245,
    "start_time": "2021-11-10T20:41:11.668Z"
   },
   {
    "duration": 175,
    "start_time": "2021-11-10T20:41:53.224Z"
   },
   {
    "duration": 189,
    "start_time": "2021-11-10T20:46:19.356Z"
   },
   {
    "duration": 53,
    "start_time": "2021-11-10T20:46:57.506Z"
   },
   {
    "duration": 104,
    "start_time": "2021-11-10T20:47:19.501Z"
   },
   {
    "duration": 126,
    "start_time": "2021-11-10T20:47:34.582Z"
   },
   {
    "duration": 777,
    "start_time": "2021-11-10T20:49:45.256Z"
   },
   {
    "duration": 30,
    "start_time": "2021-11-10T20:50:34.059Z"
   },
   {
    "duration": 70,
    "start_time": "2021-11-10T20:50:35.606Z"
   },
   {
    "duration": 27,
    "start_time": "2021-11-10T20:50:50.421Z"
   },
   {
    "duration": 724,
    "start_time": "2021-11-10T20:55:10.702Z"
   },
   {
    "duration": 3,
    "start_time": "2021-11-10T20:55:15.949Z"
   },
   {
    "duration": 279,
    "start_time": "2021-11-10T20:55:15.969Z"
   },
   {
    "duration": 25,
    "start_time": "2021-11-10T20:55:16.250Z"
   },
   {
    "duration": 21,
    "start_time": "2021-11-10T20:55:16.277Z"
   },
   {
    "duration": 17,
    "start_time": "2021-11-10T20:55:16.300Z"
   },
   {
    "duration": 13,
    "start_time": "2021-11-10T20:55:16.319Z"
   },
   {
    "duration": 13,
    "start_time": "2021-11-10T20:55:16.334Z"
   },
   {
    "duration": 63,
    "start_time": "2021-11-10T20:55:16.348Z"
   },
   {
    "duration": 20,
    "start_time": "2021-11-10T20:55:16.413Z"
   },
   {
    "duration": 108,
    "start_time": "2021-11-10T20:55:16.435Z"
   },
   {
    "duration": 30,
    "start_time": "2021-11-10T20:55:16.544Z"
   },
   {
    "duration": 41,
    "start_time": "2021-11-10T20:55:16.575Z"
   },
   {
    "duration": 49,
    "start_time": "2021-11-10T20:55:16.617Z"
   },
   {
    "duration": 39,
    "start_time": "2021-11-10T20:55:16.668Z"
   },
   {
    "duration": 22,
    "start_time": "2021-11-10T20:55:16.708Z"
   },
   {
    "duration": 46,
    "start_time": "2021-11-10T20:55:20.113Z"
   },
   {
    "duration": 2,
    "start_time": "2021-11-10T20:56:48.102Z"
   },
   {
    "duration": 282,
    "start_time": "2021-11-10T20:56:48.106Z"
   },
   {
    "duration": 23,
    "start_time": "2021-11-10T20:56:48.390Z"
   },
   {
    "duration": 19,
    "start_time": "2021-11-10T20:56:48.415Z"
   },
   {
    "duration": 15,
    "start_time": "2021-11-10T20:56:48.436Z"
   },
   {
    "duration": 45,
    "start_time": "2021-11-10T20:56:48.452Z"
   },
   {
    "duration": 14,
    "start_time": "2021-11-10T20:56:48.499Z"
   },
   {
    "duration": 38,
    "start_time": "2021-11-10T20:56:48.515Z"
   },
   {
    "duration": 41,
    "start_time": "2021-11-10T20:56:48.555Z"
   },
   {
    "duration": 98,
    "start_time": "2021-11-10T20:56:48.598Z"
   },
   {
    "duration": 29,
    "start_time": "2021-11-10T20:56:48.698Z"
   },
   {
    "duration": 27,
    "start_time": "2021-11-10T20:56:48.729Z"
   },
   {
    "duration": 69,
    "start_time": "2021-11-10T20:56:48.758Z"
   },
   {
    "duration": 24,
    "start_time": "2021-11-10T20:56:48.828Z"
   },
   {
    "duration": 38,
    "start_time": "2021-11-10T20:56:48.854Z"
   },
   {
    "duration": 38,
    "start_time": "2021-11-10T20:56:48.893Z"
   },
   {
    "duration": 16,
    "start_time": "2021-11-10T20:56:48.933Z"
   },
   {
    "duration": 41,
    "start_time": "2021-11-10T20:56:48.951Z"
   },
   {
    "duration": 16,
    "start_time": "2021-11-10T20:57:45.256Z"
   },
   {
    "duration": 2,
    "start_time": "2021-11-10T20:59:22.266Z"
   },
   {
    "duration": 285,
    "start_time": "2021-11-10T20:59:22.270Z"
   },
   {
    "duration": 22,
    "start_time": "2021-11-10T20:59:22.557Z"
   },
   {
    "duration": 18,
    "start_time": "2021-11-10T20:59:22.581Z"
   },
   {
    "duration": 15,
    "start_time": "2021-11-10T20:59:22.600Z"
   },
   {
    "duration": 12,
    "start_time": "2021-11-10T20:59:22.616Z"
   },
   {
    "duration": 17,
    "start_time": "2021-11-10T20:59:22.629Z"
   },
   {
    "duration": 59,
    "start_time": "2021-11-10T20:59:22.647Z"
   },
   {
    "duration": 17,
    "start_time": "2021-11-10T20:59:22.709Z"
   },
   {
    "duration": 98,
    "start_time": "2021-11-10T20:59:22.727Z"
   },
   {
    "duration": 29,
    "start_time": "2021-11-10T20:59:22.827Z"
   },
   {
    "duration": 43,
    "start_time": "2021-11-10T20:59:22.858Z"
   },
   {
    "duration": 48,
    "start_time": "2021-11-10T20:59:22.903Z"
   },
   {
    "duration": 23,
    "start_time": "2021-11-10T20:59:22.952Z"
   },
   {
    "duration": 23,
    "start_time": "2021-11-10T20:59:22.992Z"
   },
   {
    "duration": 36,
    "start_time": "2021-11-10T20:59:23.017Z"
   },
   {
    "duration": 36,
    "start_time": "2021-11-10T20:59:23.055Z"
   },
   {
    "duration": 21,
    "start_time": "2021-11-10T20:59:23.093Z"
   },
   {
    "duration": 16,
    "start_time": "2021-11-10T20:59:26.057Z"
   },
   {
    "duration": 19,
    "start_time": "2021-11-10T21:00:59.256Z"
   },
   {
    "duration": 19,
    "start_time": "2021-11-10T21:04:56.582Z"
   },
   {
    "duration": 3,
    "start_time": "2021-11-10T21:05:07.609Z"
   },
   {
    "duration": 283,
    "start_time": "2021-11-10T21:05:07.620Z"
   },
   {
    "duration": 22,
    "start_time": "2021-11-10T21:05:07.905Z"
   },
   {
    "duration": 19,
    "start_time": "2021-11-10T21:05:07.929Z"
   },
   {
    "duration": 17,
    "start_time": "2021-11-10T21:05:07.950Z"
   },
   {
    "duration": 30,
    "start_time": "2021-11-10T21:05:07.969Z"
   },
   {
    "duration": 16,
    "start_time": "2021-11-10T21:05:08.001Z"
   },
   {
    "duration": 53,
    "start_time": "2021-11-10T21:05:08.019Z"
   },
   {
    "duration": 32,
    "start_time": "2021-11-10T21:05:08.074Z"
   },
   {
    "duration": 85,
    "start_time": "2021-11-10T21:05:08.109Z"
   },
   {
    "duration": 31,
    "start_time": "2021-11-10T21:05:08.196Z"
   },
   {
    "duration": 27,
    "start_time": "2021-11-10T21:05:08.229Z"
   },
   {
    "duration": 75,
    "start_time": "2021-11-10T21:05:08.257Z"
   },
   {
    "duration": 23,
    "start_time": "2021-11-10T21:05:08.333Z"
   },
   {
    "duration": 36,
    "start_time": "2021-11-10T21:05:08.358Z"
   },
   {
    "duration": 41,
    "start_time": "2021-11-10T21:05:08.396Z"
   },
   {
    "duration": 15,
    "start_time": "2021-11-10T21:05:08.438Z"
   },
   {
    "duration": 44,
    "start_time": "2021-11-10T21:05:08.455Z"
   },
   {
    "duration": 17,
    "start_time": "2021-11-10T21:05:08.500Z"
   },
   {
    "duration": 15,
    "start_time": "2021-11-10T21:05:11.088Z"
   },
   {
    "duration": 16,
    "start_time": "2021-11-10T21:05:12.369Z"
   },
   {
    "duration": 212,
    "start_time": "2021-11-10T21:12:27.474Z"
   },
   {
    "duration": 4985,
    "start_time": "2021-11-10T21:14:52.127Z"
   },
   {
    "duration": 186,
    "start_time": "2021-11-10T21:16:20.439Z"
   },
   {
    "duration": 185,
    "start_time": "2021-11-10T21:16:38.438Z"
   },
   {
    "duration": 3,
    "start_time": "2021-11-10T21:16:49.968Z"
   },
   {
    "duration": 670,
    "start_time": "2021-11-10T21:16:49.978Z"
   },
   {
    "duration": 22,
    "start_time": "2021-11-10T21:16:50.650Z"
   },
   {
    "duration": 17,
    "start_time": "2021-11-10T21:16:50.674Z"
   },
   {
    "duration": 14,
    "start_time": "2021-11-10T21:16:50.693Z"
   },
   {
    "duration": 11,
    "start_time": "2021-11-10T21:16:50.708Z"
   },
   {
    "duration": 23,
    "start_time": "2021-11-10T21:16:50.720Z"
   },
   {
    "duration": 49,
    "start_time": "2021-11-10T21:16:50.745Z"
   },
   {
    "duration": 18,
    "start_time": "2021-11-10T21:16:50.796Z"
   },
   {
    "duration": 18,
    "start_time": "2021-11-10T21:16:53.376Z"
   },
   {
    "duration": 184,
    "start_time": "2021-11-10T21:16:54.233Z"
   },
   {
    "duration": 1759,
    "start_time": "2021-11-10T21:17:15.669Z"
   },
   {
    "duration": 1844,
    "start_time": "2021-11-10T21:17:39.766Z"
   },
   {
    "duration": 3,
    "start_time": "2021-11-10T21:17:55.420Z"
   },
   {
    "duration": 261,
    "start_time": "2021-11-10T21:17:55.425Z"
   },
   {
    "duration": 24,
    "start_time": "2021-11-10T21:17:55.688Z"
   },
   {
    "duration": 20,
    "start_time": "2021-11-10T21:17:55.714Z"
   },
   {
    "duration": 16,
    "start_time": "2021-11-10T21:17:55.735Z"
   },
   {
    "duration": 45,
    "start_time": "2021-11-10T21:17:55.753Z"
   },
   {
    "duration": 13,
    "start_time": "2021-11-10T21:17:55.800Z"
   },
   {
    "duration": 33,
    "start_time": "2021-11-10T21:17:55.815Z"
   },
   {
    "duration": 17,
    "start_time": "2021-11-10T21:17:55.850Z"
   },
   {
    "duration": 18,
    "start_time": "2021-11-10T21:17:57.688Z"
   },
   {
    "duration": 167,
    "start_time": "2021-11-10T21:17:58.578Z"
   },
   {
    "duration": 194,
    "start_time": "2021-11-10T21:18:20.811Z"
   },
   {
    "duration": 2,
    "start_time": "2021-11-10T21:19:02.847Z"
   },
   {
    "duration": 267,
    "start_time": "2021-11-10T21:19:02.851Z"
   },
   {
    "duration": 22,
    "start_time": "2021-11-10T21:19:03.120Z"
   },
   {
    "duration": 24,
    "start_time": "2021-11-10T21:19:03.144Z"
   },
   {
    "duration": 15,
    "start_time": "2021-11-10T21:19:03.170Z"
   },
   {
    "duration": 11,
    "start_time": "2021-11-10T21:19:03.191Z"
   },
   {
    "duration": 18,
    "start_time": "2021-11-10T21:19:03.203Z"
   },
   {
    "duration": 37,
    "start_time": "2021-11-10T21:19:03.223Z"
   },
   {
    "duration": 36,
    "start_time": "2021-11-10T21:19:03.263Z"
   },
   {
    "duration": 18,
    "start_time": "2021-11-10T21:19:11.438Z"
   },
   {
    "duration": 8,
    "start_time": "2021-11-10T21:19:13.982Z"
   },
   {
    "duration": 8,
    "start_time": "2021-11-10T21:19:36.509Z"
   },
   {
    "duration": 8,
    "start_time": "2021-11-10T21:19:47.200Z"
   },
   {
    "duration": 8,
    "start_time": "2021-11-10T21:20:36.592Z"
   },
   {
    "duration": 20,
    "start_time": "2021-11-10T21:26:17.342Z"
   },
   {
    "duration": 86,
    "start_time": "2021-11-10T21:27:06.124Z"
   },
   {
    "duration": 24,
    "start_time": "2021-11-10T21:28:02.323Z"
   },
   {
    "duration": 27,
    "start_time": "2021-11-10T21:47:45.367Z"
   },
   {
    "duration": 25,
    "start_time": "2021-11-10T21:48:12.516Z"
   },
   {
    "duration": 3,
    "start_time": "2021-11-10T21:48:46.427Z"
   },
   {
    "duration": 277,
    "start_time": "2021-11-10T21:48:46.431Z"
   },
   {
    "duration": 22,
    "start_time": "2021-11-10T21:48:46.710Z"
   },
   {
    "duration": 22,
    "start_time": "2021-11-10T21:48:46.734Z"
   },
   {
    "duration": 14,
    "start_time": "2021-11-10T21:48:46.758Z"
   },
   {
    "duration": 18,
    "start_time": "2021-11-10T21:48:46.774Z"
   },
   {
    "duration": 26,
    "start_time": "2021-11-10T21:48:46.794Z"
   },
   {
    "duration": 39,
    "start_time": "2021-11-10T21:48:46.822Z"
   },
   {
    "duration": 17,
    "start_time": "2021-11-10T21:48:46.864Z"
   },
   {
    "duration": 24,
    "start_time": "2021-11-10T21:48:46.890Z"
   },
   {
    "duration": 90,
    "start_time": "2021-11-10T21:48:46.916Z"
   },
   {
    "duration": 29,
    "start_time": "2021-11-10T21:48:47.008Z"
   },
   {
    "duration": 27,
    "start_time": "2021-11-10T21:48:47.039Z"
   },
   {
    "duration": 76,
    "start_time": "2021-11-10T21:48:47.068Z"
   },
   {
    "duration": 24,
    "start_time": "2021-11-10T21:48:47.145Z"
   },
   {
    "duration": 38,
    "start_time": "2021-11-10T21:48:47.171Z"
   },
   {
    "duration": 47,
    "start_time": "2021-11-10T21:48:47.211Z"
   },
   {
    "duration": 39,
    "start_time": "2021-11-10T21:48:47.260Z"
   },
   {
    "duration": 21,
    "start_time": "2021-11-10T21:48:47.301Z"
   },
   {
    "duration": 752,
    "start_time": "2021-11-10T21:48:47.323Z"
   },
   {
    "duration": -144,
    "start_time": "2021-11-10T21:48:48.221Z"
   },
   {
    "duration": 17,
    "start_time": "2021-11-10T21:49:22.104Z"
   },
   {
    "duration": 16,
    "start_time": "2021-11-10T21:49:31.092Z"
   },
   {
    "duration": 3,
    "start_time": "2021-11-10T22:29:07.566Z"
   },
   {
    "duration": 275,
    "start_time": "2021-11-10T22:29:07.571Z"
   },
   {
    "duration": 23,
    "start_time": "2021-11-10T22:29:07.848Z"
   },
   {
    "duration": 17,
    "start_time": "2021-11-10T22:29:07.873Z"
   },
   {
    "duration": 14,
    "start_time": "2021-11-10T22:29:07.892Z"
   },
   {
    "duration": 10,
    "start_time": "2021-11-10T22:29:07.908Z"
   },
   {
    "duration": 14,
    "start_time": "2021-11-10T22:29:07.919Z"
   },
   {
    "duration": 55,
    "start_time": "2021-11-10T22:29:07.936Z"
   },
   {
    "duration": 18,
    "start_time": "2021-11-10T22:29:07.993Z"
   },
   {
    "duration": 22,
    "start_time": "2021-11-10T22:29:08.012Z"
   },
   {
    "duration": 105,
    "start_time": "2021-11-10T22:29:08.036Z"
   },
   {
    "duration": 28,
    "start_time": "2021-11-10T22:29:08.143Z"
   },
   {
    "duration": 40,
    "start_time": "2021-11-10T22:29:08.172Z"
   },
   {
    "duration": 54,
    "start_time": "2021-11-10T22:29:08.214Z"
   },
   {
    "duration": 42,
    "start_time": "2021-11-10T22:29:08.270Z"
   },
   {
    "duration": 24,
    "start_time": "2021-11-10T22:29:08.314Z"
   },
   {
    "duration": 65,
    "start_time": "2021-11-10T22:29:08.340Z"
   },
   {
    "duration": 26,
    "start_time": "2021-11-10T22:29:08.407Z"
   },
   {
    "duration": 22,
    "start_time": "2021-11-10T22:29:08.435Z"
   },
   {
    "duration": 377,
    "start_time": "2021-11-10T22:29:11.132Z"
   },
   {
    "duration": 423,
    "start_time": "2021-11-10T22:30:16.411Z"
   },
   {
    "duration": 382,
    "start_time": "2021-11-10T22:38:03.859Z"
   },
   {
    "duration": 382,
    "start_time": "2021-11-10T22:38:31.576Z"
   },
   {
    "duration": 537,
    "start_time": "2021-11-10T22:42:32.309Z"
   },
   {
    "duration": 102,
    "start_time": "2021-11-10T22:43:18.891Z"
   },
   {
    "duration": 91,
    "start_time": "2021-11-10T22:43:33.193Z"
   },
   {
    "duration": 3,
    "start_time": "2021-11-10T22:54:26.409Z"
   },
   {
    "duration": 268,
    "start_time": "2021-11-10T22:54:26.414Z"
   },
   {
    "duration": 22,
    "start_time": "2021-11-10T22:54:26.684Z"
   },
   {
    "duration": 19,
    "start_time": "2021-11-10T22:54:26.708Z"
   },
   {
    "duration": 15,
    "start_time": "2021-11-10T22:54:26.728Z"
   },
   {
    "duration": 11,
    "start_time": "2021-11-10T22:54:26.744Z"
   },
   {
    "duration": 42,
    "start_time": "2021-11-10T22:54:26.756Z"
   },
   {
    "duration": 35,
    "start_time": "2021-11-10T22:54:26.800Z"
   },
   {
    "duration": 18,
    "start_time": "2021-11-10T22:54:26.838Z"
   },
   {
    "duration": 31,
    "start_time": "2021-11-10T22:54:30.908Z"
   },
   {
    "duration": 30,
    "start_time": "2021-11-10T22:54:48.495Z"
   },
   {
    "duration": 3,
    "start_time": "2021-11-10T23:00:07.761Z"
   },
   {
    "duration": 270,
    "start_time": "2021-11-10T23:00:07.766Z"
   },
   {
    "duration": 22,
    "start_time": "2021-11-10T23:00:08.038Z"
   },
   {
    "duration": 19,
    "start_time": "2021-11-10T23:00:08.062Z"
   },
   {
    "duration": 15,
    "start_time": "2021-11-10T23:00:08.083Z"
   },
   {
    "duration": 21,
    "start_time": "2021-11-10T23:00:08.100Z"
   },
   {
    "duration": 32,
    "start_time": "2021-11-10T23:00:08.123Z"
   },
   {
    "duration": 47,
    "start_time": "2021-11-10T23:00:08.157Z"
   },
   {
    "duration": 20,
    "start_time": "2021-11-10T23:00:08.206Z"
   },
   {
    "duration": 10,
    "start_time": "2021-11-10T23:00:08.228Z"
   },
   {
    "duration": 110,
    "start_time": "2021-11-10T23:00:08.240Z"
   },
   {
    "duration": 44,
    "start_time": "2021-11-10T23:00:08.352Z"
   },
   {
    "duration": 30,
    "start_time": "2021-11-10T23:00:08.398Z"
   },
   {
    "duration": 72,
    "start_time": "2021-11-10T23:00:08.430Z"
   },
   {
    "duration": 24,
    "start_time": "2021-11-10T23:00:08.504Z"
   },
   {
    "duration": 22,
    "start_time": "2021-11-10T23:00:08.530Z"
   },
   {
    "duration": 69,
    "start_time": "2021-11-10T23:00:08.554Z"
   },
   {
    "duration": 24,
    "start_time": "2021-11-10T23:00:08.624Z"
   },
   {
    "duration": 19,
    "start_time": "2021-11-10T23:00:08.651Z"
   },
   {
    "duration": 23,
    "start_time": "2021-11-10T23:00:16.582Z"
   },
   {
    "duration": 55,
    "start_time": "2021-11-10T23:01:52.297Z"
   },
   {
    "duration": 728,
    "start_time": "2021-11-10T23:10:48.201Z"
   },
   {
    "duration": 4652,
    "start_time": "2021-11-10T23:15:34.726Z"
   },
   {
    "duration": 613,
    "start_time": "2021-11-10T23:24:21.098Z"
   },
   {
    "duration": 1149,
    "start_time": "2021-11-10T23:24:28.001Z"
   },
   {
    "duration": 598,
    "start_time": "2021-11-10T23:24:29.152Z"
   },
   {
    "duration": 25,
    "start_time": "2021-11-10T23:24:29.752Z"
   },
   {
    "duration": 18,
    "start_time": "2021-11-10T23:24:29.778Z"
   },
   {
    "duration": 15,
    "start_time": "2021-11-10T23:24:29.797Z"
   },
   {
    "duration": 11,
    "start_time": "2021-11-10T23:24:29.813Z"
   },
   {
    "duration": 13,
    "start_time": "2021-11-10T23:24:29.825Z"
   },
   {
    "duration": 63,
    "start_time": "2021-11-10T23:24:29.841Z"
   },
   {
    "duration": 21,
    "start_time": "2021-11-10T23:24:29.906Z"
   },
   {
    "duration": 12,
    "start_time": "2021-11-10T23:24:29.928Z"
   },
   {
    "duration": 124,
    "start_time": "2021-11-10T23:24:29.941Z"
   },
   {
    "duration": 39,
    "start_time": "2021-11-10T23:24:30.067Z"
   },
   {
    "duration": 28,
    "start_time": "2021-11-10T23:24:30.108Z"
   },
   {
    "duration": 74,
    "start_time": "2021-11-10T23:24:30.138Z"
   },
   {
    "duration": 24,
    "start_time": "2021-11-10T23:24:30.214Z"
   },
   {
    "duration": 23,
    "start_time": "2021-11-10T23:24:30.240Z"
   },
   {
    "duration": 63,
    "start_time": "2021-11-10T23:24:30.264Z"
   },
   {
    "duration": 24,
    "start_time": "2021-11-10T23:24:30.328Z"
   },
   {
    "duration": 21,
    "start_time": "2021-11-10T23:24:30.353Z"
   },
   {
    "duration": 276,
    "start_time": "2021-11-10T23:24:36.047Z"
   },
   {
    "duration": 432,
    "start_time": "2021-11-10T23:25:34.818Z"
   },
   {
    "duration": 2415,
    "start_time": "2021-11-10T23:26:21.577Z"
   },
   {
    "duration": 1132,
    "start_time": "2021-11-15T17:29:08.061Z"
   },
   {
    "duration": 288,
    "start_time": "2021-11-15T17:29:09.196Z"
   },
   {
    "duration": 30,
    "start_time": "2021-11-15T17:29:09.486Z"
   },
   {
    "duration": 22,
    "start_time": "2021-11-15T17:29:09.518Z"
   },
   {
    "duration": 17,
    "start_time": "2021-11-15T17:29:09.542Z"
   },
   {
    "duration": 11,
    "start_time": "2021-11-15T17:29:09.560Z"
   },
   {
    "duration": 15,
    "start_time": "2021-11-15T17:29:09.572Z"
   },
   {
    "duration": 64,
    "start_time": "2021-11-15T17:29:09.589Z"
   },
   {
    "duration": 21,
    "start_time": "2021-11-15T17:29:09.655Z"
   },
   {
    "duration": 11,
    "start_time": "2021-11-15T17:29:09.677Z"
   },
   {
    "duration": 107,
    "start_time": "2021-11-15T17:29:09.690Z"
   },
   {
    "duration": 29,
    "start_time": "2021-11-15T17:29:09.799Z"
   },
   {
    "duration": 40,
    "start_time": "2021-11-15T17:29:09.830Z"
   },
   {
    "duration": 72,
    "start_time": "2021-11-15T17:29:09.872Z"
   },
   {
    "duration": 27,
    "start_time": "2021-11-15T17:29:09.946Z"
   },
   {
    "duration": 25,
    "start_time": "2021-11-15T17:29:09.976Z"
   },
   {
    "duration": 77,
    "start_time": "2021-11-15T17:29:10.003Z"
   },
   {
    "duration": 27,
    "start_time": "2021-11-15T17:29:10.082Z"
   },
   {
    "duration": 48,
    "start_time": "2021-11-15T17:29:10.111Z"
   },
   {
    "duration": 6,
    "start_time": "2021-11-15T17:29:23.211Z"
   },
   {
    "duration": 21,
    "start_time": "2021-11-15T17:29:33.491Z"
   },
   {
    "duration": 9,
    "start_time": "2021-11-15T17:43:50.970Z"
   },
   {
    "duration": 476,
    "start_time": "2021-11-15T17:47:15.542Z"
   },
   {
    "duration": 273,
    "start_time": "2021-11-15T17:47:58.760Z"
   },
   {
    "duration": 266,
    "start_time": "2021-11-15T17:48:20.374Z"
   },
   {
    "duration": 48,
    "start_time": "2021-11-15T17:51:44.903Z"
   },
   {
    "duration": 26,
    "start_time": "2021-11-15T17:52:32.738Z"
   },
   {
    "duration": 50,
    "start_time": "2021-11-15T17:56:06.649Z"
   },
   {
    "duration": 272,
    "start_time": "2021-11-15T18:00:17.361Z"
   },
   {
    "duration": 288,
    "start_time": "2021-11-15T18:00:27.093Z"
   },
   {
    "duration": 273,
    "start_time": "2021-11-15T18:06:55.848Z"
   },
   {
    "duration": 297,
    "start_time": "2021-11-15T18:07:04.108Z"
   },
   {
    "duration": 295,
    "start_time": "2021-11-15T18:07:25.053Z"
   },
   {
    "duration": 267,
    "start_time": "2021-11-15T18:11:32.915Z"
   },
   {
    "duration": 26,
    "start_time": "2021-11-15T18:12:38.544Z"
   },
   {
    "duration": 271,
    "start_time": "2021-11-15T18:12:41.357Z"
   },
   {
    "duration": 258,
    "start_time": "2021-11-15T18:13:24.900Z"
   },
   {
    "duration": 314,
    "start_time": "2021-11-15T18:39:53.010Z"
   },
   {
    "duration": 4,
    "start_time": "2021-11-15T18:40:09.925Z"
   },
   {
    "duration": 414,
    "start_time": "2021-11-15T18:40:09.936Z"
   },
   {
    "duration": 36,
    "start_time": "2021-11-15T18:40:10.352Z"
   },
   {
    "duration": 32,
    "start_time": "2021-11-15T18:40:10.391Z"
   },
   {
    "duration": 25,
    "start_time": "2021-11-15T18:40:10.446Z"
   },
   {
    "duration": 19,
    "start_time": "2021-11-15T18:40:10.473Z"
   },
   {
    "duration": 25,
    "start_time": "2021-11-15T18:40:10.494Z"
   },
   {
    "duration": 65,
    "start_time": "2021-11-15T18:40:10.545Z"
   },
   {
    "duration": 30,
    "start_time": "2021-11-15T18:40:10.614Z"
   },
   {
    "duration": 16,
    "start_time": "2021-11-15T18:40:10.647Z"
   },
   {
    "duration": 107,
    "start_time": "2021-11-15T18:40:10.665Z"
   },
   {
    "duration": 47,
    "start_time": "2021-11-15T18:40:10.774Z"
   },
   {
    "duration": 56,
    "start_time": "2021-11-15T18:40:10.823Z"
   },
   {
    "duration": 90,
    "start_time": "2021-11-15T18:40:10.882Z"
   },
   {
    "duration": 40,
    "start_time": "2021-11-15T18:40:10.975Z"
   },
   {
    "duration": 53,
    "start_time": "2021-11-15T18:40:11.018Z"
   },
   {
    "duration": 71,
    "start_time": "2021-11-15T18:40:11.074Z"
   },
   {
    "duration": 25,
    "start_time": "2021-11-15T18:40:11.148Z"
   },
   {
    "duration": 23,
    "start_time": "2021-11-15T18:40:11.175Z"
   },
   {
    "duration": 53,
    "start_time": "2021-11-15T18:40:11.200Z"
   },
   {
    "duration": 1164,
    "start_time": "2021-11-15T18:40:11.255Z"
   },
   {
    "duration": -1000,
    "start_time": "2021-11-15T18:40:13.422Z"
   },
   {
    "duration": -1004,
    "start_time": "2021-11-15T18:40:13.426Z"
   },
   {
    "duration": -1007,
    "start_time": "2021-11-15T18:40:13.430Z"
   },
   {
    "duration": -1010,
    "start_time": "2021-11-15T18:40:13.434Z"
   },
   {
    "duration": -1012,
    "start_time": "2021-11-15T18:40:13.437Z"
   },
   {
    "duration": -1014,
    "start_time": "2021-11-15T18:40:13.440Z"
   },
   {
    "duration": -1017,
    "start_time": "2021-11-15T18:40:13.443Z"
   },
   {
    "duration": -1020,
    "start_time": "2021-11-15T18:40:13.447Z"
   },
   {
    "duration": -1021,
    "start_time": "2021-11-15T18:40:13.449Z"
   },
   {
    "duration": -1023,
    "start_time": "2021-11-15T18:40:13.452Z"
   },
   {
    "duration": -1024,
    "start_time": "2021-11-15T18:40:13.454Z"
   },
   {
    "duration": -1026,
    "start_time": "2021-11-15T18:40:13.457Z"
   },
   {
    "duration": -1028,
    "start_time": "2021-11-15T18:40:13.460Z"
   },
   {
    "duration": -1031,
    "start_time": "2021-11-15T18:40:13.463Z"
   },
   {
    "duration": -1037,
    "start_time": "2021-11-15T18:40:13.470Z"
   },
   {
    "duration": -1039,
    "start_time": "2021-11-15T18:40:13.473Z"
   },
   {
    "duration": -1041,
    "start_time": "2021-11-15T18:40:13.476Z"
   },
   {
    "duration": -1042,
    "start_time": "2021-11-15T18:40:13.478Z"
   },
   {
    "duration": -1045,
    "start_time": "2021-11-15T18:40:13.482Z"
   },
   {
    "duration": 18,
    "start_time": "2021-11-15T18:41:32.848Z"
   },
   {
    "duration": 4,
    "start_time": "2021-11-15T18:42:03.396Z"
   },
   {
    "duration": 288,
    "start_time": "2021-11-15T18:42:03.407Z"
   },
   {
    "duration": 25,
    "start_time": "2021-11-15T18:42:03.697Z"
   },
   {
    "duration": 21,
    "start_time": "2021-11-15T18:42:03.724Z"
   },
   {
    "duration": 16,
    "start_time": "2021-11-15T18:42:03.747Z"
   },
   {
    "duration": 12,
    "start_time": "2021-11-15T18:42:03.765Z"
   },
   {
    "duration": 25,
    "start_time": "2021-11-15T18:42:03.778Z"
   },
   {
    "duration": 54,
    "start_time": "2021-11-15T18:42:03.805Z"
   },
   {
    "duration": 19,
    "start_time": "2021-11-15T18:42:03.862Z"
   },
   {
    "duration": 11,
    "start_time": "2021-11-15T18:42:03.884Z"
   },
   {
    "duration": 103,
    "start_time": "2021-11-15T18:42:03.897Z"
   },
   {
    "duration": 32,
    "start_time": "2021-11-15T18:42:04.002Z"
   },
   {
    "duration": 31,
    "start_time": "2021-11-15T18:42:04.045Z"
   },
   {
    "duration": 79,
    "start_time": "2021-11-15T18:42:04.078Z"
   },
   {
    "duration": 28,
    "start_time": "2021-11-15T18:42:04.158Z"
   },
   {
    "duration": 27,
    "start_time": "2021-11-15T18:42:04.188Z"
   },
   {
    "duration": 72,
    "start_time": "2021-11-15T18:42:04.217Z"
   },
   {
    "duration": 26,
    "start_time": "2021-11-15T18:42:04.291Z"
   },
   {
    "duration": 46,
    "start_time": "2021-11-15T18:42:04.319Z"
   },
   {
    "duration": 27,
    "start_time": "2021-11-15T18:42:04.367Z"
   },
   {
    "duration": 21,
    "start_time": "2021-11-15T18:42:04.396Z"
   },
   {
    "duration": 39,
    "start_time": "2021-11-15T18:42:04.419Z"
   },
   {
    "duration": 185,
    "start_time": "2021-11-15T18:42:04.460Z"
   },
   {
    "duration": 155,
    "start_time": "2021-11-15T18:42:04.650Z"
   },
   {
    "duration": 6,
    "start_time": "2021-11-15T18:42:04.808Z"
   },
   {
    "duration": 24,
    "start_time": "2021-11-15T18:42:04.816Z"
   },
   {
    "duration": 176,
    "start_time": "2021-11-15T18:42:04.844Z"
   },
   {
    "duration": 23,
    "start_time": "2021-11-15T18:42:05.022Z"
   },
   {
    "duration": 187,
    "start_time": "2021-11-15T18:42:05.047Z"
   },
   {
    "duration": 139,
    "start_time": "2021-11-15T18:42:05.236Z"
   },
   {
    "duration": 12,
    "start_time": "2021-11-15T18:42:05.377Z"
   },
   {
    "duration": 260,
    "start_time": "2021-11-15T18:42:05.391Z"
   },
   {
    "duration": 207,
    "start_time": "2021-11-15T18:42:05.653Z"
   },
   {
    "duration": 149,
    "start_time": "2021-11-15T18:42:05.862Z"
   },
   {
    "duration": 6,
    "start_time": "2021-11-15T18:42:06.014Z"
   },
   {
    "duration": 25,
    "start_time": "2021-11-15T18:42:06.022Z"
   },
   {
    "duration": 197,
    "start_time": "2021-11-15T18:42:06.049Z"
   },
   {
    "duration": 199,
    "start_time": "2021-11-15T18:42:06.248Z"
   },
   {
    "duration": 11,
    "start_time": "2021-11-15T18:42:06.448Z"
   },
   {
    "duration": 10,
    "start_time": "2021-11-15T18:42:06.460Z"
   },
   {
    "duration": 276,
    "start_time": "2021-11-15T19:13:05.692Z"
   },
   {
    "duration": 3,
    "start_time": "2021-11-15T19:13:30.488Z"
   },
   {
    "duration": 88,
    "start_time": "2021-11-15T19:13:37.691Z"
   },
   {
    "duration": 263,
    "start_time": "2021-11-15T19:15:26.005Z"
   },
   {
    "duration": 93,
    "start_time": "2021-11-15T19:15:48.389Z"
   },
   {
    "duration": 343,
    "start_time": "2021-11-15T19:18:36.484Z"
   },
   {
    "duration": 273,
    "start_time": "2021-11-15T19:18:45.889Z"
   },
   {
    "duration": 278,
    "start_time": "2021-11-15T19:19:33.240Z"
   },
   {
    "duration": 338,
    "start_time": "2021-11-15T19:19:48.219Z"
   },
   {
    "duration": 553,
    "start_time": "2021-11-15T19:20:17.392Z"
   },
   {
    "duration": 90,
    "start_time": "2021-11-15T19:20:46.616Z"
   },
   {
    "duration": 282,
    "start_time": "2021-11-15T19:20:52.450Z"
   },
   {
    "duration": 8,
    "start_time": "2021-11-15T20:03:05.311Z"
   },
   {
    "duration": 275,
    "start_time": "2021-11-15T20:06:51.662Z"
   },
   {
    "duration": 268,
    "start_time": "2021-11-15T20:06:58.748Z"
   },
   {
    "duration": 8,
    "start_time": "2021-11-15T20:07:19.951Z"
   },
   {
    "duration": 9,
    "start_time": "2021-11-15T20:09:19.077Z"
   },
   {
    "duration": 5,
    "start_time": "2021-11-15T20:09:31.727Z"
   },
   {
    "duration": 9,
    "start_time": "2021-11-15T20:09:58.047Z"
   },
   {
    "duration": 604,
    "start_time": "2021-11-15T20:14:15.526Z"
   },
   {
    "duration": 10,
    "start_time": "2021-11-15T20:14:52.670Z"
   },
   {
    "duration": 7,
    "start_time": "2021-11-15T20:15:09.208Z"
   },
   {
    "duration": 364,
    "start_time": "2021-11-15T20:17:07.798Z"
   },
   {
    "duration": 285,
    "start_time": "2021-11-15T20:17:56.746Z"
   },
   {
    "duration": 9,
    "start_time": "2021-11-15T20:21:49.499Z"
   },
   {
    "duration": 10,
    "start_time": "2021-11-15T20:30:05.819Z"
   },
   {
    "duration": 10,
    "start_time": "2021-11-15T20:31:33.742Z"
   },
   {
    "duration": 10,
    "start_time": "2021-11-15T20:33:02.886Z"
   },
   {
    "duration": 9,
    "start_time": "2021-11-15T20:33:09.339Z"
   },
   {
    "duration": 271,
    "start_time": "2021-11-15T20:38:27.820Z"
   },
   {
    "duration": 20,
    "start_time": "2021-11-15T20:40:52.972Z"
   },
   {
    "duration": 944,
    "start_time": "2021-11-15T20:42:28.307Z"
   },
   {
    "duration": 30,
    "start_time": "2021-11-15T20:43:05.049Z"
   },
   {
    "duration": 276,
    "start_time": "2021-11-15T20:44:06.220Z"
   },
   {
    "duration": 306,
    "start_time": "2021-11-15T20:45:09.118Z"
   },
   {
    "duration": 28,
    "start_time": "2021-11-15T20:46:15.623Z"
   },
   {
    "duration": 264,
    "start_time": "2021-11-15T20:49:13.131Z"
   },
   {
    "duration": 29,
    "start_time": "2021-11-15T20:49:44.620Z"
   },
   {
    "duration": 288,
    "start_time": "2021-11-15T20:49:49.281Z"
   },
   {
    "duration": 339,
    "start_time": "2021-11-15T20:49:55.864Z"
   },
   {
    "duration": 325,
    "start_time": "2021-11-15T20:50:04.035Z"
   },
   {
    "duration": 278,
    "start_time": "2021-11-15T20:52:19.818Z"
   },
   {
    "duration": 27,
    "start_time": "2021-11-15T20:52:39.063Z"
   },
   {
    "duration": 17,
    "start_time": "2021-11-15T20:54:01.291Z"
   },
   {
    "duration": 399,
    "start_time": "2021-11-15T20:54:54.178Z"
   },
   {
    "duration": 6,
    "start_time": "2021-11-15T20:55:05.555Z"
   },
   {
    "duration": 280,
    "start_time": "2021-11-15T20:55:05.566Z"
   },
   {
    "duration": 26,
    "start_time": "2021-11-15T20:55:05.849Z"
   },
   {
    "duration": 20,
    "start_time": "2021-11-15T20:55:05.877Z"
   },
   {
    "duration": 16,
    "start_time": "2021-11-15T20:55:05.899Z"
   },
   {
    "duration": 46,
    "start_time": "2021-11-15T20:55:05.916Z"
   },
   {
    "duration": 20,
    "start_time": "2021-11-15T20:55:05.964Z"
   },
   {
    "duration": 59,
    "start_time": "2021-11-15T20:55:05.986Z"
   },
   {
    "duration": 22,
    "start_time": "2021-11-15T20:55:06.049Z"
   },
   {
    "duration": 9,
    "start_time": "2021-11-15T20:55:06.073Z"
   },
   {
    "duration": 92,
    "start_time": "2021-11-15T20:55:06.084Z"
   },
   {
    "duration": 34,
    "start_time": "2021-11-15T20:55:06.178Z"
   },
   {
    "duration": 50,
    "start_time": "2021-11-15T20:55:06.214Z"
   },
   {
    "duration": 52,
    "start_time": "2021-11-15T20:55:06.265Z"
   },
   {
    "duration": 46,
    "start_time": "2021-11-15T20:55:06.318Z"
   },
   {
    "duration": 24,
    "start_time": "2021-11-15T20:55:06.365Z"
   },
   {
    "duration": 57,
    "start_time": "2021-11-15T20:55:06.390Z"
   },
   {
    "duration": 29,
    "start_time": "2021-11-15T20:55:06.449Z"
   },
   {
    "duration": 22,
    "start_time": "2021-11-15T20:55:06.480Z"
   },
   {
    "duration": 54,
    "start_time": "2021-11-15T20:55:06.504Z"
   },
   {
    "duration": 27,
    "start_time": "2021-11-15T20:55:06.560Z"
   },
   {
    "duration": 19,
    "start_time": "2021-11-15T20:55:10.151Z"
   },
   {
    "duration": 3,
    "start_time": "2021-11-15T20:56:37.938Z"
   },
   {
    "duration": 294,
    "start_time": "2021-11-15T20:56:37.949Z"
   },
   {
    "duration": 24,
    "start_time": "2021-11-15T20:56:38.245Z"
   },
   {
    "duration": 19,
    "start_time": "2021-11-15T20:56:38.272Z"
   },
   {
    "duration": 20,
    "start_time": "2021-11-15T20:56:38.293Z"
   },
   {
    "duration": 35,
    "start_time": "2021-11-15T20:56:38.314Z"
   },
   {
    "duration": 14,
    "start_time": "2021-11-15T20:56:38.351Z"
   },
   {
    "duration": 36,
    "start_time": "2021-11-15T20:56:38.366Z"
   },
   {
    "duration": 40,
    "start_time": "2021-11-15T20:56:38.405Z"
   },
   {
    "duration": 10,
    "start_time": "2021-11-15T20:56:38.447Z"
   },
   {
    "duration": 88,
    "start_time": "2021-11-15T20:56:38.459Z"
   },
   {
    "duration": 36,
    "start_time": "2021-11-15T20:56:39.227Z"
   },
   {
    "duration": 28,
    "start_time": "2021-11-15T20:56:39.265Z"
   },
   {
    "duration": 69,
    "start_time": "2021-11-15T20:56:39.295Z"
   },
   {
    "duration": 24,
    "start_time": "2021-11-15T20:56:39.366Z"
   },
   {
    "duration": 23,
    "start_time": "2021-11-15T20:56:39.392Z"
   },
   {
    "duration": 70,
    "start_time": "2021-11-15T20:56:39.417Z"
   },
   {
    "duration": 26,
    "start_time": "2021-11-15T20:56:39.489Z"
   },
   {
    "duration": 46,
    "start_time": "2021-11-15T20:56:39.518Z"
   },
   {
    "duration": 28,
    "start_time": "2021-11-15T20:56:39.567Z"
   },
   {
    "duration": 26,
    "start_time": "2021-11-15T20:56:44.176Z"
   },
   {
    "duration": 23,
    "start_time": "2021-11-15T20:56:53.936Z"
   },
   {
    "duration": 20,
    "start_time": "2021-11-15T20:57:20.073Z"
   },
   {
    "duration": 7496,
    "start_time": "2021-11-15T20:59:24.541Z"
   },
   {
    "duration": 3,
    "start_time": "2021-11-15T20:59:34.954Z"
   },
   {
    "duration": 267,
    "start_time": "2021-11-15T20:59:34.964Z"
   },
   {
    "duration": 24,
    "start_time": "2021-11-15T20:59:35.233Z"
   },
   {
    "duration": 19,
    "start_time": "2021-11-15T20:59:35.259Z"
   },
   {
    "duration": 15,
    "start_time": "2021-11-15T20:59:35.280Z"
   },
   {
    "duration": 11,
    "start_time": "2021-11-15T20:59:35.296Z"
   },
   {
    "duration": 41,
    "start_time": "2021-11-15T20:59:35.309Z"
   },
   {
    "duration": 35,
    "start_time": "2021-11-15T20:59:35.351Z"
   },
   {
    "duration": 18,
    "start_time": "2021-11-15T20:59:35.388Z"
   },
   {
    "duration": 35,
    "start_time": "2021-11-15T20:59:35.409Z"
   },
   {
    "duration": 81,
    "start_time": "2021-11-15T20:59:35.446Z"
   },
   {
    "duration": 37,
    "start_time": "2021-11-15T20:59:35.529Z"
   },
   {
    "duration": 32,
    "start_time": "2021-11-15T20:59:35.568Z"
   },
   {
    "duration": 78,
    "start_time": "2021-11-15T20:59:35.602Z"
   },
   {
    "duration": 27,
    "start_time": "2021-11-15T20:59:35.681Z"
   },
   {
    "duration": 40,
    "start_time": "2021-11-15T20:59:35.709Z"
   },
   {
    "duration": 44,
    "start_time": "2021-11-15T20:59:35.751Z"
   },
   {
    "duration": 48,
    "start_time": "2021-11-15T20:59:35.797Z"
   },
   {
    "duration": 24,
    "start_time": "2021-11-15T20:59:35.848Z"
   },
   {
    "duration": 24,
    "start_time": "2021-11-15T20:59:35.874Z"
   },
   {
    "duration": 51,
    "start_time": "2021-11-15T20:59:35.900Z"
   },
   {
    "duration": 17,
    "start_time": "2021-11-15T20:59:35.954Z"
   },
   {
    "duration": 7015,
    "start_time": "2021-11-15T20:59:39.550Z"
   },
   {
    "duration": 21,
    "start_time": "2021-11-15T20:59:59.413Z"
   },
   {
    "duration": 21,
    "start_time": "2021-11-15T21:00:30.460Z"
   },
   {
    "duration": 3,
    "start_time": "2021-11-15T21:02:06.999Z"
   },
   {
    "duration": 273,
    "start_time": "2021-11-15T21:02:07.010Z"
   },
   {
    "duration": 22,
    "start_time": "2021-11-15T21:02:07.285Z"
   },
   {
    "duration": 20,
    "start_time": "2021-11-15T21:02:07.309Z"
   },
   {
    "duration": 16,
    "start_time": "2021-11-15T21:02:07.331Z"
   },
   {
    "duration": 11,
    "start_time": "2021-11-15T21:02:07.349Z"
   },
   {
    "duration": 14,
    "start_time": "2021-11-15T21:02:07.362Z"
   },
   {
    "duration": 35,
    "start_time": "2021-11-15T21:02:07.378Z"
   },
   {
    "duration": 45,
    "start_time": "2021-11-15T21:02:07.415Z"
   },
   {
    "duration": 10,
    "start_time": "2021-11-15T21:02:07.462Z"
   },
   {
    "duration": 87,
    "start_time": "2021-11-15T21:02:07.474Z"
   },
   {
    "duration": 31,
    "start_time": "2021-11-15T21:02:08.384Z"
   },
   {
    "duration": 29,
    "start_time": "2021-11-15T21:02:08.417Z"
   },
   {
    "duration": 51,
    "start_time": "2021-11-15T21:02:08.449Z"
   },
   {
    "duration": 24,
    "start_time": "2021-11-15T21:02:08.501Z"
   },
   {
    "duration": 36,
    "start_time": "2021-11-15T21:02:08.526Z"
   },
   {
    "duration": 46,
    "start_time": "2021-11-15T21:02:08.563Z"
   },
   {
    "duration": 51,
    "start_time": "2021-11-15T21:02:08.611Z"
   },
   {
    "duration": 23,
    "start_time": "2021-11-15T21:02:08.664Z"
   },
   {
    "duration": 23,
    "start_time": "2021-11-15T21:02:08.688Z"
   },
   {
    "duration": 51,
    "start_time": "2021-11-15T21:02:08.713Z"
   },
   {
    "duration": 17,
    "start_time": "2021-11-15T21:02:08.766Z"
   },
   {
    "duration": 19,
    "start_time": "2021-11-15T21:02:08.785Z"
   },
   {
    "duration": 209,
    "start_time": "2021-11-15T21:02:09.661Z"
   },
   {
    "duration": 155,
    "start_time": "2021-11-15T21:02:09.872Z"
   },
   {
    "duration": 17,
    "start_time": "2021-11-15T21:02:10.029Z"
   },
   {
    "duration": 20,
    "start_time": "2021-11-15T21:02:10.048Z"
   },
   {
    "duration": 180,
    "start_time": "2021-11-15T21:02:10.070Z"
   },
   {
    "duration": 9,
    "start_time": "2021-11-15T21:02:10.252Z"
   },
   {
    "duration": 184,
    "start_time": "2021-11-15T21:02:10.262Z"
   },
   {
    "duration": 200,
    "start_time": "2021-11-15T21:02:10.449Z"
   },
   {
    "duration": 12,
    "start_time": "2021-11-15T21:02:10.651Z"
   },
   {
    "duration": 184,
    "start_time": "2021-11-15T21:02:10.664Z"
   },
   {
    "duration": 189,
    "start_time": "2021-11-15T21:02:10.849Z"
   },
   {
    "duration": 144,
    "start_time": "2021-11-15T21:02:11.040Z"
   },
   {
    "duration": 5,
    "start_time": "2021-11-15T21:02:11.186Z"
   },
   {
    "duration": 18,
    "start_time": "2021-11-15T21:02:11.192Z"
   },
   {
    "duration": 201,
    "start_time": "2021-11-15T21:02:11.212Z"
   },
   {
    "duration": 194,
    "start_time": "2021-11-15T21:02:11.414Z"
   },
   {
    "duration": 9,
    "start_time": "2021-11-15T21:02:11.610Z"
   },
   {
    "duration": 26,
    "start_time": "2021-11-15T21:02:11.621Z"
   },
   {
    "duration": 139,
    "start_time": "2021-11-15T21:03:07.402Z"
   },
   {
    "duration": 133,
    "start_time": "2021-11-15T21:03:22.605Z"
   },
   {
    "duration": 139,
    "start_time": "2021-11-15T21:03:31.027Z"
   },
   {
    "duration": 129,
    "start_time": "2021-11-15T21:03:46.690Z"
   },
   {
    "duration": 124,
    "start_time": "2021-11-15T21:03:54.926Z"
   },
   {
    "duration": 5,
    "start_time": "2021-11-15T21:04:04.792Z"
   },
   {
    "duration": 10,
    "start_time": "2021-11-15T21:04:09.565Z"
   },
   {
    "duration": 159,
    "start_time": "2021-11-15T21:04:17.310Z"
   },
   {
    "duration": 10,
    "start_time": "2021-11-15T21:04:22.247Z"
   },
   {
    "duration": 241,
    "start_time": "2021-11-15T21:04:22.926Z"
   },
   {
    "duration": 126,
    "start_time": "2021-11-15T21:04:38.263Z"
   },
   {
    "duration": 118,
    "start_time": "2021-11-15T21:04:53.778Z"
   },
   {
    "duration": 12,
    "start_time": "2021-11-15T21:05:08.465Z"
   },
   {
    "duration": 175,
    "start_time": "2021-11-15T21:05:12.438Z"
   },
   {
    "duration": 215,
    "start_time": "2021-11-15T21:05:17.101Z"
   },
   {
    "duration": 130,
    "start_time": "2021-11-15T21:05:29.529Z"
   },
   {
    "duration": 133,
    "start_time": "2021-11-15T21:05:34.113Z"
   },
   {
    "duration": 124,
    "start_time": "2021-11-15T21:05:39.720Z"
   },
   {
    "duration": 125,
    "start_time": "2021-11-15T21:05:44.398Z"
   },
   {
    "duration": 5,
    "start_time": "2021-11-15T21:05:49.151Z"
   },
   {
    "duration": 10,
    "start_time": "2021-11-15T21:05:52.412Z"
   },
   {
    "duration": 161,
    "start_time": "2021-11-15T21:05:53.170Z"
   },
   {
    "duration": 218,
    "start_time": "2021-11-15T21:06:17.111Z"
   }
  ],
  "kernelspec": {
   "display_name": "Python 3 (ipykernel)",
   "language": "python",
   "name": "python3"
  },
  "language_info": {
   "codemirror_mode": {
    "name": "ipython",
    "version": 3
   },
   "file_extension": ".py",
   "mimetype": "text/x-python",
   "name": "python",
   "nbconvert_exporter": "python",
   "pygments_lexer": "ipython3",
   "version": "3.9.12"
  },
  "toc": {
   "base_numbering": 1,
   "nav_menu": {},
   "number_sections": true,
   "sideBar": true,
   "skip_h1_title": true,
   "title_cell": "Table of Contents",
   "title_sidebar": "Contents",
   "toc_cell": false,
   "toc_position": {
    "height": "calc(100% - 180px)",
    "left": "10px",
    "top": "150px",
    "width": "205.594px"
   },
   "toc_section_display": true,
   "toc_window_display": true
  }
 },
 "nbformat": 4,
 "nbformat_minor": 2
}
